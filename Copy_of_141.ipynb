{
  "nbformat": 4,
  "nbformat_minor": 0,
  "metadata": {
    "colab": {
      "name": "Copy of 141.ipynb",
      "provenance": [],
      "collapsed_sections": [],
      "include_colab_link": true
    },
    "kernelspec": {
      "display_name": "Python 3",
      "language": "python",
      "name": "python3"
    },
    "language_info": {
      "codemirror_mode": {
        "name": "ipython",
        "version": 3
      },
      "file_extension": ".py",
      "mimetype": "text/x-python",
      "name": "python",
      "nbconvert_exporter": "python",
      "pygments_lexer": "ipython3",
      "version": "3.8.5"
    }
  },
  "cells": [
    {
      "cell_type": "markdown",
      "metadata": {
        "id": "view-in-github",
        "colab_type": "text"
      },
      "source": [
        "<a href=\"https://colab.research.google.com/github/rukayah/Amazon_Project/blob/main/Copy_of_141.ipynb\" target=\"_parent\"><img src=\"https://colab.research.google.com/assets/colab-badge.svg\" alt=\"Open In Colab\"/></a>"
      ]
    },
    {
      "cell_type": "markdown",
      "metadata": {
        "id": "-npJzUlfAFOS"
      },
      "source": [
        "# Capstone Project"
      ]
    },
    {
      "cell_type": "markdown",
      "metadata": {
        "id": "xFlQ3KEkAFOT"
      },
      "source": [
        "## Background"
      ]
    },
    {
      "cell_type": "markdown",
      "metadata": {
        "id": "xHKvPOIpAFOU"
      },
      "source": [
        "We are glad you have successfully reached the capstone project part of \"Data Science Fundamentals\" course. You will put everything \n",
        "you have learned so far about data science to work. The outcome of this module should potentially serve as your portfolio item.\n",
        "\n",
        "Unlike with previous projects, this time you are free to choose a dataset to explore from three suggested ones. As you will have to solve a provided problem, there will not be list of predefined questions that you have to answer - be creative and explore any dimensions of data you deem worth analyzing.\n",
        "\n",
        "Although this might seem scary, this is how data science looks like in the industry. Often, it's your responsibility to not only give answers using the data, but also raise questions. The more creatively you look at this project, the better. Good luck!"
      ]
    },
    {
      "cell_type": "markdown",
      "metadata": {
        "id": "E7orKFF6AFOU"
      },
      "source": [
        "----"
      ]
    },
    {
      "cell_type": "markdown",
      "metadata": {
        "id": "BQXKeQRTAFOV"
      },
      "source": [
        "## Requirements\n",
        "\n",
        "Whichever problem you choose to analyze, general requirements are as follow:\n",
        "\n",
        "#### Exploratory Data Analysis\n",
        "* Describe the data with basic statistical parameters - mean, median, quantiles, etc. Use parameters that give you the most important statistical insights of the data.\n",
        "* Grouping the data and analyzing the groups - using Pandas aggregate methods.\n",
        "* Work with features - handle missing data if needed, use pandas date APIs.\n",
        "* Manipulate datasets - use joins in needed.\n",
        "* Visualize the data - you can use line, scatter, histogram plots, density plots, regplots, etc.\n",
        "\n",
        "#### Statistical hypothesis testing\n",
        "* Use at least one statistical significance test.\n",
        "* Report p-values.\n",
        "* Use visualizations.\n",
        "\n",
        "#### Modeling\n",
        "* Visualize data with dimensionality reduction algorithms.\n",
        "* Perform cluster analysis.\n",
        "* Use a linear model to explain relationships and predict new values.\n",
        "\n",
        "#### Presentation\n",
        "* Present the project - the data, methods and results."
      ]
    },
    {
      "cell_type": "markdown",
      "metadata": {
        "id": "HF0jHJh5AFOW"
      },
      "source": [
        "## Problems"
      ]
    },
    {
      "cell_type": "markdown",
      "metadata": {
        "id": "qJJd82pTAFOW"
      },
      "source": [
        "#### COVID-19 crisis "
      ]
    },
    {
      "cell_type": "markdown",
      "metadata": {
        "id": "oyrKgiUCAFOW"
      },
      "source": [
        "<div><img width=\"400px\" height=\"auto\" src=\"https://images.unsplash.com/photo-1574515944794-d6dedc7150de?ixlib=rb-1.2.1&ixid=MXwxMjA3fDB8MHxwaG90by1wYWdlfHx8fGVufDB8fHw%3D&auto=format&fit=crop&w=1532&q=80\" /></div>"
      ]
    },
    {
      "cell_type": "markdown",
      "metadata": {
        "id": "eWHcVcu5AFOX"
      },
      "source": [
        "The world is still struggling with one the most rapidly spreading pandemics. There are a lot of people who say that data is the best weapon we can use in this \"Corona Fight\". \n",
        "\n",
        "Imagine that you are one of the best data scientists in your country. The president of your country asked you to analyze the COVID-19 patient-level data of South Korea and prepare your homeland for the next wave of the pandemic. You, as the lead data scientist of your country **have to create and prove a plan of fighting the pandemics in your country** by analyzing the provided data. You must get most important insights using learned data science techniques and present them to the lead of your country."
      ]
    },
    {
      "cell_type": "markdown",
      "metadata": {
        "id": "SDL5NA5DAFOX"
      },
      "source": [
        "https://www.kaggle.com/kimjihoo/coronavirusdataset/"
      ]
    },
    {
      "cell_type": "markdown",
      "metadata": {
        "id": "3OFCiiu0XABm"
      },
      "source": [
        "# The coronavirusdataset contains tables of data describing different events relating to the pandemic in South Korea. Case data, patient data, time series data and weather data are some of the table of data provided by the KCDC (Korean centers for Disease Control and Prevention). We would start by exploring some of these datasets for insights then modelling."
      ]
    },
    {
      "cell_type": "markdown",
      "metadata": {
        "id": "yi3u0ecgAzjO"
      },
      "source": [
        "# **Import packages from python**"
      ]
    },
    {
      "cell_type": "code",
      "metadata": {
        "id": "DogC8NL6Awac",
        "colab": {
          "base_uri": "https://localhost:8080/"
        },
        "outputId": "00a34f68-ff40-4061-9e7e-28df3703ddbf"
      },
      "source": [
        "import pandas as pd\n",
        "import numpy as np\n",
        "import matplotlib\n",
        "import matplotlib.pyplot as plt\n",
        "import seaborn as sns\n",
        "%matplotlib inline\n",
        "import plotly.express as px\n",
        "from datetime import datetime\n",
        "import math\n",
        "from scipy.stats import norm\n",
        "from statsmodels.stats.proportion import proportions_ztest, proportion_confint\n",
        "#from statsmodels.stats import weightstats as stests\n",
        "from sklearn.model_selection import train_test_split\n",
        "from sklearn.linear_model import LogisticRegression\n",
        "from sklearn.metrics import accuracy_score\n",
        "from sklearn.preprocessing import LabelEncoder\n",
        "from sklearn.metrics import silhouette_score\n",
        "from sklearn.decomposition import PCA\n",
        "from sklearn.cluster import KMeans"
      ],
      "execution_count": 1,
      "outputs": [
        {
          "output_type": "stream",
          "text": [
            "/usr/local/lib/python3.7/dist-packages/statsmodels/tools/_testing.py:19: FutureWarning:\n",
            "\n",
            "pandas.util.testing is deprecated. Use the functions in the public API at pandas.testing instead.\n",
            "\n"
          ],
          "name": "stderr"
        }
      ]
    },
    {
      "cell_type": "markdown",
      "metadata": {
        "id": "mHe2FQ7RXohb"
      },
      "source": [
        "# Read the data"
      ]
    },
    {
      "cell_type": "code",
      "metadata": {
        "id": "9ODSMcjfVG7N"
      },
      "source": [
        "case = pd.read_csv('Case.csv') #Data of COVID-19 infection cases in South Korea\n",
        "patient = pd.read_csv('PatientInfo.csv') #Epidemiological data of COVID-19 patients in South Korea\n",
        "time = pd.read_csv('Time.csv') #parse_dates=True) #Time series data of covid-19 status in south korea\n",
        "timea = pd.read_csv('TimeAge.csv') #Time series data of COVID-19 status in terms of age in South Korea\n",
        "timeg = pd.read_csv('TimeGender.csv') #Time series data of COVID-19 status in terms of gender in South Korea\n",
        "timep = pd.read_csv('TimeProvince.csv') #Time series data of COVID-19 status in terms of province in South Korea\n"
      ],
      "execution_count": 2,
      "outputs": []
    },
    {
      "cell_type": "markdown",
      "metadata": {
        "id": "KC8BKos0lWLo"
      },
      "source": [
        "# Exploratory Data Analysis (EDA) on the case data table "
      ]
    },
    {
      "cell_type": "code",
      "metadata": {
        "id": "E8-N3T7NgC5f",
        "colab": {
          "base_uri": "https://localhost:8080/"
        },
        "outputId": "c2de7496-331a-4cc8-d8ed-e13aee573c2f"
      },
      "source": [
        "#Check for the number of rows and columns in the table\n",
        "case.shape "
      ],
      "execution_count": 3,
      "outputs": [
        {
          "output_type": "execute_result",
          "data": {
            "text/plain": [
              "(174, 8)"
            ]
          },
          "metadata": {
            "tags": []
          },
          "execution_count": 3
        }
      ]
    },
    {
      "cell_type": "code",
      "metadata": {
        "colab": {
          "base_uri": "https://localhost:8080/"
        },
        "id": "y9WCZLsyZnXX",
        "outputId": "3b83b28c-5a19-4be8-dbb2-782e07705e65"
      },
      "source": [
        "#Check for missing values\n",
        "case.isnull().sum()"
      ],
      "execution_count": 4,
      "outputs": [
        {
          "output_type": "execute_result",
          "data": {
            "text/plain": [
              " case_id          0\n",
              "province          0\n",
              "city              0\n",
              "group             0\n",
              "infection_case    0\n",
              "confirmed         0\n",
              "latitude          0\n",
              "longitude         0\n",
              "dtype: int64"
            ]
          },
          "metadata": {
            "tags": []
          },
          "execution_count": 4
        }
      ]
    },
    {
      "cell_type": "code",
      "metadata": {
        "colab": {
          "base_uri": "https://localhost:8080/",
          "height": 836
        },
        "id": "Wvoe0MD2ZywP",
        "outputId": "2f5f160f-8960-4679-e8c1-5e1585884565"
      },
      "source": [
        "# Find how much group infection case occured and the type of infection case by province\n",
        "pd.set_option('display.max_columns', None) # display all column value\n",
        "pd.set_option('display.max_rows', None) # display all row value\n",
        "pd.crosstab(case.province,[case.group,case.infection_case], margins=True, margins_name=\"Total\")"
      ],
      "execution_count": 5,
      "outputs": [
        {
          "output_type": "execute_result",
          "data": {
            "text/html": [
              "<div>\n",
              "<style scoped>\n",
              "    .dataframe tbody tr th:only-of-type {\n",
              "        vertical-align: middle;\n",
              "    }\n",
              "\n",
              "    .dataframe tbody tr th {\n",
              "        vertical-align: top;\n",
              "    }\n",
              "\n",
              "    .dataframe thead tr th {\n",
              "        text-align: left;\n",
              "    }\n",
              "\n",
              "    .dataframe thead tr:last-of-type th {\n",
              "        text-align: right;\n",
              "    }\n",
              "</style>\n",
              "<table border=\"1\" class=\"dataframe\">\n",
              "  <thead>\n",
              "    <tr>\n",
              "      <th>group</th>\n",
              "      <th colspan=\"3\" halign=\"left\">False</th>\n",
              "      <th colspan=\"78\" halign=\"left\">True</th>\n",
              "      <th>Total</th>\n",
              "    </tr>\n",
              "    <tr>\n",
              "      <th>infection_case</th>\n",
              "      <th>contact with patient</th>\n",
              "      <th>etc</th>\n",
              "      <th>overseas inflow</th>\n",
              "      <th>Anyang Gunpo Pastors Group</th>\n",
              "      <th>Biblical Language study meeting</th>\n",
              "      <th>Bonghwa Pureun Nursing Home</th>\n",
              "      <th>Bundang Jesaeng Hospital</th>\n",
              "      <th>Changnyeong Coin Karaoke</th>\n",
              "      <th>Cheongdo Daenam Hospital</th>\n",
              "      <th>Coupang Logistics Center</th>\n",
              "      <th>Daejeon door-to-door sales</th>\n",
              "      <th>Daesil Convalescent Hospital</th>\n",
              "      <th>Daezayeon Korea</th>\n",
              "      <th>Day Care Center</th>\n",
              "      <th>Dongan Church</th>\n",
              "      <th>Door-to-door sales in Daejeon</th>\n",
              "      <th>Dreaming Church</th>\n",
              "      <th>Dunsan Electronics Town</th>\n",
              "      <th>Eunpyeong St. Mary's Hospital</th>\n",
              "      <th>Eunpyeong-Boksagol culture center</th>\n",
              "      <th>Fatima Hospital</th>\n",
              "      <th>Gangnam Dongin Church</th>\n",
              "      <th>Gangnam Yeoksam-dong gathering</th>\n",
              "      <th>Geochang Church</th>\n",
              "      <th>Geochang-gun Woongyang-myeon</th>\n",
              "      <th>Geumcheon-gu rice milling machine manufacture</th>\n",
              "      <th>Goesan-gun Jangyeon-myeon</th>\n",
              "      <th>Gumi Elim Church</th>\n",
              "      <th>Guri Collective Infection</th>\n",
              "      <th>Guro-gu Call Center</th>\n",
              "      <th>Gwangneuksa Temple</th>\n",
              "      <th>Gyeongsan Cham Joeun Community Center</th>\n",
              "      <th>Gyeongsan Jeil Silver Town</th>\n",
              "      <th>Gyeongsan Seorin Nursing Home</th>\n",
              "      <th>Haeundae-gu Catholic Church</th>\n",
              "      <th>Hanmaeum Changwon Hospital</th>\n",
              "      <th>Hansarang Convalescent Hospital</th>\n",
              "      <th>Itaewon Clubs</th>\n",
              "      <th>Jin-gu Academy</th>\n",
              "      <th>Jongno Community Center</th>\n",
              "      <th>Jung-gu Fashion Company</th>\n",
              "      <th>KB Life Insurance</th>\n",
              "      <th>Korea Campus Crusade of Christ</th>\n",
              "      <th>Korea Forest Engineer Institute</th>\n",
              "      <th>Lord Glory Church</th>\n",
              "      <th>Lotte Confectionery logistics center</th>\n",
              "      <th>Manmin Central Church</th>\n",
              "      <th>Milal Shelter</th>\n",
              "      <th>Ministry of Oceans and Fisheries</th>\n",
              "      <th>Onchun Church</th>\n",
              "      <th>Orange Life</th>\n",
              "      <th>Orange Town</th>\n",
              "      <th>Pilgrimage to Israel</th>\n",
              "      <th>Richway</th>\n",
              "      <th>River of Grace Community Church</th>\n",
              "      <th>SJ Investment Call Center</th>\n",
              "      <th>SMR Newly Planted Churches Group</th>\n",
              "      <th>Samsung Fire &amp; Marine Insurance</th>\n",
              "      <th>Samsung Medical Center</th>\n",
              "      <th>Second Mi-Ju Hospital</th>\n",
              "      <th>Seocho Family</th>\n",
              "      <th>Seongdong-gu APT</th>\n",
              "      <th>Seongnam neighbors gathering</th>\n",
              "      <th>Seosan-si Laboratory</th>\n",
              "      <th>Seoul City Hall Station safety worker</th>\n",
              "      <th>Shincheonji Church</th>\n",
              "      <th>Soso Seowon</th>\n",
              "      <th>Suwon Saeng Myeong Saem Church</th>\n",
              "      <th>Suyeong-gu Kindergarten</th>\n",
              "      <th>Uijeongbu St. Mary’s Hospital</th>\n",
              "      <th>Uiwang Logistics Center</th>\n",
              "      <th>Wangsung Church</th>\n",
              "      <th>Wings Tower</th>\n",
              "      <th>Wonju-si Apartments</th>\n",
              "      <th>Yangcheon Table Tennis Club</th>\n",
              "      <th>Yechun-gun</th>\n",
              "      <th>Yeonana News Class</th>\n",
              "      <th>Yeongdeungpo Learning Institute</th>\n",
              "      <th>Yongin Brothers</th>\n",
              "      <th>gym facility in Cheonan</th>\n",
              "      <th>gym facility in Sejong</th>\n",
              "      <th></th>\n",
              "    </tr>\n",
              "    <tr>\n",
              "      <th>province</th>\n",
              "      <th></th>\n",
              "      <th></th>\n",
              "      <th></th>\n",
              "      <th></th>\n",
              "      <th></th>\n",
              "      <th></th>\n",
              "      <th></th>\n",
              "      <th></th>\n",
              "      <th></th>\n",
              "      <th></th>\n",
              "      <th></th>\n",
              "      <th></th>\n",
              "      <th></th>\n",
              "      <th></th>\n",
              "      <th></th>\n",
              "      <th></th>\n",
              "      <th></th>\n",
              "      <th></th>\n",
              "      <th></th>\n",
              "      <th></th>\n",
              "      <th></th>\n",
              "      <th></th>\n",
              "      <th></th>\n",
              "      <th></th>\n",
              "      <th></th>\n",
              "      <th></th>\n",
              "      <th></th>\n",
              "      <th></th>\n",
              "      <th></th>\n",
              "      <th></th>\n",
              "      <th></th>\n",
              "      <th></th>\n",
              "      <th></th>\n",
              "      <th></th>\n",
              "      <th></th>\n",
              "      <th></th>\n",
              "      <th></th>\n",
              "      <th></th>\n",
              "      <th></th>\n",
              "      <th></th>\n",
              "      <th></th>\n",
              "      <th></th>\n",
              "      <th></th>\n",
              "      <th></th>\n",
              "      <th></th>\n",
              "      <th></th>\n",
              "      <th></th>\n",
              "      <th></th>\n",
              "      <th></th>\n",
              "      <th></th>\n",
              "      <th></th>\n",
              "      <th></th>\n",
              "      <th></th>\n",
              "      <th></th>\n",
              "      <th></th>\n",
              "      <th></th>\n",
              "      <th></th>\n",
              "      <th></th>\n",
              "      <th></th>\n",
              "      <th></th>\n",
              "      <th></th>\n",
              "      <th></th>\n",
              "      <th></th>\n",
              "      <th></th>\n",
              "      <th></th>\n",
              "      <th></th>\n",
              "      <th></th>\n",
              "      <th></th>\n",
              "      <th></th>\n",
              "      <th></th>\n",
              "      <th></th>\n",
              "      <th></th>\n",
              "      <th></th>\n",
              "      <th></th>\n",
              "      <th></th>\n",
              "      <th></th>\n",
              "      <th></th>\n",
              "      <th></th>\n",
              "      <th></th>\n",
              "      <th></th>\n",
              "      <th></th>\n",
              "      <th></th>\n",
              "    </tr>\n",
              "  </thead>\n",
              "  <tbody>\n",
              "    <tr>\n",
              "      <th>Busan</th>\n",
              "      <td>1</td>\n",
              "      <td>1</td>\n",
              "      <td>1</td>\n",
              "      <td>0</td>\n",
              "      <td>0</td>\n",
              "      <td>0</td>\n",
              "      <td>0</td>\n",
              "      <td>0</td>\n",
              "      <td>1</td>\n",
              "      <td>0</td>\n",
              "      <td>0</td>\n",
              "      <td>0</td>\n",
              "      <td>0</td>\n",
              "      <td>0</td>\n",
              "      <td>0</td>\n",
              "      <td>0</td>\n",
              "      <td>0</td>\n",
              "      <td>0</td>\n",
              "      <td>0</td>\n",
              "      <td>0</td>\n",
              "      <td>0</td>\n",
              "      <td>0</td>\n",
              "      <td>0</td>\n",
              "      <td>0</td>\n",
              "      <td>0</td>\n",
              "      <td>0</td>\n",
              "      <td>0</td>\n",
              "      <td>0</td>\n",
              "      <td>0</td>\n",
              "      <td>0</td>\n",
              "      <td>0</td>\n",
              "      <td>0</td>\n",
              "      <td>0</td>\n",
              "      <td>0</td>\n",
              "      <td>1</td>\n",
              "      <td>0</td>\n",
              "      <td>0</td>\n",
              "      <td>1</td>\n",
              "      <td>1</td>\n",
              "      <td>0</td>\n",
              "      <td>0</td>\n",
              "      <td>0</td>\n",
              "      <td>0</td>\n",
              "      <td>0</td>\n",
              "      <td>0</td>\n",
              "      <td>0</td>\n",
              "      <td>0</td>\n",
              "      <td>0</td>\n",
              "      <td>0</td>\n",
              "      <td>1</td>\n",
              "      <td>0</td>\n",
              "      <td>0</td>\n",
              "      <td>0</td>\n",
              "      <td>0</td>\n",
              "      <td>0</td>\n",
              "      <td>0</td>\n",
              "      <td>0</td>\n",
              "      <td>0</td>\n",
              "      <td>0</td>\n",
              "      <td>0</td>\n",
              "      <td>0</td>\n",
              "      <td>0</td>\n",
              "      <td>0</td>\n",
              "      <td>0</td>\n",
              "      <td>0</td>\n",
              "      <td>1</td>\n",
              "      <td>0</td>\n",
              "      <td>0</td>\n",
              "      <td>1</td>\n",
              "      <td>0</td>\n",
              "      <td>0</td>\n",
              "      <td>0</td>\n",
              "      <td>0</td>\n",
              "      <td>0</td>\n",
              "      <td>0</td>\n",
              "      <td>0</td>\n",
              "      <td>0</td>\n",
              "      <td>0</td>\n",
              "      <td>0</td>\n",
              "      <td>0</td>\n",
              "      <td>0</td>\n",
              "      <td>10</td>\n",
              "    </tr>\n",
              "    <tr>\n",
              "      <th>Chungcheongbuk-do</th>\n",
              "      <td>1</td>\n",
              "      <td>1</td>\n",
              "      <td>1</td>\n",
              "      <td>0</td>\n",
              "      <td>0</td>\n",
              "      <td>0</td>\n",
              "      <td>0</td>\n",
              "      <td>0</td>\n",
              "      <td>0</td>\n",
              "      <td>0</td>\n",
              "      <td>0</td>\n",
              "      <td>0</td>\n",
              "      <td>0</td>\n",
              "      <td>0</td>\n",
              "      <td>0</td>\n",
              "      <td>0</td>\n",
              "      <td>0</td>\n",
              "      <td>0</td>\n",
              "      <td>0</td>\n",
              "      <td>0</td>\n",
              "      <td>0</td>\n",
              "      <td>0</td>\n",
              "      <td>0</td>\n",
              "      <td>0</td>\n",
              "      <td>0</td>\n",
              "      <td>0</td>\n",
              "      <td>1</td>\n",
              "      <td>0</td>\n",
              "      <td>0</td>\n",
              "      <td>1</td>\n",
              "      <td>0</td>\n",
              "      <td>0</td>\n",
              "      <td>0</td>\n",
              "      <td>0</td>\n",
              "      <td>0</td>\n",
              "      <td>0</td>\n",
              "      <td>0</td>\n",
              "      <td>1</td>\n",
              "      <td>0</td>\n",
              "      <td>0</td>\n",
              "      <td>0</td>\n",
              "      <td>0</td>\n",
              "      <td>0</td>\n",
              "      <td>0</td>\n",
              "      <td>0</td>\n",
              "      <td>0</td>\n",
              "      <td>0</td>\n",
              "      <td>0</td>\n",
              "      <td>0</td>\n",
              "      <td>0</td>\n",
              "      <td>0</td>\n",
              "      <td>0</td>\n",
              "      <td>0</td>\n",
              "      <td>0</td>\n",
              "      <td>0</td>\n",
              "      <td>0</td>\n",
              "      <td>0</td>\n",
              "      <td>0</td>\n",
              "      <td>0</td>\n",
              "      <td>0</td>\n",
              "      <td>0</td>\n",
              "      <td>0</td>\n",
              "      <td>0</td>\n",
              "      <td>0</td>\n",
              "      <td>0</td>\n",
              "      <td>1</td>\n",
              "      <td>0</td>\n",
              "      <td>0</td>\n",
              "      <td>0</td>\n",
              "      <td>0</td>\n",
              "      <td>0</td>\n",
              "      <td>0</td>\n",
              "      <td>0</td>\n",
              "      <td>0</td>\n",
              "      <td>0</td>\n",
              "      <td>0</td>\n",
              "      <td>0</td>\n",
              "      <td>0</td>\n",
              "      <td>0</td>\n",
              "      <td>0</td>\n",
              "      <td>0</td>\n",
              "      <td>7</td>\n",
              "    </tr>\n",
              "    <tr>\n",
              "      <th>Chungcheongnam-do</th>\n",
              "      <td>1</td>\n",
              "      <td>1</td>\n",
              "      <td>1</td>\n",
              "      <td>0</td>\n",
              "      <td>0</td>\n",
              "      <td>0</td>\n",
              "      <td>0</td>\n",
              "      <td>0</td>\n",
              "      <td>0</td>\n",
              "      <td>0</td>\n",
              "      <td>0</td>\n",
              "      <td>0</td>\n",
              "      <td>0</td>\n",
              "      <td>0</td>\n",
              "      <td>0</td>\n",
              "      <td>1</td>\n",
              "      <td>0</td>\n",
              "      <td>0</td>\n",
              "      <td>0</td>\n",
              "      <td>1</td>\n",
              "      <td>0</td>\n",
              "      <td>0</td>\n",
              "      <td>0</td>\n",
              "      <td>0</td>\n",
              "      <td>0</td>\n",
              "      <td>0</td>\n",
              "      <td>0</td>\n",
              "      <td>0</td>\n",
              "      <td>0</td>\n",
              "      <td>0</td>\n",
              "      <td>0</td>\n",
              "      <td>0</td>\n",
              "      <td>0</td>\n",
              "      <td>0</td>\n",
              "      <td>0</td>\n",
              "      <td>0</td>\n",
              "      <td>0</td>\n",
              "      <td>0</td>\n",
              "      <td>0</td>\n",
              "      <td>0</td>\n",
              "      <td>0</td>\n",
              "      <td>0</td>\n",
              "      <td>0</td>\n",
              "      <td>0</td>\n",
              "      <td>0</td>\n",
              "      <td>0</td>\n",
              "      <td>0</td>\n",
              "      <td>0</td>\n",
              "      <td>0</td>\n",
              "      <td>0</td>\n",
              "      <td>0</td>\n",
              "      <td>0</td>\n",
              "      <td>0</td>\n",
              "      <td>1</td>\n",
              "      <td>0</td>\n",
              "      <td>0</td>\n",
              "      <td>0</td>\n",
              "      <td>0</td>\n",
              "      <td>0</td>\n",
              "      <td>0</td>\n",
              "      <td>0</td>\n",
              "      <td>0</td>\n",
              "      <td>0</td>\n",
              "      <td>1</td>\n",
              "      <td>0</td>\n",
              "      <td>0</td>\n",
              "      <td>0</td>\n",
              "      <td>0</td>\n",
              "      <td>0</td>\n",
              "      <td>0</td>\n",
              "      <td>0</td>\n",
              "      <td>0</td>\n",
              "      <td>0</td>\n",
              "      <td>0</td>\n",
              "      <td>0</td>\n",
              "      <td>0</td>\n",
              "      <td>0</td>\n",
              "      <td>0</td>\n",
              "      <td>0</td>\n",
              "      <td>1</td>\n",
              "      <td>0</td>\n",
              "      <td>8</td>\n",
              "    </tr>\n",
              "    <tr>\n",
              "      <th>Daegu</th>\n",
              "      <td>1</td>\n",
              "      <td>1</td>\n",
              "      <td>1</td>\n",
              "      <td>0</td>\n",
              "      <td>0</td>\n",
              "      <td>0</td>\n",
              "      <td>0</td>\n",
              "      <td>0</td>\n",
              "      <td>1</td>\n",
              "      <td>0</td>\n",
              "      <td>0</td>\n",
              "      <td>1</td>\n",
              "      <td>0</td>\n",
              "      <td>0</td>\n",
              "      <td>0</td>\n",
              "      <td>0</td>\n",
              "      <td>0</td>\n",
              "      <td>0</td>\n",
              "      <td>0</td>\n",
              "      <td>0</td>\n",
              "      <td>1</td>\n",
              "      <td>0</td>\n",
              "      <td>0</td>\n",
              "      <td>0</td>\n",
              "      <td>0</td>\n",
              "      <td>0</td>\n",
              "      <td>0</td>\n",
              "      <td>0</td>\n",
              "      <td>0</td>\n",
              "      <td>0</td>\n",
              "      <td>0</td>\n",
              "      <td>0</td>\n",
              "      <td>0</td>\n",
              "      <td>0</td>\n",
              "      <td>0</td>\n",
              "      <td>0</td>\n",
              "      <td>1</td>\n",
              "      <td>1</td>\n",
              "      <td>0</td>\n",
              "      <td>0</td>\n",
              "      <td>0</td>\n",
              "      <td>0</td>\n",
              "      <td>0</td>\n",
              "      <td>0</td>\n",
              "      <td>0</td>\n",
              "      <td>0</td>\n",
              "      <td>0</td>\n",
              "      <td>0</td>\n",
              "      <td>0</td>\n",
              "      <td>0</td>\n",
              "      <td>0</td>\n",
              "      <td>0</td>\n",
              "      <td>0</td>\n",
              "      <td>0</td>\n",
              "      <td>0</td>\n",
              "      <td>0</td>\n",
              "      <td>0</td>\n",
              "      <td>0</td>\n",
              "      <td>0</td>\n",
              "      <td>1</td>\n",
              "      <td>0</td>\n",
              "      <td>0</td>\n",
              "      <td>0</td>\n",
              "      <td>0</td>\n",
              "      <td>0</td>\n",
              "      <td>1</td>\n",
              "      <td>0</td>\n",
              "      <td>0</td>\n",
              "      <td>0</td>\n",
              "      <td>0</td>\n",
              "      <td>0</td>\n",
              "      <td>0</td>\n",
              "      <td>0</td>\n",
              "      <td>0</td>\n",
              "      <td>0</td>\n",
              "      <td>0</td>\n",
              "      <td>0</td>\n",
              "      <td>0</td>\n",
              "      <td>0</td>\n",
              "      <td>0</td>\n",
              "      <td>0</td>\n",
              "      <td>10</td>\n",
              "    </tr>\n",
              "    <tr>\n",
              "      <th>Daejeon</th>\n",
              "      <td>1</td>\n",
              "      <td>1</td>\n",
              "      <td>1</td>\n",
              "      <td>0</td>\n",
              "      <td>0</td>\n",
              "      <td>0</td>\n",
              "      <td>0</td>\n",
              "      <td>0</td>\n",
              "      <td>0</td>\n",
              "      <td>0</td>\n",
              "      <td>0</td>\n",
              "      <td>0</td>\n",
              "      <td>0</td>\n",
              "      <td>0</td>\n",
              "      <td>0</td>\n",
              "      <td>1</td>\n",
              "      <td>1</td>\n",
              "      <td>1</td>\n",
              "      <td>0</td>\n",
              "      <td>0</td>\n",
              "      <td>0</td>\n",
              "      <td>0</td>\n",
              "      <td>0</td>\n",
              "      <td>0</td>\n",
              "      <td>0</td>\n",
              "      <td>0</td>\n",
              "      <td>0</td>\n",
              "      <td>0</td>\n",
              "      <td>0</td>\n",
              "      <td>0</td>\n",
              "      <td>0</td>\n",
              "      <td>0</td>\n",
              "      <td>0</td>\n",
              "      <td>0</td>\n",
              "      <td>0</td>\n",
              "      <td>0</td>\n",
              "      <td>0</td>\n",
              "      <td>0</td>\n",
              "      <td>0</td>\n",
              "      <td>0</td>\n",
              "      <td>0</td>\n",
              "      <td>0</td>\n",
              "      <td>0</td>\n",
              "      <td>1</td>\n",
              "      <td>0</td>\n",
              "      <td>0</td>\n",
              "      <td>0</td>\n",
              "      <td>0</td>\n",
              "      <td>0</td>\n",
              "      <td>0</td>\n",
              "      <td>0</td>\n",
              "      <td>1</td>\n",
              "      <td>0</td>\n",
              "      <td>0</td>\n",
              "      <td>0</td>\n",
              "      <td>0</td>\n",
              "      <td>0</td>\n",
              "      <td>0</td>\n",
              "      <td>0</td>\n",
              "      <td>0</td>\n",
              "      <td>0</td>\n",
              "      <td>0</td>\n",
              "      <td>0</td>\n",
              "      <td>1</td>\n",
              "      <td>0</td>\n",
              "      <td>1</td>\n",
              "      <td>0</td>\n",
              "      <td>0</td>\n",
              "      <td>0</td>\n",
              "      <td>0</td>\n",
              "      <td>0</td>\n",
              "      <td>0</td>\n",
              "      <td>0</td>\n",
              "      <td>0</td>\n",
              "      <td>0</td>\n",
              "      <td>0</td>\n",
              "      <td>0</td>\n",
              "      <td>0</td>\n",
              "      <td>0</td>\n",
              "      <td>0</td>\n",
              "      <td>0</td>\n",
              "      <td>10</td>\n",
              "    </tr>\n",
              "    <tr>\n",
              "      <th>Gangwon-do</th>\n",
              "      <td>1</td>\n",
              "      <td>1</td>\n",
              "      <td>1</td>\n",
              "      <td>0</td>\n",
              "      <td>0</td>\n",
              "      <td>0</td>\n",
              "      <td>0</td>\n",
              "      <td>0</td>\n",
              "      <td>0</td>\n",
              "      <td>0</td>\n",
              "      <td>0</td>\n",
              "      <td>0</td>\n",
              "      <td>0</td>\n",
              "      <td>0</td>\n",
              "      <td>0</td>\n",
              "      <td>0</td>\n",
              "      <td>0</td>\n",
              "      <td>0</td>\n",
              "      <td>0</td>\n",
              "      <td>0</td>\n",
              "      <td>0</td>\n",
              "      <td>0</td>\n",
              "      <td>0</td>\n",
              "      <td>0</td>\n",
              "      <td>0</td>\n",
              "      <td>1</td>\n",
              "      <td>0</td>\n",
              "      <td>0</td>\n",
              "      <td>0</td>\n",
              "      <td>0</td>\n",
              "      <td>0</td>\n",
              "      <td>0</td>\n",
              "      <td>0</td>\n",
              "      <td>0</td>\n",
              "      <td>0</td>\n",
              "      <td>0</td>\n",
              "      <td>0</td>\n",
              "      <td>0</td>\n",
              "      <td>0</td>\n",
              "      <td>0</td>\n",
              "      <td>0</td>\n",
              "      <td>0</td>\n",
              "      <td>0</td>\n",
              "      <td>0</td>\n",
              "      <td>0</td>\n",
              "      <td>0</td>\n",
              "      <td>0</td>\n",
              "      <td>0</td>\n",
              "      <td>0</td>\n",
              "      <td>0</td>\n",
              "      <td>0</td>\n",
              "      <td>0</td>\n",
              "      <td>0</td>\n",
              "      <td>1</td>\n",
              "      <td>0</td>\n",
              "      <td>0</td>\n",
              "      <td>0</td>\n",
              "      <td>0</td>\n",
              "      <td>0</td>\n",
              "      <td>0</td>\n",
              "      <td>0</td>\n",
              "      <td>0</td>\n",
              "      <td>0</td>\n",
              "      <td>0</td>\n",
              "      <td>0</td>\n",
              "      <td>1</td>\n",
              "      <td>0</td>\n",
              "      <td>0</td>\n",
              "      <td>0</td>\n",
              "      <td>1</td>\n",
              "      <td>0</td>\n",
              "      <td>0</td>\n",
              "      <td>0</td>\n",
              "      <td>1</td>\n",
              "      <td>0</td>\n",
              "      <td>0</td>\n",
              "      <td>0</td>\n",
              "      <td>0</td>\n",
              "      <td>0</td>\n",
              "      <td>0</td>\n",
              "      <td>0</td>\n",
              "      <td>8</td>\n",
              "    </tr>\n",
              "    <tr>\n",
              "      <th>Gwangju</th>\n",
              "      <td>1</td>\n",
              "      <td>1</td>\n",
              "      <td>1</td>\n",
              "      <td>0</td>\n",
              "      <td>0</td>\n",
              "      <td>0</td>\n",
              "      <td>0</td>\n",
              "      <td>0</td>\n",
              "      <td>0</td>\n",
              "      <td>0</td>\n",
              "      <td>0</td>\n",
              "      <td>0</td>\n",
              "      <td>0</td>\n",
              "      <td>0</td>\n",
              "      <td>0</td>\n",
              "      <td>0</td>\n",
              "      <td>0</td>\n",
              "      <td>0</td>\n",
              "      <td>0</td>\n",
              "      <td>0</td>\n",
              "      <td>0</td>\n",
              "      <td>0</td>\n",
              "      <td>0</td>\n",
              "      <td>0</td>\n",
              "      <td>0</td>\n",
              "      <td>0</td>\n",
              "      <td>0</td>\n",
              "      <td>0</td>\n",
              "      <td>0</td>\n",
              "      <td>0</td>\n",
              "      <td>1</td>\n",
              "      <td>0</td>\n",
              "      <td>0</td>\n",
              "      <td>0</td>\n",
              "      <td>0</td>\n",
              "      <td>0</td>\n",
              "      <td>0</td>\n",
              "      <td>0</td>\n",
              "      <td>0</td>\n",
              "      <td>0</td>\n",
              "      <td>0</td>\n",
              "      <td>0</td>\n",
              "      <td>0</td>\n",
              "      <td>0</td>\n",
              "      <td>0</td>\n",
              "      <td>0</td>\n",
              "      <td>0</td>\n",
              "      <td>0</td>\n",
              "      <td>0</td>\n",
              "      <td>0</td>\n",
              "      <td>0</td>\n",
              "      <td>0</td>\n",
              "      <td>0</td>\n",
              "      <td>0</td>\n",
              "      <td>0</td>\n",
              "      <td>0</td>\n",
              "      <td>0</td>\n",
              "      <td>0</td>\n",
              "      <td>0</td>\n",
              "      <td>0</td>\n",
              "      <td>0</td>\n",
              "      <td>0</td>\n",
              "      <td>0</td>\n",
              "      <td>0</td>\n",
              "      <td>0</td>\n",
              "      <td>1</td>\n",
              "      <td>0</td>\n",
              "      <td>0</td>\n",
              "      <td>0</td>\n",
              "      <td>0</td>\n",
              "      <td>0</td>\n",
              "      <td>0</td>\n",
              "      <td>0</td>\n",
              "      <td>0</td>\n",
              "      <td>0</td>\n",
              "      <td>0</td>\n",
              "      <td>0</td>\n",
              "      <td>0</td>\n",
              "      <td>0</td>\n",
              "      <td>0</td>\n",
              "      <td>0</td>\n",
              "      <td>5</td>\n",
              "    </tr>\n",
              "    <tr>\n",
              "      <th>Gyeonggi-do</th>\n",
              "      <td>1</td>\n",
              "      <td>1</td>\n",
              "      <td>1</td>\n",
              "      <td>1</td>\n",
              "      <td>0</td>\n",
              "      <td>0</td>\n",
              "      <td>1</td>\n",
              "      <td>0</td>\n",
              "      <td>0</td>\n",
              "      <td>1</td>\n",
              "      <td>0</td>\n",
              "      <td>0</td>\n",
              "      <td>0</td>\n",
              "      <td>0</td>\n",
              "      <td>0</td>\n",
              "      <td>0</td>\n",
              "      <td>0</td>\n",
              "      <td>0</td>\n",
              "      <td>0</td>\n",
              "      <td>0</td>\n",
              "      <td>0</td>\n",
              "      <td>0</td>\n",
              "      <td>0</td>\n",
              "      <td>0</td>\n",
              "      <td>0</td>\n",
              "      <td>1</td>\n",
              "      <td>0</td>\n",
              "      <td>0</td>\n",
              "      <td>0</td>\n",
              "      <td>1</td>\n",
              "      <td>0</td>\n",
              "      <td>0</td>\n",
              "      <td>0</td>\n",
              "      <td>0</td>\n",
              "      <td>0</td>\n",
              "      <td>0</td>\n",
              "      <td>0</td>\n",
              "      <td>1</td>\n",
              "      <td>0</td>\n",
              "      <td>0</td>\n",
              "      <td>0</td>\n",
              "      <td>0</td>\n",
              "      <td>1</td>\n",
              "      <td>0</td>\n",
              "      <td>1</td>\n",
              "      <td>1</td>\n",
              "      <td>0</td>\n",
              "      <td>0</td>\n",
              "      <td>0</td>\n",
              "      <td>0</td>\n",
              "      <td>0</td>\n",
              "      <td>0</td>\n",
              "      <td>0</td>\n",
              "      <td>1</td>\n",
              "      <td>1</td>\n",
              "      <td>0</td>\n",
              "      <td>1</td>\n",
              "      <td>0</td>\n",
              "      <td>0</td>\n",
              "      <td>0</td>\n",
              "      <td>0</td>\n",
              "      <td>0</td>\n",
              "      <td>1</td>\n",
              "      <td>0</td>\n",
              "      <td>1</td>\n",
              "      <td>1</td>\n",
              "      <td>0</td>\n",
              "      <td>1</td>\n",
              "      <td>0</td>\n",
              "      <td>1</td>\n",
              "      <td>0</td>\n",
              "      <td>1</td>\n",
              "      <td>0</td>\n",
              "      <td>0</td>\n",
              "      <td>1</td>\n",
              "      <td>0</td>\n",
              "      <td>0</td>\n",
              "      <td>0</td>\n",
              "      <td>0</td>\n",
              "      <td>0</td>\n",
              "      <td>0</td>\n",
              "      <td>22</td>\n",
              "    </tr>\n",
              "    <tr>\n",
              "      <th>Gyeongsangbuk-do</th>\n",
              "      <td>1</td>\n",
              "      <td>1</td>\n",
              "      <td>1</td>\n",
              "      <td>0</td>\n",
              "      <td>0</td>\n",
              "      <td>1</td>\n",
              "      <td>0</td>\n",
              "      <td>0</td>\n",
              "      <td>1</td>\n",
              "      <td>0</td>\n",
              "      <td>0</td>\n",
              "      <td>0</td>\n",
              "      <td>0</td>\n",
              "      <td>0</td>\n",
              "      <td>0</td>\n",
              "      <td>0</td>\n",
              "      <td>0</td>\n",
              "      <td>0</td>\n",
              "      <td>0</td>\n",
              "      <td>0</td>\n",
              "      <td>0</td>\n",
              "      <td>0</td>\n",
              "      <td>0</td>\n",
              "      <td>0</td>\n",
              "      <td>0</td>\n",
              "      <td>0</td>\n",
              "      <td>0</td>\n",
              "      <td>1</td>\n",
              "      <td>0</td>\n",
              "      <td>0</td>\n",
              "      <td>0</td>\n",
              "      <td>1</td>\n",
              "      <td>1</td>\n",
              "      <td>1</td>\n",
              "      <td>0</td>\n",
              "      <td>0</td>\n",
              "      <td>0</td>\n",
              "      <td>0</td>\n",
              "      <td>0</td>\n",
              "      <td>0</td>\n",
              "      <td>0</td>\n",
              "      <td>0</td>\n",
              "      <td>0</td>\n",
              "      <td>0</td>\n",
              "      <td>0</td>\n",
              "      <td>0</td>\n",
              "      <td>0</td>\n",
              "      <td>1</td>\n",
              "      <td>0</td>\n",
              "      <td>0</td>\n",
              "      <td>0</td>\n",
              "      <td>0</td>\n",
              "      <td>1</td>\n",
              "      <td>0</td>\n",
              "      <td>0</td>\n",
              "      <td>0</td>\n",
              "      <td>0</td>\n",
              "      <td>0</td>\n",
              "      <td>0</td>\n",
              "      <td>0</td>\n",
              "      <td>0</td>\n",
              "      <td>0</td>\n",
              "      <td>0</td>\n",
              "      <td>0</td>\n",
              "      <td>0</td>\n",
              "      <td>1</td>\n",
              "      <td>0</td>\n",
              "      <td>0</td>\n",
              "      <td>0</td>\n",
              "      <td>0</td>\n",
              "      <td>0</td>\n",
              "      <td>0</td>\n",
              "      <td>0</td>\n",
              "      <td>0</td>\n",
              "      <td>0</td>\n",
              "      <td>1</td>\n",
              "      <td>0</td>\n",
              "      <td>0</td>\n",
              "      <td>0</td>\n",
              "      <td>0</td>\n",
              "      <td>0</td>\n",
              "      <td>13</td>\n",
              "    </tr>\n",
              "    <tr>\n",
              "      <th>Gyeongsangnam-do</th>\n",
              "      <td>1</td>\n",
              "      <td>1</td>\n",
              "      <td>1</td>\n",
              "      <td>0</td>\n",
              "      <td>0</td>\n",
              "      <td>0</td>\n",
              "      <td>0</td>\n",
              "      <td>1</td>\n",
              "      <td>0</td>\n",
              "      <td>0</td>\n",
              "      <td>0</td>\n",
              "      <td>0</td>\n",
              "      <td>0</td>\n",
              "      <td>0</td>\n",
              "      <td>0</td>\n",
              "      <td>0</td>\n",
              "      <td>0</td>\n",
              "      <td>0</td>\n",
              "      <td>0</td>\n",
              "      <td>0</td>\n",
              "      <td>0</td>\n",
              "      <td>0</td>\n",
              "      <td>0</td>\n",
              "      <td>1</td>\n",
              "      <td>1</td>\n",
              "      <td>0</td>\n",
              "      <td>0</td>\n",
              "      <td>0</td>\n",
              "      <td>0</td>\n",
              "      <td>0</td>\n",
              "      <td>0</td>\n",
              "      <td>0</td>\n",
              "      <td>0</td>\n",
              "      <td>0</td>\n",
              "      <td>0</td>\n",
              "      <td>1</td>\n",
              "      <td>0</td>\n",
              "      <td>1</td>\n",
              "      <td>0</td>\n",
              "      <td>0</td>\n",
              "      <td>0</td>\n",
              "      <td>0</td>\n",
              "      <td>0</td>\n",
              "      <td>0</td>\n",
              "      <td>0</td>\n",
              "      <td>0</td>\n",
              "      <td>0</td>\n",
              "      <td>0</td>\n",
              "      <td>0</td>\n",
              "      <td>1</td>\n",
              "      <td>0</td>\n",
              "      <td>0</td>\n",
              "      <td>0</td>\n",
              "      <td>0</td>\n",
              "      <td>0</td>\n",
              "      <td>0</td>\n",
              "      <td>0</td>\n",
              "      <td>0</td>\n",
              "      <td>0</td>\n",
              "      <td>0</td>\n",
              "      <td>0</td>\n",
              "      <td>0</td>\n",
              "      <td>0</td>\n",
              "      <td>0</td>\n",
              "      <td>0</td>\n",
              "      <td>1</td>\n",
              "      <td>1</td>\n",
              "      <td>0</td>\n",
              "      <td>0</td>\n",
              "      <td>0</td>\n",
              "      <td>0</td>\n",
              "      <td>0</td>\n",
              "      <td>1</td>\n",
              "      <td>0</td>\n",
              "      <td>0</td>\n",
              "      <td>0</td>\n",
              "      <td>0</td>\n",
              "      <td>0</td>\n",
              "      <td>0</td>\n",
              "      <td>0</td>\n",
              "      <td>0</td>\n",
              "      <td>12</td>\n",
              "    </tr>\n",
              "    <tr>\n",
              "      <th>Incheon</th>\n",
              "      <td>1</td>\n",
              "      <td>1</td>\n",
              "      <td>1</td>\n",
              "      <td>0</td>\n",
              "      <td>0</td>\n",
              "      <td>0</td>\n",
              "      <td>0</td>\n",
              "      <td>0</td>\n",
              "      <td>0</td>\n",
              "      <td>1</td>\n",
              "      <td>0</td>\n",
              "      <td>0</td>\n",
              "      <td>0</td>\n",
              "      <td>0</td>\n",
              "      <td>0</td>\n",
              "      <td>0</td>\n",
              "      <td>0</td>\n",
              "      <td>0</td>\n",
              "      <td>0</td>\n",
              "      <td>0</td>\n",
              "      <td>0</td>\n",
              "      <td>0</td>\n",
              "      <td>0</td>\n",
              "      <td>0</td>\n",
              "      <td>0</td>\n",
              "      <td>0</td>\n",
              "      <td>0</td>\n",
              "      <td>0</td>\n",
              "      <td>0</td>\n",
              "      <td>1</td>\n",
              "      <td>0</td>\n",
              "      <td>0</td>\n",
              "      <td>0</td>\n",
              "      <td>0</td>\n",
              "      <td>0</td>\n",
              "      <td>0</td>\n",
              "      <td>0</td>\n",
              "      <td>1</td>\n",
              "      <td>0</td>\n",
              "      <td>0</td>\n",
              "      <td>0</td>\n",
              "      <td>0</td>\n",
              "      <td>0</td>\n",
              "      <td>0</td>\n",
              "      <td>0</td>\n",
              "      <td>0</td>\n",
              "      <td>0</td>\n",
              "      <td>0</td>\n",
              "      <td>0</td>\n",
              "      <td>0</td>\n",
              "      <td>0</td>\n",
              "      <td>0</td>\n",
              "      <td>0</td>\n",
              "      <td>0</td>\n",
              "      <td>0</td>\n",
              "      <td>0</td>\n",
              "      <td>0</td>\n",
              "      <td>0</td>\n",
              "      <td>0</td>\n",
              "      <td>0</td>\n",
              "      <td>0</td>\n",
              "      <td>0</td>\n",
              "      <td>0</td>\n",
              "      <td>0</td>\n",
              "      <td>0</td>\n",
              "      <td>1</td>\n",
              "      <td>0</td>\n",
              "      <td>0</td>\n",
              "      <td>0</td>\n",
              "      <td>0</td>\n",
              "      <td>0</td>\n",
              "      <td>0</td>\n",
              "      <td>0</td>\n",
              "      <td>0</td>\n",
              "      <td>0</td>\n",
              "      <td>0</td>\n",
              "      <td>0</td>\n",
              "      <td>0</td>\n",
              "      <td>0</td>\n",
              "      <td>0</td>\n",
              "      <td>0</td>\n",
              "      <td>7</td>\n",
              "    </tr>\n",
              "    <tr>\n",
              "      <th>Jeju-do</th>\n",
              "      <td>1</td>\n",
              "      <td>1</td>\n",
              "      <td>1</td>\n",
              "      <td>0</td>\n",
              "      <td>0</td>\n",
              "      <td>0</td>\n",
              "      <td>0</td>\n",
              "      <td>0</td>\n",
              "      <td>0</td>\n",
              "      <td>0</td>\n",
              "      <td>0</td>\n",
              "      <td>0</td>\n",
              "      <td>0</td>\n",
              "      <td>0</td>\n",
              "      <td>0</td>\n",
              "      <td>0</td>\n",
              "      <td>0</td>\n",
              "      <td>0</td>\n",
              "      <td>0</td>\n",
              "      <td>0</td>\n",
              "      <td>0</td>\n",
              "      <td>0</td>\n",
              "      <td>0</td>\n",
              "      <td>0</td>\n",
              "      <td>0</td>\n",
              "      <td>0</td>\n",
              "      <td>0</td>\n",
              "      <td>0</td>\n",
              "      <td>0</td>\n",
              "      <td>0</td>\n",
              "      <td>0</td>\n",
              "      <td>0</td>\n",
              "      <td>0</td>\n",
              "      <td>0</td>\n",
              "      <td>0</td>\n",
              "      <td>0</td>\n",
              "      <td>0</td>\n",
              "      <td>1</td>\n",
              "      <td>0</td>\n",
              "      <td>0</td>\n",
              "      <td>0</td>\n",
              "      <td>0</td>\n",
              "      <td>0</td>\n",
              "      <td>0</td>\n",
              "      <td>0</td>\n",
              "      <td>0</td>\n",
              "      <td>0</td>\n",
              "      <td>0</td>\n",
              "      <td>0</td>\n",
              "      <td>0</td>\n",
              "      <td>0</td>\n",
              "      <td>0</td>\n",
              "      <td>0</td>\n",
              "      <td>0</td>\n",
              "      <td>0</td>\n",
              "      <td>0</td>\n",
              "      <td>0</td>\n",
              "      <td>0</td>\n",
              "      <td>0</td>\n",
              "      <td>0</td>\n",
              "      <td>0</td>\n",
              "      <td>0</td>\n",
              "      <td>0</td>\n",
              "      <td>0</td>\n",
              "      <td>0</td>\n",
              "      <td>0</td>\n",
              "      <td>0</td>\n",
              "      <td>0</td>\n",
              "      <td>0</td>\n",
              "      <td>0</td>\n",
              "      <td>0</td>\n",
              "      <td>0</td>\n",
              "      <td>0</td>\n",
              "      <td>0</td>\n",
              "      <td>0</td>\n",
              "      <td>0</td>\n",
              "      <td>0</td>\n",
              "      <td>0</td>\n",
              "      <td>0</td>\n",
              "      <td>0</td>\n",
              "      <td>0</td>\n",
              "      <td>4</td>\n",
              "    </tr>\n",
              "    <tr>\n",
              "      <th>Jeollabuk-do</th>\n",
              "      <td>0</td>\n",
              "      <td>1</td>\n",
              "      <td>1</td>\n",
              "      <td>0</td>\n",
              "      <td>0</td>\n",
              "      <td>0</td>\n",
              "      <td>0</td>\n",
              "      <td>0</td>\n",
              "      <td>0</td>\n",
              "      <td>0</td>\n",
              "      <td>0</td>\n",
              "      <td>0</td>\n",
              "      <td>0</td>\n",
              "      <td>0</td>\n",
              "      <td>0</td>\n",
              "      <td>1</td>\n",
              "      <td>0</td>\n",
              "      <td>0</td>\n",
              "      <td>0</td>\n",
              "      <td>0</td>\n",
              "      <td>0</td>\n",
              "      <td>0</td>\n",
              "      <td>0</td>\n",
              "      <td>0</td>\n",
              "      <td>0</td>\n",
              "      <td>0</td>\n",
              "      <td>0</td>\n",
              "      <td>0</td>\n",
              "      <td>0</td>\n",
              "      <td>0</td>\n",
              "      <td>0</td>\n",
              "      <td>0</td>\n",
              "      <td>0</td>\n",
              "      <td>0</td>\n",
              "      <td>0</td>\n",
              "      <td>0</td>\n",
              "      <td>0</td>\n",
              "      <td>1</td>\n",
              "      <td>0</td>\n",
              "      <td>0</td>\n",
              "      <td>0</td>\n",
              "      <td>0</td>\n",
              "      <td>0</td>\n",
              "      <td>0</td>\n",
              "      <td>0</td>\n",
              "      <td>0</td>\n",
              "      <td>0</td>\n",
              "      <td>0</td>\n",
              "      <td>0</td>\n",
              "      <td>0</td>\n",
              "      <td>0</td>\n",
              "      <td>0</td>\n",
              "      <td>0</td>\n",
              "      <td>0</td>\n",
              "      <td>0</td>\n",
              "      <td>0</td>\n",
              "      <td>0</td>\n",
              "      <td>0</td>\n",
              "      <td>0</td>\n",
              "      <td>0</td>\n",
              "      <td>0</td>\n",
              "      <td>0</td>\n",
              "      <td>0</td>\n",
              "      <td>0</td>\n",
              "      <td>0</td>\n",
              "      <td>1</td>\n",
              "      <td>0</td>\n",
              "      <td>0</td>\n",
              "      <td>0</td>\n",
              "      <td>0</td>\n",
              "      <td>0</td>\n",
              "      <td>0</td>\n",
              "      <td>0</td>\n",
              "      <td>0</td>\n",
              "      <td>0</td>\n",
              "      <td>0</td>\n",
              "      <td>0</td>\n",
              "      <td>0</td>\n",
              "      <td>0</td>\n",
              "      <td>0</td>\n",
              "      <td>0</td>\n",
              "      <td>5</td>\n",
              "    </tr>\n",
              "    <tr>\n",
              "      <th>Jeollanam-do</th>\n",
              "      <td>1</td>\n",
              "      <td>1</td>\n",
              "      <td>1</td>\n",
              "      <td>0</td>\n",
              "      <td>0</td>\n",
              "      <td>0</td>\n",
              "      <td>0</td>\n",
              "      <td>0</td>\n",
              "      <td>0</td>\n",
              "      <td>0</td>\n",
              "      <td>0</td>\n",
              "      <td>0</td>\n",
              "      <td>0</td>\n",
              "      <td>0</td>\n",
              "      <td>0</td>\n",
              "      <td>0</td>\n",
              "      <td>0</td>\n",
              "      <td>0</td>\n",
              "      <td>0</td>\n",
              "      <td>0</td>\n",
              "      <td>0</td>\n",
              "      <td>0</td>\n",
              "      <td>0</td>\n",
              "      <td>0</td>\n",
              "      <td>0</td>\n",
              "      <td>0</td>\n",
              "      <td>0</td>\n",
              "      <td>0</td>\n",
              "      <td>0</td>\n",
              "      <td>0</td>\n",
              "      <td>0</td>\n",
              "      <td>0</td>\n",
              "      <td>0</td>\n",
              "      <td>0</td>\n",
              "      <td>0</td>\n",
              "      <td>0</td>\n",
              "      <td>0</td>\n",
              "      <td>0</td>\n",
              "      <td>0</td>\n",
              "      <td>0</td>\n",
              "      <td>0</td>\n",
              "      <td>0</td>\n",
              "      <td>0</td>\n",
              "      <td>0</td>\n",
              "      <td>0</td>\n",
              "      <td>0</td>\n",
              "      <td>1</td>\n",
              "      <td>0</td>\n",
              "      <td>0</td>\n",
              "      <td>0</td>\n",
              "      <td>0</td>\n",
              "      <td>0</td>\n",
              "      <td>0</td>\n",
              "      <td>0</td>\n",
              "      <td>0</td>\n",
              "      <td>0</td>\n",
              "      <td>0</td>\n",
              "      <td>0</td>\n",
              "      <td>0</td>\n",
              "      <td>0</td>\n",
              "      <td>0</td>\n",
              "      <td>0</td>\n",
              "      <td>0</td>\n",
              "      <td>0</td>\n",
              "      <td>0</td>\n",
              "      <td>1</td>\n",
              "      <td>0</td>\n",
              "      <td>0</td>\n",
              "      <td>0</td>\n",
              "      <td>0</td>\n",
              "      <td>0</td>\n",
              "      <td>0</td>\n",
              "      <td>0</td>\n",
              "      <td>0</td>\n",
              "      <td>0</td>\n",
              "      <td>0</td>\n",
              "      <td>0</td>\n",
              "      <td>0</td>\n",
              "      <td>0</td>\n",
              "      <td>0</td>\n",
              "      <td>0</td>\n",
              "      <td>5</td>\n",
              "    </tr>\n",
              "    <tr>\n",
              "      <th>Sejong</th>\n",
              "      <td>1</td>\n",
              "      <td>1</td>\n",
              "      <td>1</td>\n",
              "      <td>0</td>\n",
              "      <td>0</td>\n",
              "      <td>0</td>\n",
              "      <td>0</td>\n",
              "      <td>0</td>\n",
              "      <td>0</td>\n",
              "      <td>0</td>\n",
              "      <td>0</td>\n",
              "      <td>0</td>\n",
              "      <td>0</td>\n",
              "      <td>0</td>\n",
              "      <td>0</td>\n",
              "      <td>0</td>\n",
              "      <td>0</td>\n",
              "      <td>0</td>\n",
              "      <td>0</td>\n",
              "      <td>0</td>\n",
              "      <td>0</td>\n",
              "      <td>0</td>\n",
              "      <td>0</td>\n",
              "      <td>0</td>\n",
              "      <td>0</td>\n",
              "      <td>0</td>\n",
              "      <td>0</td>\n",
              "      <td>0</td>\n",
              "      <td>0</td>\n",
              "      <td>0</td>\n",
              "      <td>0</td>\n",
              "      <td>0</td>\n",
              "      <td>0</td>\n",
              "      <td>0</td>\n",
              "      <td>0</td>\n",
              "      <td>0</td>\n",
              "      <td>0</td>\n",
              "      <td>0</td>\n",
              "      <td>0</td>\n",
              "      <td>0</td>\n",
              "      <td>0</td>\n",
              "      <td>0</td>\n",
              "      <td>0</td>\n",
              "      <td>0</td>\n",
              "      <td>0</td>\n",
              "      <td>0</td>\n",
              "      <td>0</td>\n",
              "      <td>0</td>\n",
              "      <td>1</td>\n",
              "      <td>0</td>\n",
              "      <td>0</td>\n",
              "      <td>0</td>\n",
              "      <td>0</td>\n",
              "      <td>0</td>\n",
              "      <td>0</td>\n",
              "      <td>0</td>\n",
              "      <td>0</td>\n",
              "      <td>0</td>\n",
              "      <td>0</td>\n",
              "      <td>0</td>\n",
              "      <td>0</td>\n",
              "      <td>0</td>\n",
              "      <td>0</td>\n",
              "      <td>0</td>\n",
              "      <td>0</td>\n",
              "      <td>1</td>\n",
              "      <td>0</td>\n",
              "      <td>0</td>\n",
              "      <td>0</td>\n",
              "      <td>0</td>\n",
              "      <td>0</td>\n",
              "      <td>0</td>\n",
              "      <td>0</td>\n",
              "      <td>0</td>\n",
              "      <td>0</td>\n",
              "      <td>0</td>\n",
              "      <td>0</td>\n",
              "      <td>0</td>\n",
              "      <td>0</td>\n",
              "      <td>0</td>\n",
              "      <td>1</td>\n",
              "      <td>6</td>\n",
              "    </tr>\n",
              "    <tr>\n",
              "      <th>Seoul</th>\n",
              "      <td>1</td>\n",
              "      <td>1</td>\n",
              "      <td>1</td>\n",
              "      <td>1</td>\n",
              "      <td>1</td>\n",
              "      <td>0</td>\n",
              "      <td>0</td>\n",
              "      <td>0</td>\n",
              "      <td>0</td>\n",
              "      <td>1</td>\n",
              "      <td>1</td>\n",
              "      <td>0</td>\n",
              "      <td>1</td>\n",
              "      <td>1</td>\n",
              "      <td>1</td>\n",
              "      <td>0</td>\n",
              "      <td>0</td>\n",
              "      <td>0</td>\n",
              "      <td>1</td>\n",
              "      <td>0</td>\n",
              "      <td>0</td>\n",
              "      <td>1</td>\n",
              "      <td>1</td>\n",
              "      <td>0</td>\n",
              "      <td>0</td>\n",
              "      <td>1</td>\n",
              "      <td>0</td>\n",
              "      <td>0</td>\n",
              "      <td>1</td>\n",
              "      <td>1</td>\n",
              "      <td>0</td>\n",
              "      <td>0</td>\n",
              "      <td>0</td>\n",
              "      <td>0</td>\n",
              "      <td>0</td>\n",
              "      <td>0</td>\n",
              "      <td>0</td>\n",
              "      <td>1</td>\n",
              "      <td>0</td>\n",
              "      <td>1</td>\n",
              "      <td>1</td>\n",
              "      <td>1</td>\n",
              "      <td>1</td>\n",
              "      <td>0</td>\n",
              "      <td>0</td>\n",
              "      <td>0</td>\n",
              "      <td>1</td>\n",
              "      <td>0</td>\n",
              "      <td>0</td>\n",
              "      <td>0</td>\n",
              "      <td>1</td>\n",
              "      <td>0</td>\n",
              "      <td>0</td>\n",
              "      <td>1</td>\n",
              "      <td>0</td>\n",
              "      <td>1</td>\n",
              "      <td>1</td>\n",
              "      <td>1</td>\n",
              "      <td>1</td>\n",
              "      <td>0</td>\n",
              "      <td>1</td>\n",
              "      <td>1</td>\n",
              "      <td>0</td>\n",
              "      <td>0</td>\n",
              "      <td>1</td>\n",
              "      <td>1</td>\n",
              "      <td>0</td>\n",
              "      <td>0</td>\n",
              "      <td>0</td>\n",
              "      <td>0</td>\n",
              "      <td>1</td>\n",
              "      <td>1</td>\n",
              "      <td>0</td>\n",
              "      <td>0</td>\n",
              "      <td>1</td>\n",
              "      <td>0</td>\n",
              "      <td>1</td>\n",
              "      <td>1</td>\n",
              "      <td>1</td>\n",
              "      <td>0</td>\n",
              "      <td>0</td>\n",
              "      <td>38</td>\n",
              "    </tr>\n",
              "    <tr>\n",
              "      <th>Ulsan</th>\n",
              "      <td>1</td>\n",
              "      <td>1</td>\n",
              "      <td>1</td>\n",
              "      <td>0</td>\n",
              "      <td>0</td>\n",
              "      <td>0</td>\n",
              "      <td>0</td>\n",
              "      <td>0</td>\n",
              "      <td>0</td>\n",
              "      <td>0</td>\n",
              "      <td>0</td>\n",
              "      <td>0</td>\n",
              "      <td>0</td>\n",
              "      <td>0</td>\n",
              "      <td>0</td>\n",
              "      <td>0</td>\n",
              "      <td>0</td>\n",
              "      <td>0</td>\n",
              "      <td>0</td>\n",
              "      <td>0</td>\n",
              "      <td>0</td>\n",
              "      <td>0</td>\n",
              "      <td>0</td>\n",
              "      <td>0</td>\n",
              "      <td>0</td>\n",
              "      <td>0</td>\n",
              "      <td>0</td>\n",
              "      <td>0</td>\n",
              "      <td>0</td>\n",
              "      <td>0</td>\n",
              "      <td>0</td>\n",
              "      <td>0</td>\n",
              "      <td>0</td>\n",
              "      <td>0</td>\n",
              "      <td>0</td>\n",
              "      <td>0</td>\n",
              "      <td>0</td>\n",
              "      <td>0</td>\n",
              "      <td>0</td>\n",
              "      <td>0</td>\n",
              "      <td>0</td>\n",
              "      <td>0</td>\n",
              "      <td>0</td>\n",
              "      <td>0</td>\n",
              "      <td>0</td>\n",
              "      <td>0</td>\n",
              "      <td>0</td>\n",
              "      <td>0</td>\n",
              "      <td>0</td>\n",
              "      <td>0</td>\n",
              "      <td>0</td>\n",
              "      <td>0</td>\n",
              "      <td>0</td>\n",
              "      <td>0</td>\n",
              "      <td>0</td>\n",
              "      <td>0</td>\n",
              "      <td>0</td>\n",
              "      <td>0</td>\n",
              "      <td>0</td>\n",
              "      <td>0</td>\n",
              "      <td>0</td>\n",
              "      <td>0</td>\n",
              "      <td>0</td>\n",
              "      <td>0</td>\n",
              "      <td>0</td>\n",
              "      <td>1</td>\n",
              "      <td>0</td>\n",
              "      <td>0</td>\n",
              "      <td>0</td>\n",
              "      <td>0</td>\n",
              "      <td>0</td>\n",
              "      <td>0</td>\n",
              "      <td>0</td>\n",
              "      <td>0</td>\n",
              "      <td>0</td>\n",
              "      <td>0</td>\n",
              "      <td>0</td>\n",
              "      <td>0</td>\n",
              "      <td>0</td>\n",
              "      <td>0</td>\n",
              "      <td>0</td>\n",
              "      <td>4</td>\n",
              "    </tr>\n",
              "    <tr>\n",
              "      <th>Total</th>\n",
              "      <td>16</td>\n",
              "      <td>17</td>\n",
              "      <td>17</td>\n",
              "      <td>2</td>\n",
              "      <td>1</td>\n",
              "      <td>1</td>\n",
              "      <td>1</td>\n",
              "      <td>1</td>\n",
              "      <td>3</td>\n",
              "      <td>3</td>\n",
              "      <td>1</td>\n",
              "      <td>1</td>\n",
              "      <td>1</td>\n",
              "      <td>1</td>\n",
              "      <td>1</td>\n",
              "      <td>3</td>\n",
              "      <td>1</td>\n",
              "      <td>1</td>\n",
              "      <td>1</td>\n",
              "      <td>1</td>\n",
              "      <td>1</td>\n",
              "      <td>1</td>\n",
              "      <td>1</td>\n",
              "      <td>1</td>\n",
              "      <td>1</td>\n",
              "      <td>3</td>\n",
              "      <td>1</td>\n",
              "      <td>1</td>\n",
              "      <td>1</td>\n",
              "      <td>4</td>\n",
              "      <td>1</td>\n",
              "      <td>1</td>\n",
              "      <td>1</td>\n",
              "      <td>1</td>\n",
              "      <td>1</td>\n",
              "      <td>1</td>\n",
              "      <td>1</td>\n",
              "      <td>9</td>\n",
              "      <td>1</td>\n",
              "      <td>1</td>\n",
              "      <td>1</td>\n",
              "      <td>1</td>\n",
              "      <td>2</td>\n",
              "      <td>1</td>\n",
              "      <td>1</td>\n",
              "      <td>1</td>\n",
              "      <td>2</td>\n",
              "      <td>1</td>\n",
              "      <td>1</td>\n",
              "      <td>2</td>\n",
              "      <td>1</td>\n",
              "      <td>1</td>\n",
              "      <td>1</td>\n",
              "      <td>4</td>\n",
              "      <td>1</td>\n",
              "      <td>1</td>\n",
              "      <td>2</td>\n",
              "      <td>1</td>\n",
              "      <td>1</td>\n",
              "      <td>1</td>\n",
              "      <td>1</td>\n",
              "      <td>1</td>\n",
              "      <td>1</td>\n",
              "      <td>2</td>\n",
              "      <td>2</td>\n",
              "      <td>15</td>\n",
              "      <td>1</td>\n",
              "      <td>1</td>\n",
              "      <td>1</td>\n",
              "      <td>2</td>\n",
              "      <td>1</td>\n",
              "      <td>2</td>\n",
              "      <td>1</td>\n",
              "      <td>1</td>\n",
              "      <td>2</td>\n",
              "      <td>1</td>\n",
              "      <td>1</td>\n",
              "      <td>1</td>\n",
              "      <td>1</td>\n",
              "      <td>1</td>\n",
              "      <td>1</td>\n",
              "      <td>174</td>\n",
              "    </tr>\n",
              "  </tbody>\n",
              "</table>\n",
              "</div>"
            ],
            "text/plain": [
              "group                            False                      \\\n",
              "infection_case    contact with patient etc overseas inflow   \n",
              "province                                                     \n",
              "Busan                                1   1               1   \n",
              "Chungcheongbuk-do                    1   1               1   \n",
              "Chungcheongnam-do                    1   1               1   \n",
              "Daegu                                1   1               1   \n",
              "Daejeon                              1   1               1   \n",
              "Gangwon-do                           1   1               1   \n",
              "Gwangju                              1   1               1   \n",
              "Gyeonggi-do                          1   1               1   \n",
              "Gyeongsangbuk-do                     1   1               1   \n",
              "Gyeongsangnam-do                     1   1               1   \n",
              "Incheon                              1   1               1   \n",
              "Jeju-do                              1   1               1   \n",
              "Jeollabuk-do                         0   1               1   \n",
              "Jeollanam-do                         1   1               1   \n",
              "Sejong                               1   1               1   \n",
              "Seoul                                1   1               1   \n",
              "Ulsan                                1   1               1   \n",
              "Total                               16  17              17   \n",
              "\n",
              "group                                   True                                  \\\n",
              "infection_case    Anyang Gunpo Pastors Group Biblical Language study meeting   \n",
              "province                                                                       \n",
              "Busan                                      0                               0   \n",
              "Chungcheongbuk-do                          0                               0   \n",
              "Chungcheongnam-do                          0                               0   \n",
              "Daegu                                      0                               0   \n",
              "Daejeon                                    0                               0   \n",
              "Gangwon-do                                 0                               0   \n",
              "Gwangju                                    0                               0   \n",
              "Gyeonggi-do                                1                               0   \n",
              "Gyeongsangbuk-do                           0                               0   \n",
              "Gyeongsangnam-do                           0                               0   \n",
              "Incheon                                    0                               0   \n",
              "Jeju-do                                    0                               0   \n",
              "Jeollabuk-do                               0                               0   \n",
              "Jeollanam-do                               0                               0   \n",
              "Sejong                                     0                               0   \n",
              "Seoul                                      1                               1   \n",
              "Ulsan                                      0                               0   \n",
              "Total                                      2                               1   \n",
              "\n",
              "group                                                                   \\\n",
              "infection_case    Bonghwa Pureun Nursing Home Bundang Jesaeng Hospital   \n",
              "province                                                                 \n",
              "Busan                                       0                        0   \n",
              "Chungcheongbuk-do                           0                        0   \n",
              "Chungcheongnam-do                           0                        0   \n",
              "Daegu                                       0                        0   \n",
              "Daejeon                                     0                        0   \n",
              "Gangwon-do                                  0                        0   \n",
              "Gwangju                                     0                        0   \n",
              "Gyeonggi-do                                 0                        1   \n",
              "Gyeongsangbuk-do                            1                        0   \n",
              "Gyeongsangnam-do                            0                        0   \n",
              "Incheon                                     0                        0   \n",
              "Jeju-do                                     0                        0   \n",
              "Jeollabuk-do                                0                        0   \n",
              "Jeollanam-do                                0                        0   \n",
              "Sejong                                      0                        0   \n",
              "Seoul                                       0                        0   \n",
              "Ulsan                                       0                        0   \n",
              "Total                                       1                        1   \n",
              "\n",
              "group                                                                \\\n",
              "infection_case    Changnyeong Coin Karaoke Cheongdo Daenam Hospital   \n",
              "province                                                              \n",
              "Busan                                    0                        1   \n",
              "Chungcheongbuk-do                        0                        0   \n",
              "Chungcheongnam-do                        0                        0   \n",
              "Daegu                                    0                        1   \n",
              "Daejeon                                  0                        0   \n",
              "Gangwon-do                               0                        0   \n",
              "Gwangju                                  0                        0   \n",
              "Gyeonggi-do                              0                        0   \n",
              "Gyeongsangbuk-do                         0                        1   \n",
              "Gyeongsangnam-do                         1                        0   \n",
              "Incheon                                  0                        0   \n",
              "Jeju-do                                  0                        0   \n",
              "Jeollabuk-do                             0                        0   \n",
              "Jeollanam-do                             0                        0   \n",
              "Sejong                                   0                        0   \n",
              "Seoul                                    0                        0   \n",
              "Ulsan                                    0                        0   \n",
              "Total                                    1                        3   \n",
              "\n",
              "group                                                                  \\\n",
              "infection_case    Coupang Logistics Center Daejeon door-to-door sales   \n",
              "province                                                                \n",
              "Busan                                    0                          0   \n",
              "Chungcheongbuk-do                        0                          0   \n",
              "Chungcheongnam-do                        0                          0   \n",
              "Daegu                                    0                          0   \n",
              "Daejeon                                  0                          0   \n",
              "Gangwon-do                               0                          0   \n",
              "Gwangju                                  0                          0   \n",
              "Gyeonggi-do                              1                          0   \n",
              "Gyeongsangbuk-do                         0                          0   \n",
              "Gyeongsangnam-do                         0                          0   \n",
              "Incheon                                  1                          0   \n",
              "Jeju-do                                  0                          0   \n",
              "Jeollabuk-do                             0                          0   \n",
              "Jeollanam-do                             0                          0   \n",
              "Sejong                                   0                          0   \n",
              "Seoul                                    1                          1   \n",
              "Ulsan                                    0                          0   \n",
              "Total                                    3                          1   \n",
              "\n",
              "group                                                           \\\n",
              "infection_case    Daesil Convalescent Hospital Daezayeon Korea   \n",
              "province                                                         \n",
              "Busan                                        0               0   \n",
              "Chungcheongbuk-do                            0               0   \n",
              "Chungcheongnam-do                            0               0   \n",
              "Daegu                                        1               0   \n",
              "Daejeon                                      0               0   \n",
              "Gangwon-do                                   0               0   \n",
              "Gwangju                                      0               0   \n",
              "Gyeonggi-do                                  0               0   \n",
              "Gyeongsangbuk-do                             0               0   \n",
              "Gyeongsangnam-do                             0               0   \n",
              "Incheon                                      0               0   \n",
              "Jeju-do                                      0               0   \n",
              "Jeollabuk-do                                 0               0   \n",
              "Jeollanam-do                                 0               0   \n",
              "Sejong                                       0               0   \n",
              "Seoul                                        0               1   \n",
              "Ulsan                                        0               0   \n",
              "Total                                        1               1   \n",
              "\n",
              "group                                                                          \\\n",
              "infection_case    Day Care Center Dongan Church Door-to-door sales in Daejeon   \n",
              "province                                                                        \n",
              "Busan                           0             0                             0   \n",
              "Chungcheongbuk-do               0             0                             0   \n",
              "Chungcheongnam-do               0             0                             1   \n",
              "Daegu                           0             0                             0   \n",
              "Daejeon                         0             0                             1   \n",
              "Gangwon-do                      0             0                             0   \n",
              "Gwangju                         0             0                             0   \n",
              "Gyeonggi-do                     0             0                             0   \n",
              "Gyeongsangbuk-do                0             0                             0   \n",
              "Gyeongsangnam-do                0             0                             0   \n",
              "Incheon                         0             0                             0   \n",
              "Jeju-do                         0             0                             0   \n",
              "Jeollabuk-do                    0             0                             1   \n",
              "Jeollanam-do                    0             0                             0   \n",
              "Sejong                          0             0                             0   \n",
              "Seoul                           1             1                             0   \n",
              "Ulsan                           0             0                             0   \n",
              "Total                           1             1                             3   \n",
              "\n",
              "group                                                      \\\n",
              "infection_case    Dreaming Church Dunsan Electronics Town   \n",
              "province                                                    \n",
              "Busan                           0                       0   \n",
              "Chungcheongbuk-do               0                       0   \n",
              "Chungcheongnam-do               0                       0   \n",
              "Daegu                           0                       0   \n",
              "Daejeon                         1                       1   \n",
              "Gangwon-do                      0                       0   \n",
              "Gwangju                         0                       0   \n",
              "Gyeonggi-do                     0                       0   \n",
              "Gyeongsangbuk-do                0                       0   \n",
              "Gyeongsangnam-do                0                       0   \n",
              "Incheon                         0                       0   \n",
              "Jeju-do                         0                       0   \n",
              "Jeollabuk-do                    0                       0   \n",
              "Jeollanam-do                    0                       0   \n",
              "Sejong                          0                       0   \n",
              "Seoul                           0                       0   \n",
              "Ulsan                           0                       0   \n",
              "Total                           1                       1   \n",
              "\n",
              "group                                            \\\n",
              "infection_case    Eunpyeong St. Mary's Hospital   \n",
              "province                                          \n",
              "Busan                                         0   \n",
              "Chungcheongbuk-do                             0   \n",
              "Chungcheongnam-do                             0   \n",
              "Daegu                                         0   \n",
              "Daejeon                                       0   \n",
              "Gangwon-do                                    0   \n",
              "Gwangju                                       0   \n",
              "Gyeonggi-do                                   0   \n",
              "Gyeongsangbuk-do                              0   \n",
              "Gyeongsangnam-do                              0   \n",
              "Incheon                                       0   \n",
              "Jeju-do                                       0   \n",
              "Jeollabuk-do                                  0   \n",
              "Jeollanam-do                                  0   \n",
              "Sejong                                        0   \n",
              "Seoul                                         1   \n",
              "Ulsan                                         0   \n",
              "Total                                         1   \n",
              "\n",
              "group                                                                \\\n",
              "infection_case    Eunpyeong-Boksagol culture center Fatima Hospital   \n",
              "province                                                              \n",
              "Busan                                             0               0   \n",
              "Chungcheongbuk-do                                 0               0   \n",
              "Chungcheongnam-do                                 1               0   \n",
              "Daegu                                             0               1   \n",
              "Daejeon                                           0               0   \n",
              "Gangwon-do                                        0               0   \n",
              "Gwangju                                           0               0   \n",
              "Gyeonggi-do                                       0               0   \n",
              "Gyeongsangbuk-do                                  0               0   \n",
              "Gyeongsangnam-do                                  0               0   \n",
              "Incheon                                           0               0   \n",
              "Jeju-do                                           0               0   \n",
              "Jeollabuk-do                                      0               0   \n",
              "Jeollanam-do                                      0               0   \n",
              "Sejong                                            0               0   \n",
              "Seoul                                             0               0   \n",
              "Ulsan                                             0               0   \n",
              "Total                                             1               1   \n",
              "\n",
              "group                                                                   \\\n",
              "infection_case    Gangnam Dongin Church Gangnam Yeoksam-dong gathering   \n",
              "province                                                                 \n",
              "Busan                                 0                              0   \n",
              "Chungcheongbuk-do                     0                              0   \n",
              "Chungcheongnam-do                     0                              0   \n",
              "Daegu                                 0                              0   \n",
              "Daejeon                               0                              0   \n",
              "Gangwon-do                            0                              0   \n",
              "Gwangju                               0                              0   \n",
              "Gyeonggi-do                           0                              0   \n",
              "Gyeongsangbuk-do                      0                              0   \n",
              "Gyeongsangnam-do                      0                              0   \n",
              "Incheon                               0                              0   \n",
              "Jeju-do                               0                              0   \n",
              "Jeollabuk-do                          0                              0   \n",
              "Jeollanam-do                          0                              0   \n",
              "Sejong                                0                              0   \n",
              "Seoul                                 1                              1   \n",
              "Ulsan                                 0                              0   \n",
              "Total                                 1                              1   \n",
              "\n",
              "group                                                           \\\n",
              "infection_case    Geochang Church Geochang-gun Woongyang-myeon   \n",
              "province                                                         \n",
              "Busan                           0                            0   \n",
              "Chungcheongbuk-do               0                            0   \n",
              "Chungcheongnam-do               0                            0   \n",
              "Daegu                           0                            0   \n",
              "Daejeon                         0                            0   \n",
              "Gangwon-do                      0                            0   \n",
              "Gwangju                         0                            0   \n",
              "Gyeonggi-do                     0                            0   \n",
              "Gyeongsangbuk-do                0                            0   \n",
              "Gyeongsangnam-do                1                            1   \n",
              "Incheon                         0                            0   \n",
              "Jeju-do                         0                            0   \n",
              "Jeollabuk-do                    0                            0   \n",
              "Jeollanam-do                    0                            0   \n",
              "Sejong                          0                            0   \n",
              "Seoul                           0                            0   \n",
              "Ulsan                           0                            0   \n",
              "Total                           1                            1   \n",
              "\n",
              "group                                                            \\\n",
              "infection_case    Geumcheon-gu rice milling machine manufacture   \n",
              "province                                                          \n",
              "Busan                                                         0   \n",
              "Chungcheongbuk-do                                             0   \n",
              "Chungcheongnam-do                                             0   \n",
              "Daegu                                                         0   \n",
              "Daejeon                                                       0   \n",
              "Gangwon-do                                                    1   \n",
              "Gwangju                                                       0   \n",
              "Gyeonggi-do                                                   1   \n",
              "Gyeongsangbuk-do                                              0   \n",
              "Gyeongsangnam-do                                              0   \n",
              "Incheon                                                       0   \n",
              "Jeju-do                                                       0   \n",
              "Jeollabuk-do                                                  0   \n",
              "Jeollanam-do                                                  0   \n",
              "Sejong                                                        0   \n",
              "Seoul                                                         1   \n",
              "Ulsan                                                         0   \n",
              "Total                                                         3   \n",
              "\n",
              "group                                                         \\\n",
              "infection_case    Goesan-gun Jangyeon-myeon Gumi Elim Church   \n",
              "province                                                       \n",
              "Busan                                     0                0   \n",
              "Chungcheongbuk-do                         1                0   \n",
              "Chungcheongnam-do                         0                0   \n",
              "Daegu                                     0                0   \n",
              "Daejeon                                   0                0   \n",
              "Gangwon-do                                0                0   \n",
              "Gwangju                                   0                0   \n",
              "Gyeonggi-do                               0                0   \n",
              "Gyeongsangbuk-do                          0                1   \n",
              "Gyeongsangnam-do                          0                0   \n",
              "Incheon                                   0                0   \n",
              "Jeju-do                                   0                0   \n",
              "Jeollabuk-do                              0                0   \n",
              "Jeollanam-do                              0                0   \n",
              "Sejong                                    0                0   \n",
              "Seoul                                     0                0   \n",
              "Ulsan                                     0                0   \n",
              "Total                                     1                1   \n",
              "\n",
              "group                                                            \\\n",
              "infection_case    Guri Collective Infection Guro-gu Call Center   \n",
              "province                                                          \n",
              "Busan                                     0                   0   \n",
              "Chungcheongbuk-do                         0                   1   \n",
              "Chungcheongnam-do                         0                   0   \n",
              "Daegu                                     0                   0   \n",
              "Daejeon                                   0                   0   \n",
              "Gangwon-do                                0                   0   \n",
              "Gwangju                                   0                   0   \n",
              "Gyeonggi-do                               0                   1   \n",
              "Gyeongsangbuk-do                          0                   0   \n",
              "Gyeongsangnam-do                          0                   0   \n",
              "Incheon                                   0                   1   \n",
              "Jeju-do                                   0                   0   \n",
              "Jeollabuk-do                              0                   0   \n",
              "Jeollanam-do                              0                   0   \n",
              "Sejong                                    0                   0   \n",
              "Seoul                                     1                   1   \n",
              "Ulsan                                     0                   0   \n",
              "Total                                     1                   4   \n",
              "\n",
              "group                                                                       \\\n",
              "infection_case    Gwangneuksa Temple Gyeongsan Cham Joeun Community Center   \n",
              "province                                                                     \n",
              "Busan                              0                                     0   \n",
              "Chungcheongbuk-do                  0                                     0   \n",
              "Chungcheongnam-do                  0                                     0   \n",
              "Daegu                              0                                     0   \n",
              "Daejeon                            0                                     0   \n",
              "Gangwon-do                         0                                     0   \n",
              "Gwangju                            1                                     0   \n",
              "Gyeonggi-do                        0                                     0   \n",
              "Gyeongsangbuk-do                   0                                     1   \n",
              "Gyeongsangnam-do                   0                                     0   \n",
              "Incheon                            0                                     0   \n",
              "Jeju-do                            0                                     0   \n",
              "Jeollabuk-do                       0                                     0   \n",
              "Jeollanam-do                       0                                     0   \n",
              "Sejong                             0                                     0   \n",
              "Seoul                              0                                     0   \n",
              "Ulsan                              0                                     0   \n",
              "Total                              1                                     1   \n",
              "\n",
              "group                                                                       \\\n",
              "infection_case    Gyeongsan Jeil Silver Town Gyeongsan Seorin Nursing Home   \n",
              "province                                                                     \n",
              "Busan                                      0                             0   \n",
              "Chungcheongbuk-do                          0                             0   \n",
              "Chungcheongnam-do                          0                             0   \n",
              "Daegu                                      0                             0   \n",
              "Daejeon                                    0                             0   \n",
              "Gangwon-do                                 0                             0   \n",
              "Gwangju                                    0                             0   \n",
              "Gyeonggi-do                                0                             0   \n",
              "Gyeongsangbuk-do                           1                             1   \n",
              "Gyeongsangnam-do                           0                             0   \n",
              "Incheon                                    0                             0   \n",
              "Jeju-do                                    0                             0   \n",
              "Jeollabuk-do                               0                             0   \n",
              "Jeollanam-do                               0                             0   \n",
              "Sejong                                     0                             0   \n",
              "Seoul                                      0                             0   \n",
              "Ulsan                                      0                             0   \n",
              "Total                                      1                             1   \n",
              "\n",
              "group                                                                     \\\n",
              "infection_case    Haeundae-gu Catholic Church Hanmaeum Changwon Hospital   \n",
              "province                                                                   \n",
              "Busan                                       1                          0   \n",
              "Chungcheongbuk-do                           0                          0   \n",
              "Chungcheongnam-do                           0                          0   \n",
              "Daegu                                       0                          0   \n",
              "Daejeon                                     0                          0   \n",
              "Gangwon-do                                  0                          0   \n",
              "Gwangju                                     0                          0   \n",
              "Gyeonggi-do                                 0                          0   \n",
              "Gyeongsangbuk-do                            0                          0   \n",
              "Gyeongsangnam-do                            0                          1   \n",
              "Incheon                                     0                          0   \n",
              "Jeju-do                                     0                          0   \n",
              "Jeollabuk-do                                0                          0   \n",
              "Jeollanam-do                                0                          0   \n",
              "Sejong                                      0                          0   \n",
              "Seoul                                       0                          0   \n",
              "Ulsan                                       0                          0   \n",
              "Total                                       1                          1   \n",
              "\n",
              "group                                                            \\\n",
              "infection_case    Hansarang Convalescent Hospital Itaewon Clubs   \n",
              "province                                                          \n",
              "Busan                                           0             1   \n",
              "Chungcheongbuk-do                               0             1   \n",
              "Chungcheongnam-do                               0             0   \n",
              "Daegu                                           1             1   \n",
              "Daejeon                                         0             0   \n",
              "Gangwon-do                                      0             0   \n",
              "Gwangju                                         0             0   \n",
              "Gyeonggi-do                                     0             1   \n",
              "Gyeongsangbuk-do                                0             0   \n",
              "Gyeongsangnam-do                                0             1   \n",
              "Incheon                                         0             1   \n",
              "Jeju-do                                         0             1   \n",
              "Jeollabuk-do                                    0             1   \n",
              "Jeollanam-do                                    0             0   \n",
              "Sejong                                          0             0   \n",
              "Seoul                                           0             1   \n",
              "Ulsan                                           0             0   \n",
              "Total                                           1             9   \n",
              "\n",
              "group                                                     \\\n",
              "infection_case    Jin-gu Academy Jongno Community Center   \n",
              "province                                                   \n",
              "Busan                          1                       0   \n",
              "Chungcheongbuk-do              0                       0   \n",
              "Chungcheongnam-do              0                       0   \n",
              "Daegu                          0                       0   \n",
              "Daejeon                        0                       0   \n",
              "Gangwon-do                     0                       0   \n",
              "Gwangju                        0                       0   \n",
              "Gyeonggi-do                    0                       0   \n",
              "Gyeongsangbuk-do               0                       0   \n",
              "Gyeongsangnam-do               0                       0   \n",
              "Incheon                        0                       0   \n",
              "Jeju-do                        0                       0   \n",
              "Jeollabuk-do                   0                       0   \n",
              "Jeollanam-do                   0                       0   \n",
              "Sejong                         0                       0   \n",
              "Seoul                          0                       1   \n",
              "Ulsan                          0                       0   \n",
              "Total                          1                       1   \n",
              "\n",
              "group                                                        \\\n",
              "infection_case    Jung-gu Fashion Company KB Life Insurance   \n",
              "province                                                      \n",
              "Busan                                   0                 0   \n",
              "Chungcheongbuk-do                       0                 0   \n",
              "Chungcheongnam-do                       0                 0   \n",
              "Daegu                                   0                 0   \n",
              "Daejeon                                 0                 0   \n",
              "Gangwon-do                              0                 0   \n",
              "Gwangju                                 0                 0   \n",
              "Gyeonggi-do                             0                 0   \n",
              "Gyeongsangbuk-do                        0                 0   \n",
              "Gyeongsangnam-do                        0                 0   \n",
              "Incheon                                 0                 0   \n",
              "Jeju-do                                 0                 0   \n",
              "Jeollabuk-do                            0                 0   \n",
              "Jeollanam-do                            0                 0   \n",
              "Sejong                                  0                 0   \n",
              "Seoul                                   1                 1   \n",
              "Ulsan                                   0                 0   \n",
              "Total                                   1                 1   \n",
              "\n",
              "group                                             \\\n",
              "infection_case    Korea Campus Crusade of Christ   \n",
              "province                                           \n",
              "Busan                                          0   \n",
              "Chungcheongbuk-do                              0   \n",
              "Chungcheongnam-do                              0   \n",
              "Daegu                                          0   \n",
              "Daejeon                                        0   \n",
              "Gangwon-do                                     0   \n",
              "Gwangju                                        0   \n",
              "Gyeonggi-do                                    1   \n",
              "Gyeongsangbuk-do                               0   \n",
              "Gyeongsangnam-do                               0   \n",
              "Incheon                                        0   \n",
              "Jeju-do                                        0   \n",
              "Jeollabuk-do                                   0   \n",
              "Jeollanam-do                                   0   \n",
              "Sejong                                         0   \n",
              "Seoul                                          1   \n",
              "Ulsan                                          0   \n",
              "Total                                          2   \n",
              "\n",
              "group                                                                \\\n",
              "infection_case    Korea Forest Engineer Institute Lord Glory Church   \n",
              "province                                                              \n",
              "Busan                                           0                 0   \n",
              "Chungcheongbuk-do                               0                 0   \n",
              "Chungcheongnam-do                               0                 0   \n",
              "Daegu                                           0                 0   \n",
              "Daejeon                                         1                 0   \n",
              "Gangwon-do                                      0                 0   \n",
              "Gwangju                                         0                 0   \n",
              "Gyeonggi-do                                     0                 1   \n",
              "Gyeongsangbuk-do                                0                 0   \n",
              "Gyeongsangnam-do                                0                 0   \n",
              "Incheon                                         0                 0   \n",
              "Jeju-do                                         0                 0   \n",
              "Jeollabuk-do                                    0                 0   \n",
              "Jeollanam-do                                    0                 0   \n",
              "Sejong                                          0                 0   \n",
              "Seoul                                           0                 0   \n",
              "Ulsan                                           0                 0   \n",
              "Total                                           1                 1   \n",
              "\n",
              "group                                                                         \\\n",
              "infection_case    Lotte Confectionery logistics center Manmin Central Church   \n",
              "province                                                                       \n",
              "Busan                                                0                     0   \n",
              "Chungcheongbuk-do                                    0                     0   \n",
              "Chungcheongnam-do                                    0                     0   \n",
              "Daegu                                                0                     0   \n",
              "Daejeon                                              0                     0   \n",
              "Gangwon-do                                           0                     0   \n",
              "Gwangju                                              0                     0   \n",
              "Gyeonggi-do                                          1                     0   \n",
              "Gyeongsangbuk-do                                     0                     0   \n",
              "Gyeongsangnam-do                                     0                     0   \n",
              "Incheon                                              0                     0   \n",
              "Jeju-do                                              0                     0   \n",
              "Jeollabuk-do                                         0                     0   \n",
              "Jeollanam-do                                         0                     1   \n",
              "Sejong                                               0                     0   \n",
              "Seoul                                                0                     1   \n",
              "Ulsan                                                0                     0   \n",
              "Total                                                1                     2   \n",
              "\n",
              "group                                                             \\\n",
              "infection_case    Milal Shelter Ministry of Oceans and Fisheries   \n",
              "province                                                           \n",
              "Busan                         0                                0   \n",
              "Chungcheongbuk-do             0                                0   \n",
              "Chungcheongnam-do             0                                0   \n",
              "Daegu                         0                                0   \n",
              "Daejeon                       0                                0   \n",
              "Gangwon-do                    0                                0   \n",
              "Gwangju                       0                                0   \n",
              "Gyeonggi-do                   0                                0   \n",
              "Gyeongsangbuk-do              1                                0   \n",
              "Gyeongsangnam-do              0                                0   \n",
              "Incheon                       0                                0   \n",
              "Jeju-do                       0                                0   \n",
              "Jeollabuk-do                  0                                0   \n",
              "Jeollanam-do                  0                                0   \n",
              "Sejong                        0                                1   \n",
              "Seoul                         0                                0   \n",
              "Ulsan                         0                                0   \n",
              "Total                         1                                1   \n",
              "\n",
              "group                                                                         \\\n",
              "infection_case    Onchun Church Orange Life Orange Town Pilgrimage to Israel   \n",
              "province                                                                       \n",
              "Busan                         1           0           0                    0   \n",
              "Chungcheongbuk-do             0           0           0                    0   \n",
              "Chungcheongnam-do             0           0           0                    0   \n",
              "Daegu                         0           0           0                    0   \n",
              "Daejeon                       0           0           1                    0   \n",
              "Gangwon-do                    0           0           0                    0   \n",
              "Gwangju                       0           0           0                    0   \n",
              "Gyeonggi-do                   0           0           0                    0   \n",
              "Gyeongsangbuk-do              0           0           0                    1   \n",
              "Gyeongsangnam-do              1           0           0                    0   \n",
              "Incheon                       0           0           0                    0   \n",
              "Jeju-do                       0           0           0                    0   \n",
              "Jeollabuk-do                  0           0           0                    0   \n",
              "Jeollanam-do                  0           0           0                    0   \n",
              "Sejong                        0           0           0                    0   \n",
              "Seoul                         0           1           0                    0   \n",
              "Ulsan                         0           0           0                    0   \n",
              "Total                         2           1           1                    1   \n",
              "\n",
              "group                                                      \\\n",
              "infection_case    Richway River of Grace Community Church   \n",
              "province                                                    \n",
              "Busan                   0                               0   \n",
              "Chungcheongbuk-do       0                               0   \n",
              "Chungcheongnam-do       1                               0   \n",
              "Daegu                   0                               0   \n",
              "Daejeon                 0                               0   \n",
              "Gangwon-do              1                               0   \n",
              "Gwangju                 0                               0   \n",
              "Gyeonggi-do             1                               1   \n",
              "Gyeongsangbuk-do        0                               0   \n",
              "Gyeongsangnam-do        0                               0   \n",
              "Incheon                 0                               0   \n",
              "Jeju-do                 0                               0   \n",
              "Jeollabuk-do            0                               0   \n",
              "Jeollanam-do            0                               0   \n",
              "Sejong                  0                               0   \n",
              "Seoul                   1                               0   \n",
              "Ulsan                   0                               0   \n",
              "Total                   4                               1   \n",
              "\n",
              "group                                                                         \\\n",
              "infection_case    SJ Investment Call Center SMR Newly Planted Churches Group   \n",
              "province                                                                       \n",
              "Busan                                     0                                0   \n",
              "Chungcheongbuk-do                         0                                0   \n",
              "Chungcheongnam-do                         0                                0   \n",
              "Daegu                                     0                                0   \n",
              "Daejeon                                   0                                0   \n",
              "Gangwon-do                                0                                0   \n",
              "Gwangju                                   0                                0   \n",
              "Gyeonggi-do                               0                                1   \n",
              "Gyeongsangbuk-do                          0                                0   \n",
              "Gyeongsangnam-do                          0                                0   \n",
              "Incheon                                   0                                0   \n",
              "Jeju-do                                   0                                0   \n",
              "Jeollabuk-do                              0                                0   \n",
              "Jeollanam-do                              0                                0   \n",
              "Sejong                                    0                                0   \n",
              "Seoul                                     1                                1   \n",
              "Ulsan                                     0                                0   \n",
              "Total                                     1                                2   \n",
              "\n",
              "group                                                                     \\\n",
              "infection_case    Samsung Fire & Marine Insurance Samsung Medical Center   \n",
              "province                                                                   \n",
              "Busan                                           0                      0   \n",
              "Chungcheongbuk-do                               0                      0   \n",
              "Chungcheongnam-do                               0                      0   \n",
              "Daegu                                           0                      0   \n",
              "Daejeon                                         0                      0   \n",
              "Gangwon-do                                      0                      0   \n",
              "Gwangju                                         0                      0   \n",
              "Gyeonggi-do                                     0                      0   \n",
              "Gyeongsangbuk-do                                0                      0   \n",
              "Gyeongsangnam-do                                0                      0   \n",
              "Incheon                                         0                      0   \n",
              "Jeju-do                                         0                      0   \n",
              "Jeollabuk-do                                    0                      0   \n",
              "Jeollanam-do                                    0                      0   \n",
              "Sejong                                          0                      0   \n",
              "Seoul                                           1                      1   \n",
              "Ulsan                                           0                      0   \n",
              "Total                                           1                      1   \n",
              "\n",
              "group                                                                   \\\n",
              "infection_case    Second Mi-Ju Hospital Seocho Family Seongdong-gu APT   \n",
              "province                                                                 \n",
              "Busan                                 0             0                0   \n",
              "Chungcheongbuk-do                     0             0                0   \n",
              "Chungcheongnam-do                     0             0                0   \n",
              "Daegu                                 1             0                0   \n",
              "Daejeon                               0             0                0   \n",
              "Gangwon-do                            0             0                0   \n",
              "Gwangju                               0             0                0   \n",
              "Gyeonggi-do                           0             0                0   \n",
              "Gyeongsangbuk-do                      0             0                0   \n",
              "Gyeongsangnam-do                      0             0                0   \n",
              "Incheon                               0             0                0   \n",
              "Jeju-do                               0             0                0   \n",
              "Jeollabuk-do                          0             0                0   \n",
              "Jeollanam-do                          0             0                0   \n",
              "Sejong                                0             0                0   \n",
              "Seoul                                 0             1                1   \n",
              "Ulsan                                 0             0                0   \n",
              "Total                                 1             1                1   \n",
              "\n",
              "group                                                                \\\n",
              "infection_case    Seongnam neighbors gathering Seosan-si Laboratory   \n",
              "province                                                              \n",
              "Busan                                        0                    0   \n",
              "Chungcheongbuk-do                            0                    0   \n",
              "Chungcheongnam-do                            0                    1   \n",
              "Daegu                                        0                    0   \n",
              "Daejeon                                      0                    1   \n",
              "Gangwon-do                                   0                    0   \n",
              "Gwangju                                      0                    0   \n",
              "Gyeonggi-do                                  1                    0   \n",
              "Gyeongsangbuk-do                             0                    0   \n",
              "Gyeongsangnam-do                             0                    0   \n",
              "Incheon                                      0                    0   \n",
              "Jeju-do                                      0                    0   \n",
              "Jeollabuk-do                                 0                    0   \n",
              "Jeollanam-do                                 0                    0   \n",
              "Sejong                                       0                    0   \n",
              "Seoul                                        0                    0   \n",
              "Ulsan                                        0                    0   \n",
              "Total                                        1                    2   \n",
              "\n",
              "group                                                                       \\\n",
              "infection_case    Seoul City Hall Station safety worker Shincheonji Church   \n",
              "province                                                                     \n",
              "Busan                                                 0                  1   \n",
              "Chungcheongbuk-do                                     0                  1   \n",
              "Chungcheongnam-do                                     0                  0   \n",
              "Daegu                                                 0                  1   \n",
              "Daejeon                                               0                  1   \n",
              "Gangwon-do                                            0                  1   \n",
              "Gwangju                                               0                  1   \n",
              "Gyeonggi-do                                           1                  1   \n",
              "Gyeongsangbuk-do                                      0                  1   \n",
              "Gyeongsangnam-do                                      0                  1   \n",
              "Incheon                                               0                  1   \n",
              "Jeju-do                                               0                  0   \n",
              "Jeollabuk-do                                          0                  1   \n",
              "Jeollanam-do                                          0                  1   \n",
              "Sejong                                                0                  1   \n",
              "Seoul                                                 1                  1   \n",
              "Ulsan                                                 0                  1   \n",
              "Total                                                 2                 15   \n",
              "\n",
              "group                                                         \\\n",
              "infection_case    Soso Seowon Suwon Saeng Myeong Saem Church   \n",
              "province                                                       \n",
              "Busan                       0                              0   \n",
              "Chungcheongbuk-do           0                              0   \n",
              "Chungcheongnam-do           0                              0   \n",
              "Daegu                       0                              0   \n",
              "Daejeon                     0                              0   \n",
              "Gangwon-do                  0                              0   \n",
              "Gwangju                     0                              0   \n",
              "Gyeonggi-do                 0                              1   \n",
              "Gyeongsangbuk-do            0                              0   \n",
              "Gyeongsangnam-do            1                              0   \n",
              "Incheon                     0                              0   \n",
              "Jeju-do                     0                              0   \n",
              "Jeollabuk-do                0                              0   \n",
              "Jeollanam-do                0                              0   \n",
              "Sejong                      0                              0   \n",
              "Seoul                       0                              0   \n",
              "Ulsan                       0                              0   \n",
              "Total                       1                              1   \n",
              "\n",
              "group                                                                    \\\n",
              "infection_case    Suyeong-gu Kindergarten Uijeongbu St. Mary’s Hospital   \n",
              "province                                                                  \n",
              "Busan                                   1                             0   \n",
              "Chungcheongbuk-do                       0                             0   \n",
              "Chungcheongnam-do                       0                             0   \n",
              "Daegu                                   0                             0   \n",
              "Daejeon                                 0                             0   \n",
              "Gangwon-do                              0                             1   \n",
              "Gwangju                                 0                             0   \n",
              "Gyeonggi-do                             0                             1   \n",
              "Gyeongsangbuk-do                        0                             0   \n",
              "Gyeongsangnam-do                        0                             0   \n",
              "Incheon                                 0                             0   \n",
              "Jeju-do                                 0                             0   \n",
              "Jeollabuk-do                            0                             0   \n",
              "Jeollanam-do                            0                             0   \n",
              "Sejong                                  0                             0   \n",
              "Seoul                                   0                             0   \n",
              "Ulsan                                   0                             0   \n",
              "Total                                   1                             2   \n",
              "\n",
              "group                                                                  \\\n",
              "infection_case    Uiwang Logistics Center Wangsung Church Wings Tower   \n",
              "province                                                                \n",
              "Busan                                   0               0           0   \n",
              "Chungcheongbuk-do                       0               0           0   \n",
              "Chungcheongnam-do                       0               0           0   \n",
              "Daegu                                   0               0           0   \n",
              "Daejeon                                 0               0           0   \n",
              "Gangwon-do                              0               0           0   \n",
              "Gwangju                                 0               0           0   \n",
              "Gyeonggi-do                             0               1           0   \n",
              "Gyeongsangbuk-do                        0               0           0   \n",
              "Gyeongsangnam-do                        0               0           1   \n",
              "Incheon                                 0               0           0   \n",
              "Jeju-do                                 0               0           0   \n",
              "Jeollabuk-do                            0               0           0   \n",
              "Jeollanam-do                            0               0           0   \n",
              "Sejong                                  0               0           0   \n",
              "Seoul                                   1               1           0   \n",
              "Ulsan                                   0               0           0   \n",
              "Total                                   1               2           1   \n",
              "\n",
              "group                                                                         \\\n",
              "infection_case    Wonju-si Apartments Yangcheon Table Tennis Club Yechun-gun   \n",
              "province                                                                       \n",
              "Busan                               0                           0          0   \n",
              "Chungcheongbuk-do                   0                           0          0   \n",
              "Chungcheongnam-do                   0                           0          0   \n",
              "Daegu                               0                           0          0   \n",
              "Daejeon                             0                           0          0   \n",
              "Gangwon-do                          1                           0          0   \n",
              "Gwangju                             0                           0          0   \n",
              "Gyeonggi-do                         0                           1          0   \n",
              "Gyeongsangbuk-do                    0                           0          1   \n",
              "Gyeongsangnam-do                    0                           0          0   \n",
              "Incheon                             0                           0          0   \n",
              "Jeju-do                             0                           0          0   \n",
              "Jeollabuk-do                        0                           0          0   \n",
              "Jeollanam-do                        0                           0          0   \n",
              "Sejong                              0                           0          0   \n",
              "Seoul                               0                           1          0   \n",
              "Ulsan                               0                           0          0   \n",
              "Total                               1                           2          1   \n",
              "\n",
              "group                                                                 \\\n",
              "infection_case    Yeonana News Class Yeongdeungpo Learning Institute   \n",
              "province                                                               \n",
              "Busan                              0                               0   \n",
              "Chungcheongbuk-do                  0                               0   \n",
              "Chungcheongnam-do                  0                               0   \n",
              "Daegu                              0                               0   \n",
              "Daejeon                            0                               0   \n",
              "Gangwon-do                         0                               0   \n",
              "Gwangju                            0                               0   \n",
              "Gyeonggi-do                        0                               0   \n",
              "Gyeongsangbuk-do                   0                               0   \n",
              "Gyeongsangnam-do                   0                               0   \n",
              "Incheon                            0                               0   \n",
              "Jeju-do                            0                               0   \n",
              "Jeollabuk-do                       0                               0   \n",
              "Jeollanam-do                       0                               0   \n",
              "Sejong                             0                               0   \n",
              "Seoul                              1                               1   \n",
              "Ulsan                              0                               0   \n",
              "Total                              1                               1   \n",
              "\n",
              "group                                                      \\\n",
              "infection_case    Yongin Brothers gym facility in Cheonan   \n",
              "province                                                    \n",
              "Busan                           0                       0   \n",
              "Chungcheongbuk-do               0                       0   \n",
              "Chungcheongnam-do               0                       1   \n",
              "Daegu                           0                       0   \n",
              "Daejeon                         0                       0   \n",
              "Gangwon-do                      0                       0   \n",
              "Gwangju                         0                       0   \n",
              "Gyeonggi-do                     0                       0   \n",
              "Gyeongsangbuk-do                0                       0   \n",
              "Gyeongsangnam-do                0                       0   \n",
              "Incheon                         0                       0   \n",
              "Jeju-do                         0                       0   \n",
              "Jeollabuk-do                    0                       0   \n",
              "Jeollanam-do                    0                       0   \n",
              "Sejong                          0                       0   \n",
              "Seoul                           1                       0   \n",
              "Ulsan                           0                       0   \n",
              "Total                           1                       1   \n",
              "\n",
              "group                                    Total  \n",
              "infection_case    gym facility in Sejong        \n",
              "province                                        \n",
              "Busan                                  0    10  \n",
              "Chungcheongbuk-do                      0     7  \n",
              "Chungcheongnam-do                      0     8  \n",
              "Daegu                                  0    10  \n",
              "Daejeon                                0    10  \n",
              "Gangwon-do                             0     8  \n",
              "Gwangju                                0     5  \n",
              "Gyeonggi-do                            0    22  \n",
              "Gyeongsangbuk-do                       0    13  \n",
              "Gyeongsangnam-do                       0    12  \n",
              "Incheon                                0     7  \n",
              "Jeju-do                                0     4  \n",
              "Jeollabuk-do                           0     5  \n",
              "Jeollanam-do                           0     5  \n",
              "Sejong                                 1     6  \n",
              "Seoul                                  0    38  \n",
              "Ulsan                                  0     4  \n",
              "Total                                  1   174  "
            ]
          },
          "metadata": {
            "tags": []
          },
          "execution_count": 5
        }
      ]
    },
    {
      "cell_type": "markdown",
      "metadata": {
        "id": "FQvpLbVLdAcd"
      },
      "source": [
        "### We have a total of 17 province. Result above shows that the non group infection case such as contact with person occured in all province. Overseas inflow also occured in all province except \"jeollabuk-do\". However group infections category occured mostly in the \"seoul province\" with a value of 35 cases. and the least group infection occured in \"Ulsan\" and \"Jeju-do\" with a value of 1."
      ]
    },
    {
      "cell_type": "code",
      "metadata": {
        "colab": {
          "base_uri": "https://localhost:8080/",
          "height": 1000
        },
        "id": "KfM38AC4cWss",
        "outputId": "aeb9873e-dae9-4f3e-be10-b4690b6c09bd"
      },
      "source": [
        "#What is the number of confirmed cases by province and the infection_case in the given period of time.\n",
        "province_confirmed = case.groupby(['province','infection_case'])['confirmed'].sum()\n",
        "province_confirmed_sorted = province_confirmed.sort_values(ascending = False).head(20)\n",
        "print(province_confirmed_sorted)\n",
        "#plot on a bar chart\n",
        "plt.figure(figsize=(20,9))\n",
        "province_confirmed_sorted.plot(kind = 'bar', color = \"blue\")\n",
        "\n",
        "plt.title('Confirmed Cases by Province')\n",
        "plt.ylabel('Number of confirmed cases')\n",
        "plt.xlabel('Province')\n",
        "\n",
        "plt.show()"
      ],
      "execution_count": 6,
      "outputs": [
        {
          "output_type": "stream",
          "text": [
            "province           infection_case                 \n",
            "Daegu              Shincheonji Church                 4511\n",
            "                   contact with patient                917\n",
            "                   etc                                 747\n",
            "Gyeongsangbuk-do   Shincheonji Church                  566\n",
            "Gyeonggi-do        overseas inflow                     305\n",
            "Seoul              overseas inflow                     298\n",
            "Daegu              Second Mi-Ju Hospital               196\n",
            "Gyeongsangbuk-do   contact with patient                190\n",
            "Seoul              contact with patient                162\n",
            "                   Itaewon Clubs                       139\n",
            "Gyeongsangbuk-do   etc                                 133\n",
            "Daegu              Hansarang Convalescent Hospital     124\n",
            "Gyeongsangbuk-do   Cheongdo Daenam Hospital            119\n",
            "Seoul              Richway                             119\n",
            "Chungcheongnam-do  gym facility in Cheonan             103\n",
            "Daegu              Daesil Convalescent Hospital        101\n",
            "Seoul              etc                                 100\n",
            "                   Guro-gu Call Center                  95\n",
            "Gyeonggi-do        etc                                  84\n",
            "Gyeongsangbuk-do   Bonghwa Pureun Nursing Home          68\n",
            "Name: confirmed, dtype: int64\n"
          ],
          "name": "stdout"
        },
        {
          "output_type": "display_data",
          "data": {
            "image/png": "[encoded data removed]",
            "text/plain": [
              "<Figure size 1440x648 with 1 Axes>"
            ]
          },
          "metadata": {
            "tags": [],
            "needs_background": "light"
          }
        }
      ]
    },
    {
      "cell_type": "markdown",
      "metadata": {
        "id": "TzEzWeamkzuI"
      },
      "source": [
        "### It can be seen from above plot that the highest confirmed case appeared in \"Daegu\" province and major infection case is as a result of Shincheonji Church. Daegu has the highest number of confirmed cases of 6680 and jeju-do being the lowest of 19.\n",
        "\n"
      ]
    },
    {
      "cell_type": "markdown",
      "metadata": {
        "id": "lQu4C6Q_WMOz"
      },
      "source": [
        "# EDA on the time ( Time series data of covid-19 status in south korea) data table"
      ]
    },
    {
      "cell_type": "code",
      "metadata": {
        "colab": {
          "base_uri": "https://localhost:8080/",
          "height": 203
        },
        "id": "tHMCLN0bWKYp",
        "outputId": "15c1ac0c-8a97-4dbb-fd6a-03717da974a0"
      },
      "source": [
        "time.head()"
      ],
      "execution_count": 7,
      "outputs": [
        {
          "output_type": "execute_result",
          "data": {
            "text/html": [
              "<div>\n",
              "<style scoped>\n",
              "    .dataframe tbody tr th:only-of-type {\n",
              "        vertical-align: middle;\n",
              "    }\n",
              "\n",
              "    .dataframe tbody tr th {\n",
              "        vertical-align: top;\n",
              "    }\n",
              "\n",
              "    .dataframe thead th {\n",
              "        text-align: right;\n",
              "    }\n",
              "</style>\n",
              "<table border=\"1\" class=\"dataframe\">\n",
              "  <thead>\n",
              "    <tr style=\"text-align: right;\">\n",
              "      <th></th>\n",
              "      <th>date</th>\n",
              "      <th>time</th>\n",
              "      <th>test</th>\n",
              "      <th>negative</th>\n",
              "      <th>confirmed</th>\n",
              "      <th>released</th>\n",
              "      <th>deceased</th>\n",
              "    </tr>\n",
              "  </thead>\n",
              "  <tbody>\n",
              "    <tr>\n",
              "      <th>0</th>\n",
              "      <td>2020-01-20</td>\n",
              "      <td>16</td>\n",
              "      <td>1</td>\n",
              "      <td>0</td>\n",
              "      <td>1</td>\n",
              "      <td>0</td>\n",
              "      <td>0</td>\n",
              "    </tr>\n",
              "    <tr>\n",
              "      <th>1</th>\n",
              "      <td>2020-01-21</td>\n",
              "      <td>16</td>\n",
              "      <td>1</td>\n",
              "      <td>0</td>\n",
              "      <td>1</td>\n",
              "      <td>0</td>\n",
              "      <td>0</td>\n",
              "    </tr>\n",
              "    <tr>\n",
              "      <th>2</th>\n",
              "      <td>2020-01-22</td>\n",
              "      <td>16</td>\n",
              "      <td>4</td>\n",
              "      <td>3</td>\n",
              "      <td>1</td>\n",
              "      <td>0</td>\n",
              "      <td>0</td>\n",
              "    </tr>\n",
              "    <tr>\n",
              "      <th>3</th>\n",
              "      <td>2020-01-23</td>\n",
              "      <td>16</td>\n",
              "      <td>22</td>\n",
              "      <td>21</td>\n",
              "      <td>1</td>\n",
              "      <td>0</td>\n",
              "      <td>0</td>\n",
              "    </tr>\n",
              "    <tr>\n",
              "      <th>4</th>\n",
              "      <td>2020-01-24</td>\n",
              "      <td>16</td>\n",
              "      <td>27</td>\n",
              "      <td>25</td>\n",
              "      <td>2</td>\n",
              "      <td>0</td>\n",
              "      <td>0</td>\n",
              "    </tr>\n",
              "  </tbody>\n",
              "</table>\n",
              "</div>"
            ],
            "text/plain": [
              "         date  time  test  negative  confirmed  released  deceased\n",
              "0  2020-01-20    16     1         0          1         0         0\n",
              "1  2020-01-21    16     1         0          1         0         0\n",
              "2  2020-01-22    16     4         3          1         0         0\n",
              "3  2020-01-23    16    22        21          1         0         0\n",
              "4  2020-01-24    16    27        25          2         0         0"
            ]
          },
          "metadata": {
            "tags": []
          },
          "execution_count": 7
        }
      ]
    },
    {
      "cell_type": "code",
      "metadata": {
        "colab": {
          "base_uri": "https://localhost:8080/"
        },
        "id": "GBmzTsxKYq84",
        "outputId": "6c89cefb-5217-4351-ba66-fe717f96a7ce"
      },
      "source": [
        "# convert the 'date' column to datetime format and confirm\n",
        "time['date'] = pd.to_datetime(time['date'])\n",
        "#check for missing values\n",
        "time.isnull().sum()"
      ],
      "execution_count": 8,
      "outputs": [
        {
          "output_type": "execute_result",
          "data": {
            "text/plain": [
              "date         0\n",
              "time         0\n",
              "test         0\n",
              "negative     0\n",
              "confirmed    0\n",
              "released     0\n",
              "deceased     0\n",
              "dtype: int64"
            ]
          },
          "metadata": {
            "tags": []
          },
          "execution_count": 8
        }
      ]
    },
    {
      "cell_type": "markdown",
      "metadata": {
        "id": "iePbBb8SaXlG"
      },
      "source": [
        "###  There are no missing values and all features are in the correct format "
      ]
    },
    {
      "cell_type": "code",
      "metadata": {
        "id": "k5_bVYmBdqjt"
      },
      "source": [
        "#make a copy of time table for more EDA\n",
        "time_copy = time.copy()"
      ],
      "execution_count": 9,
      "outputs": []
    },
    {
      "cell_type": "code",
      "metadata": {
        "id": "439eE0cGdxx8"
      },
      "source": [
        "# The features in the data are accumulated test, negative, confirmed, released and deceased covid cases\n",
        "# find the daily number for all necessary variable as accumulated values were given and convert to integer\n",
        "time_copy['daily_test'] = time_copy['test'].diff()\n",
        "time_copy['daily_negative'] = time_copy['negative'].diff()\n",
        "time_copy['daily_confirmed'] = time_copy['confirmed'].diff()\n",
        "time_copy['daily_released'] = time_copy['released'].diff()\n",
        "time_copy['daily_deceased'] = time_copy['deceased'].diff()"
      ],
      "execution_count": 10,
      "outputs": []
    },
    {
      "cell_type": "code",
      "metadata": {
        "id": "S_MKI1kPlBza"
      },
      "source": [
        "time_copy = time_copy.dropna() # drop rows with missing values"
      ],
      "execution_count": 11,
      "outputs": []
    },
    {
      "cell_type": "code",
      "metadata": {
        "id": "8TYZEq7Geabx",
        "colab": {
          "base_uri": "https://localhost:8080/"
        },
        "outputId": "ab128fba-0219-47b3-e2df-b18a52a6518a"
      },
      "source": [
        "#All new features are in float,  we need to convert to integers\n",
        "time_copy[['daily_test','daily_negative','daily_confirmed','daily_released','daily_deceased']] = time_copy[['daily_test','daily_negative','daily_confirmed','daily_released','daily_deceased']].astype('int')\n",
        "time_copy.dtypes"
      ],
      "execution_count": 12,
      "outputs": [
        {
          "output_type": "execute_result",
          "data": {
            "text/plain": [
              "date               datetime64[ns]\n",
              "time                        int64\n",
              "test                        int64\n",
              "negative                    int64\n",
              "confirmed                   int64\n",
              "released                    int64\n",
              "deceased                    int64\n",
              "daily_test                  int64\n",
              "daily_negative              int64\n",
              "daily_confirmed             int64\n",
              "daily_released              int64\n",
              "daily_deceased              int64\n",
              "dtype: object"
            ]
          },
          "metadata": {
            "tags": []
          },
          "execution_count": 12
        }
      ]
    },
    {
      "cell_type": "code",
      "metadata": {
        "id": "I8J23y-bjAjd"
      },
      "source": [
        "#Split the date column into year, months,days and day name\n",
        "time_copy['day_name'] = time_copy['date'].apply(lambda x: x.strftime('%A'))\n",
        "time_copy['month'] = time_copy['date'].dt.month\n",
        "time_copy['year'] = time_copy['date'].dt.year\n",
        "time_copy['day'] = time_copy['date'].dt.day"
      ],
      "execution_count": 13,
      "outputs": []
    },
    {
      "cell_type": "code",
      "metadata": {
        "id": "hRmXm78rrqzT",
        "colab": {
          "base_uri": "https://localhost:8080/",
          "height": 530
        },
        "outputId": "4dd419aa-d856-4bff-a7ba-18a7794756b3"
      },
      "source": [
        "#plot a line graph showing the trend of accumulated confirmed case\n",
        "plt.figure(figsize=(10,8))\n",
        "sns.lineplot(data=time_copy, x=\"date\", y=\"confirmed\")\n",
        "\n",
        "plt.title('Trend of Accumulated confirmed case')"
      ],
      "execution_count": 14,
      "outputs": [
        {
          "output_type": "execute_result",
          "data": {
            "text/plain": [
              "Text(0.5, 1.0, 'Trend of Accumulated confirmed case')"
            ]
          },
          "metadata": {
            "tags": []
          },
          "execution_count": 14
        },
        {
          "output_type": "display_data",
          "data": {
            "image/png": "[encoded data removed]",
            "text/plain": [
              "<Figure size 720x576 with 1 Axes>"
            ]
          },
          "metadata": {
            "tags": [],
            "needs_background": "light"
          }
        }
      ]
    },
    {
      "cell_type": "markdown",
      "metadata": {
        "id": "GO9TDhjTeW1Z"
      },
      "source": [
        "### There was rapid increase in march to about 8,000 confirmed cases"
      ]
    },
    {
      "cell_type": "code",
      "metadata": {
        "id": "ody1EnqosDWq",
        "colab": {
          "base_uri": "https://localhost:8080/",
          "height": 584
        },
        "outputId": "f93ac461-d8c8-42a2-e451-741643ace1a9"
      },
      "source": [
        "#plot a line graph for daily confirmation number\n",
        "plt.figure(figsize=(15,9))\n",
        "sns.lineplot(data=time_copy, x=\"date\", y=\"daily_confirmed\", hue= 'month', palette = \"Accent\" )\n",
        "plt.title('Trend of daily confirmed case per month')"
      ],
      "execution_count": 15,
      "outputs": [
        {
          "output_type": "execute_result",
          "data": {
            "text/plain": [
              "Text(0.5, 1.0, 'Trend of daily confirmed case per month')"
            ]
          },
          "metadata": {
            "tags": []
          },
          "execution_count": 15
        },
        {
          "output_type": "display_data",
          "data": {
            "image/png": "[encoded data removed]",
            "text/plain": [
              "<Figure size 1080x648 with 1 Axes>"
            ]
          },
          "metadata": {
            "tags": [],
            "needs_background": "light"
          }
        }
      ]
    },
    {
      "cell_type": "markdown",
      "metadata": {
        "id": "U2RGKVMLgatD"
      },
      "source": [
        "### The highest confirmed case occured at the end of february and it steep down afterward"
      ]
    },
    {
      "cell_type": "code",
      "metadata": {
        "colab": {
          "base_uri": "https://localhost:8080/",
          "height": 584
        },
        "id": "K63FYTEJhAbV",
        "outputId": "5185583a-d77f-407b-c2db-b087ac53ba32"
      },
      "source": [
        "plt.figure(figsize=(15,9))\n",
        "sns.lineplot(data=time_copy, x=\"date\", y=\"daily_confirmed\", hue= 'day_name', palette = \"Accent\" )\n",
        "plt.title('Trend of daily confirmed case with day_name')"
      ],
      "execution_count": 16,
      "outputs": [
        {
          "output_type": "execute_result",
          "data": {
            "text/plain": [
              "Text(0.5, 1.0, 'Trend of daily confirmed case with day_name')"
            ]
          },
          "metadata": {
            "tags": []
          },
          "execution_count": 16
        },
        {
          "output_type": "display_data",
          "data": {
            "image/png": "[encoded data removed]",
            "text/plain": [
              "<Figure size 1080x648 with 1 Axes>"
            ]
          },
          "metadata": {
            "tags": [],
            "needs_background": "light"
          }
        }
      ]
    },
    {
      "cell_type": "markdown",
      "metadata": {
        "id": "DW1glPNr_xc4"
      },
      "source": [
        "### The highest confirmed case was on saturday "
      ]
    },
    {
      "cell_type": "code",
      "metadata": {
        "id": "HQHQ6kz29fRK",
        "colab": {
          "base_uri": "https://localhost:8080/",
          "height": 584
        },
        "outputId": "c122a354-3e25-4f44-e0fe-615ce2e18685"
      },
      "source": [
        "plt.figure(figsize=(10,9))\n",
        "sns.lineplot(data=time_copy, x=\"date\", y=\"daily_released\", hue= 'month', palette = 'Accent')\n",
        "\n",
        "plt.title( \"Trend of daily released with day_name\" )"
      ],
      "execution_count": 17,
      "outputs": [
        {
          "output_type": "execute_result",
          "data": {
            "text/plain": [
              "Text(0.5, 1.0, 'Trend of daily released with day_name')"
            ]
          },
          "metadata": {
            "tags": []
          },
          "execution_count": 17
        },
        {
          "output_type": "display_data",
          "data": {
            "image/png": "[encoded data removed]",
            "text/plain": [
              "<Figure size 720x648 with 1 Axes>"
            ]
          },
          "metadata": {
            "tags": [],
            "needs_background": "light"
          }
        }
      ]
    },
    {
      "cell_type": "markdown",
      "metadata": {
        "id": "OAJHT4QdBt-T"
      },
      "source": [
        "### Most released cases were in March which is obvious because most confirmed case were in february"
      ]
    },
    {
      "cell_type": "markdown",
      "metadata": {
        "id": "WNrBl0hZQfzQ"
      },
      "source": [
        "# EDA on the timeage (Time series data of COVID-19 status in terms of age in South Korea) data table."
      ]
    },
    {
      "cell_type": "code",
      "metadata": {
        "id": "yXSih85pV1O-"
      },
      "source": [
        "#change date column into datetime\n",
        "timea['date'] = timea['date'].astype('datetime64[ns]')"
      ],
      "execution_count": 18,
      "outputs": []
    },
    {
      "cell_type": "code",
      "metadata": {
        "id": "FmnNlq5fSBhx"
      },
      "source": [
        "age_confirmed = timea.groupby('age')['confirmed'].max() #Group age by number of confirmed\n",
        "age_deceased = timea.groupby('age')['deceased'].max() # Group age by number of deceased"
      ],
      "execution_count": 19,
      "outputs": []
    },
    {
      "cell_type": "code",
      "metadata": {
        "colab": {
          "base_uri": "https://localhost:8080/",
          "height": 412
        },
        "id": "wCTZYo_4hBsC",
        "outputId": "bbb7b027-ffe0-43d2-8260-e87fab2ccb3a"
      },
      "source": [
        "# What is the highest number of confirmed  and deceased cases by age?\n",
        "fig = plt.figure() # create figure\n",
        "\n",
        "ax0 = fig.add_subplot(1, 2, 1) # add subplot 1 (1 row, 2 columns, first plot)\n",
        "ax1 = fig.add_subplot(1, 2, 2) # add subplot 2 (1 row, 2 columns, second plot).\n",
        "\n",
        "\n",
        "# Subplot 1: \n",
        "age_confirmed.sort_values(ascending=False).plot(kind='bar', figsize=(20, 6), ax=ax0) # add to subplot 1\n",
        "ax1.set_title ('Number of confirmed cases by age')\n",
        "ax1.set_ylabel('Count of confirmed')\n",
        "ax1.set_xlabel('Age')\n",
        "\n",
        "# Subplot 1:\n",
        "age_deceased.sort_values(ascending=False).plot(kind=\"bar\", color=\"pink\",figsize=(20, 6),ax=ax1)\n",
        "ax1.set_title ('percentage of deceased cases by age')\n",
        "ax1.set_ylabel('Count of deceased')\n",
        "ax1.set_xlabel('Age')\n",
        "\n",
        "\n",
        "\n",
        "plt.show()"
      ],
      "execution_count": 20,
      "outputs": [
        {
          "output_type": "display_data",
          "data": {
            "image/png": "[encoded data removed]",
            "text/plain": [
              "<Figure size 1440x432 with 2 Axes>"
            ]
          },
          "metadata": {
            "tags": [],
            "needs_background": "light"
          }
        }
      ]
    },
    {
      "cell_type": "code",
      "metadata": {
        "colab": {
          "base_uri": "https://localhost:8080/",
          "height": 378
        },
        "id": "hL4RQn5tmH33",
        "outputId": "3998f3fd-0003-4493-9b5f-a9bd664309c1"
      },
      "source": [
        "# What is the percentage of confirmed  and deceased cases by age?\n",
        "fig = plt.figure() # create figure\n",
        "\n",
        "ax2 = fig.add_subplot(1, 2, 1)\n",
        "ax3 = fig.add_subplot(1, 2, 2)\n",
        "\n",
        "explode_list = [0.1, 0, 0, 0,0,0,0 ,0.1, 0.1]\n",
        "age_confirmed.plot(kind='pie',figsize=(15, 6),autopct='%1.1f%%', startangle=90,shadow=True, labels=None,pctdistance=1.12,explode=explode_list, ax=ax2) # add to subplot 1\n",
        "ax2.set_title('percentage of confirmed cases by age')\n",
        "ax2.axis('equal') \n",
        "# add legend\n",
        "ax2.legend(labels=age_confirmed.index, loc='lower left')\n",
        "\n",
        "\n",
        "age_deceased.plot(kind='pie',figsize=(15, 6),autopct='%1.1f%%', startangle=90,shadow=True, labels=None,pctdistance=1.12, ax=ax3) # add to subplot 2\n",
        "ax3.set_title ('percentage of deceased cases by age')\n",
        "ax3.axis('equal') \n",
        "# add legend\n",
        "ax3.legend(labels=age_deceased.index, loc='upper right')\n",
        "\n",
        "plt.show()"
      ],
      "execution_count": 21,
      "outputs": [
        {
          "output_type": "display_data",
          "data": {
            "image/png": "[encoded data removed]",
            "text/plain": [
              "<Figure size 1080x432 with 2 Axes>"
            ]
          },
          "metadata": {
            "tags": []
          }
        }
      ]
    },
    {
      "cell_type": "markdown",
      "metadata": {
        "id": "caQJU7T9RXZC"
      },
      "source": [
        "# EDA on the timegender (Time series data of COVID-19 status in terms of gender in South Korea) data table"
      ]
    },
    {
      "cell_type": "code",
      "metadata": {
        "id": "8H7c_mCURcWH",
        "colab": {
          "base_uri": "https://localhost:8080/",
          "height": 203
        },
        "outputId": "55a91dba-4053-4d21-9afe-2f9233b42287"
      },
      "source": [
        "timeg.tail()\n"
      ],
      "execution_count": 22,
      "outputs": [
        {
          "output_type": "execute_result",
          "data": {
            "text/html": [
              "<div>\n",
              "<style scoped>\n",
              "    .dataframe tbody tr th:only-of-type {\n",
              "        vertical-align: middle;\n",
              "    }\n",
              "\n",
              "    .dataframe tbody tr th {\n",
              "        vertical-align: top;\n",
              "    }\n",
              "\n",
              "    .dataframe thead th {\n",
              "        text-align: right;\n",
              "    }\n",
              "</style>\n",
              "<table border=\"1\" class=\"dataframe\">\n",
              "  <thead>\n",
              "    <tr style=\"text-align: right;\">\n",
              "      <th></th>\n",
              "      <th>date</th>\n",
              "      <th>time</th>\n",
              "      <th>sex</th>\n",
              "      <th>confirmed</th>\n",
              "      <th>deceased</th>\n",
              "    </tr>\n",
              "  </thead>\n",
              "  <tbody>\n",
              "    <tr>\n",
              "      <th>237</th>\n",
              "      <td>2020-06-28</td>\n",
              "      <td>0</td>\n",
              "      <td>female</td>\n",
              "      <td>7265</td>\n",
              "      <td>131</td>\n",
              "    </tr>\n",
              "    <tr>\n",
              "      <th>238</th>\n",
              "      <td>2020-06-29</td>\n",
              "      <td>0</td>\n",
              "      <td>male</td>\n",
              "      <td>5470</td>\n",
              "      <td>151</td>\n",
              "    </tr>\n",
              "    <tr>\n",
              "      <th>239</th>\n",
              "      <td>2020-06-29</td>\n",
              "      <td>0</td>\n",
              "      <td>female</td>\n",
              "      <td>7287</td>\n",
              "      <td>131</td>\n",
              "    </tr>\n",
              "    <tr>\n",
              "      <th>240</th>\n",
              "      <td>2020-06-30</td>\n",
              "      <td>0</td>\n",
              "      <td>male</td>\n",
              "      <td>5495</td>\n",
              "      <td>151</td>\n",
              "    </tr>\n",
              "    <tr>\n",
              "      <th>241</th>\n",
              "      <td>2020-06-30</td>\n",
              "      <td>0</td>\n",
              "      <td>female</td>\n",
              "      <td>7305</td>\n",
              "      <td>131</td>\n",
              "    </tr>\n",
              "  </tbody>\n",
              "</table>\n",
              "</div>"
            ],
            "text/plain": [
              "           date  time     sex  confirmed  deceased\n",
              "237  2020-06-28     0  female       7265       131\n",
              "238  2020-06-29     0    male       5470       151\n",
              "239  2020-06-29     0  female       7287       131\n",
              "240  2020-06-30     0    male       5495       151\n",
              "241  2020-06-30     0  female       7305       131"
            ]
          },
          "metadata": {
            "tags": []
          },
          "execution_count": 22
        }
      ]
    },
    {
      "cell_type": "code",
      "metadata": {
        "id": "dqcM7KbwsoyG"
      },
      "source": [
        "# convert date to datetime object and split date into month and day\n",
        "timeg['date'] = timeg['date'].astype('datetime64[ns]')\n",
        "timeg['month'] = timeg['date'].dt.month\n",
        "timeg['day'] = timeg['date'].dt.day"
      ],
      "execution_count": 23,
      "outputs": []
    },
    {
      "cell_type": "code",
      "metadata": {
        "colab": {
          "base_uri": "https://localhost:8080/",
          "height": 276
        },
        "id": "JBkPJOEWt27x",
        "outputId": "17c22745-b7cd-4f21-ce5d-03fdf6d4b7f7"
      },
      "source": [
        "gender_confirmed = timeg.groupby('sex')['confirmed','deceased'].max()\n",
        "month_confirmed = timeg.groupby('month')['confirmed','deceased'].max()\n",
        "gender_confirmed"
      ],
      "execution_count": 24,
      "outputs": [
        {
          "output_type": "stream",
          "text": [
            "/usr/local/lib/python3.7/dist-packages/ipykernel_launcher.py:1: FutureWarning:\n",
            "\n",
            "Indexing with multiple keys (implicitly converted to a tuple of keys) will be deprecated, use a list instead.\n",
            "\n",
            "/usr/local/lib/python3.7/dist-packages/ipykernel_launcher.py:2: FutureWarning:\n",
            "\n",
            "Indexing with multiple keys (implicitly converted to a tuple of keys) will be deprecated, use a list instead.\n",
            "\n"
          ],
          "name": "stderr"
        },
        {
          "output_type": "execute_result",
          "data": {
            "text/html": [
              "<div>\n",
              "<style scoped>\n",
              "    .dataframe tbody tr th:only-of-type {\n",
              "        vertical-align: middle;\n",
              "    }\n",
              "\n",
              "    .dataframe tbody tr th {\n",
              "        vertical-align: top;\n",
              "    }\n",
              "\n",
              "    .dataframe thead th {\n",
              "        text-align: right;\n",
              "    }\n",
              "</style>\n",
              "<table border=\"1\" class=\"dataframe\">\n",
              "  <thead>\n",
              "    <tr style=\"text-align: right;\">\n",
              "      <th></th>\n",
              "      <th>confirmed</th>\n",
              "      <th>deceased</th>\n",
              "    </tr>\n",
              "    <tr>\n",
              "      <th>sex</th>\n",
              "      <th></th>\n",
              "      <th></th>\n",
              "    </tr>\n",
              "  </thead>\n",
              "  <tbody>\n",
              "    <tr>\n",
              "      <th>female</th>\n",
              "      <td>7305</td>\n",
              "      <td>131</td>\n",
              "    </tr>\n",
              "    <tr>\n",
              "      <th>male</th>\n",
              "      <td>5495</td>\n",
              "      <td>151</td>\n",
              "    </tr>\n",
              "  </tbody>\n",
              "</table>\n",
              "</div>"
            ],
            "text/plain": [
              "        confirmed  deceased\n",
              "sex                        \n",
              "female       7305       131\n",
              "male         5495       151"
            ]
          },
          "metadata": {
            "tags": []
          },
          "execution_count": 24
        }
      ]
    },
    {
      "cell_type": "code",
      "metadata": {
        "id": "r2e1vV0CuQrx",
        "colab": {
          "base_uri": "https://localhost:8080/",
          "height": 404
        },
        "outputId": "0dc05d6c-1172-45d9-c0a4-79ae7820722a"
      },
      "source": [
        "#What is the relationship between confirmed and deceased on month?\n",
        "fig = plt.figure() # create figure\n",
        "\n",
        "ax2 = fig.add_subplot(1, 2, 1)\n",
        "ax3 = fig.add_subplot(1, 2, 2)\n",
        "\n",
        "month_confirmed.plot(kind='scatter',x='confirmed',y='deceased',figsize=(20,6), color='green', ax=ax2) # add to subplot 1\n",
        "ax2.set_title('Relationship between confirmed and deceased per month')\n",
        "\n",
        "gender_confirmed.plot(kind='scatter',x='confirmed',y='deceased',ax=ax3) # add to subplot 2\n",
        "ax3.set_title ('Relationship between confirmed and deceased per gender')\n",
        "\n",
        "plt.show()\n"
      ],
      "execution_count": 25,
      "outputs": [
        {
          "output_type": "display_data",
          "data": {
            "image/png": "[encoded data removed]",
            "text/plain": [
              "<Figure size 1440x432 with 2 Axes>"
            ]
          },
          "metadata": {
            "tags": [],
            "needs_background": "light"
          }
        }
      ]
    },
    {
      "cell_type": "markdown",
      "metadata": {
        "id": "oogag1-UsV7n"
      },
      "source": [
        "### There is positive correlation between the confirmed and deceased cases by month but a negative correlation by gender"
      ]
    },
    {
      "cell_type": "code",
      "metadata": {
        "id": "lGOx0nV0kbLp",
        "colab": {
          "base_uri": "https://localhost:8080/",
          "height": 321
        },
        "outputId": "9df9a233-ef74-4c80-9fe1-a185afa2cf76"
      },
      "source": [
        "gender_confirmed = timeg.groupby('sex')['confirmed'].max()\n",
        "gender_confirmed.sort_values(ascending=False).plot(kind=\"bar\", color=\"pink\")"
      ],
      "execution_count": 26,
      "outputs": [
        {
          "output_type": "execute_result",
          "data": {
            "text/plain": [
              "<matplotlib.axes._subplots.AxesSubplot at 0x7f26fdbc6910>"
            ]
          },
          "metadata": {
            "tags": []
          },
          "execution_count": 26
        },
        {
          "output_type": "display_data",
          "data": {
            "image/png": "[encoded data removed]",
            "text/plain": [
              "<Figure size 432x288 with 1 Axes>"
            ]
          },
          "metadata": {
            "tags": [],
            "needs_background": "light"
          }
        }
      ]
    },
    {
      "cell_type": "markdown",
      "metadata": {
        "id": "dhFykzynzS0N"
      },
      "source": [
        "# Statistical testing on fatality rate for both gender = (deceased/confirmed).\n"
      ]
    },
    {
      "cell_type": "markdown",
      "metadata": {
        "id": "vWTIKzk0vubh"
      },
      "source": [
        "### This is two proportional test and i would be using the two proportional z test at 95% confidence level.\n",
        "H0 = Proportion of male and female fatality rate are the same\n",
        "\n",
        "HA = Proportion of male and female fatality rate are NOT the same"
      ]
    },
    {
      "cell_type": "code",
      "metadata": {
        "colab": {
          "base_uri": "https://localhost:8080/"
        },
        "id": "PcaCILaTzSVA",
        "outputId": "7de84faf-36d7-4c3d-bc1b-6181bb521c6b"
      },
      "source": [
        "gender_confirmed = timeg.groupby('sex')['confirmed'].max()\n",
        "print(gender_confirmed)\n",
        "gender_deceased = timeg.groupby('sex')['deceased'].max()\n",
        "print(gender_deceased)"
      ],
      "execution_count": 27,
      "outputs": [
        {
          "output_type": "stream",
          "text": [
            "sex\n",
            "female    7305\n",
            "male      5495\n",
            "Name: confirmed, dtype: int64\n",
            "sex\n",
            "female    131\n",
            "male      151\n",
            "Name: deceased, dtype: int64\n"
          ],
          "name": "stdout"
        }
      ]
    },
    {
      "cell_type": "markdown",
      "metadata": {
        "id": "cVW09uvf6cWb"
      },
      "source": [
        "Verify that the difference in the fatality rate between male and female groups is statistically significant using z-test, 95% confidence level."
      ]
    },
    {
      "cell_type": "code",
      "metadata": {
        "colab": {
          "base_uri": "https://localhost:8080/"
        },
        "id": "QLfhaYCr3vS4",
        "outputId": "7e886350-d6e7-4c98-ce55-86086a1a670c"
      },
      "source": [
        "#proportion of male\n",
        "p_male = 151/5495\n",
        "print(p_male)\n",
        "#proportion of female\n",
        "p_female = 131/7305\n",
        "print(p_female)"
      ],
      "execution_count": 28,
      "outputs": [
        {
          "output_type": "stream",
          "text": [
            "0.027479526842584166\n",
            "0.017932922655715264\n"
          ],
          "name": "stdout"
        }
      ]
    },
    {
      "cell_type": "code",
      "metadata": {
        "colab": {
          "base_uri": "https://localhost:8080/"
        },
        "id": "fmgIyxZ-6uqG",
        "outputId": "9b86a4dd-010b-467b-e55d-2dca95270eb4"
      },
      "source": [
        "difference = p_male - p_female\n",
        "\n",
        "male_confirmed = timeg[(timeg[\"sex\"] == \"male\")][\"confirmed\"].max()\n",
        "male_deceased = timeg[(timeg[\"sex\"] == \"male\")][\"deceased\"].max()\n",
        "\n",
        "\n",
        "female_confirmed = timeg[(timeg[\"sex\"] == \"female\")][\"confirmed\"].max()\n",
        "female_deceased = timeg[(timeg[\"sex\"] == \"female\")][\"deceased\"].max()\n",
        "\n",
        "#overall proportion\n",
        "p_overall = (female_deceased + male_deceased) / (female_confirmed + male_confirmed)\n",
        "\n",
        "\n",
        "p_overall_denom = p_overall * (1 - p_overall)\n",
        "counts_denom = (1/male_confirmed + 1/female_confirmed)\n",
        "\n",
        "#calculate standard error\n",
        "standard_error = math.sqrt(p_overall_denom * counts_denom)\n",
        "\n",
        "# Margin_error = z_score * standard error at 95% confidence level\n",
        "M_Error = round(norm.ppf(1-(0.05/2)) * standard_error,5)\n",
        "\n",
        "#confidence interval = best estimate +- Margin of error\n",
        "lower_bound= difference - M_Error \n",
        "upper_bound= difference + M_Error\n",
        "print('lower bound',lower_bound)\n",
        "print('upper bound', upper_bound)\n",
        "print('best estimate', difference)\n"
      ],
      "execution_count": 29,
      "outputs": [
        {
          "output_type": "stream",
          "text": [
            "lower bound 0.004406604186868903\n",
            "upper bound 0.014686604186868901\n",
            "best estimate 0.009546604186868902\n"
          ],
          "name": "stdout"
        }
      ]
    },
    {
      "cell_type": "code",
      "metadata": {
        "colab": {
          "base_uri": "https://localhost:8080/"
        },
        "id": "-DXmbtKODJsc",
        "outputId": "a579f757-2d19-40cd-c1ee-34e816037bcf"
      },
      "source": [
        "#perform z test\n",
        "z_score = (p_male - p_female) / standard_error\n",
        "\n",
        "male_confirmed, female_confirmed, male_deceased,female_deceased, z_score, standard_error"
      ],
      "execution_count": 30,
      "outputs": [
        {
          "output_type": "execute_result",
          "data": {
            "text/plain": [
              "(5495, 7305, 151, 131, 3.6421332621164604, 0.0026211572998076755)"
            ]
          },
          "metadata": {
            "tags": []
          },
          "execution_count": 30
        }
      ]
    },
    {
      "cell_type": "code",
      "metadata": {
        "colab": {
          "base_uri": "https://localhost:8080/"
        },
        "id": "boSkR-gQDpYf",
        "outputId": "d0f4e325-d896-4017-dcad-aeabd4be026e"
      },
      "source": [
        "successes = [male_deceased, female_deceased]\n",
        "nobs = [male_confirmed, female_confirmed]\n",
        "ztest ,pval = proportions_ztest(successes, nobs=nobs)\n",
        "print('Ztest :', ztest)\n",
        "print('P_value :', float(pval))\n",
        "if pval<0.05:\n",
        "    print(\"reject null hypothesis\")\n",
        "else:\n",
        "    print(\"accept null hypothesis\")"
      ],
      "execution_count": 31,
      "outputs": [
        {
          "output_type": "stream",
          "text": [
            "Ztest : 3.6421332621164604\n",
            "P_value : 0.00027038802908660496\n",
            "reject null hypothesis\n"
          ],
          "name": "stdout"
        }
      ]
    },
    {
      "cell_type": "markdown",
      "metadata": {
        "id": "pQ0Ro_sMDonz"
      },
      "source": [
        "### The p value is less than the alpha (0.05), hence we reject the null hypothesis(proportion are the same). There is a statistical difference between the  fatality rate of male and female. Male died more than female."
      ]
    },
    {
      "cell_type": "markdown",
      "metadata": {
        "id": "gm0J5jGMRdQK"
      },
      "source": [
        "# EDA on the timeprovince (Time series data of COVID-19 status in terms of province in South Korea) data table"
      ]
    },
    {
      "cell_type": "code",
      "metadata": {
        "colab": {
          "base_uri": "https://localhost:8080/",
          "height": 203
        },
        "id": "ps4QIAON2URs",
        "outputId": "ef91012b-5a6e-4b53-8df7-20e415c5c2f3"
      },
      "source": [
        "timep.head()"
      ],
      "execution_count": 32,
      "outputs": [
        {
          "output_type": "execute_result",
          "data": {
            "text/html": [
              "<div>\n",
              "<style scoped>\n",
              "    .dataframe tbody tr th:only-of-type {\n",
              "        vertical-align: middle;\n",
              "    }\n",
              "\n",
              "    .dataframe tbody tr th {\n",
              "        vertical-align: top;\n",
              "    }\n",
              "\n",
              "    .dataframe thead th {\n",
              "        text-align: right;\n",
              "    }\n",
              "</style>\n",
              "<table border=\"1\" class=\"dataframe\">\n",
              "  <thead>\n",
              "    <tr style=\"text-align: right;\">\n",
              "      <th></th>\n",
              "      <th>date</th>\n",
              "      <th>time</th>\n",
              "      <th>province</th>\n",
              "      <th>confirmed</th>\n",
              "      <th>released</th>\n",
              "      <th>deceased</th>\n",
              "    </tr>\n",
              "  </thead>\n",
              "  <tbody>\n",
              "    <tr>\n",
              "      <th>0</th>\n",
              "      <td>2020-01-20</td>\n",
              "      <td>16</td>\n",
              "      <td>Seoul</td>\n",
              "      <td>0</td>\n",
              "      <td>0</td>\n",
              "      <td>0</td>\n",
              "    </tr>\n",
              "    <tr>\n",
              "      <th>1</th>\n",
              "      <td>2020-01-20</td>\n",
              "      <td>16</td>\n",
              "      <td>Busan</td>\n",
              "      <td>0</td>\n",
              "      <td>0</td>\n",
              "      <td>0</td>\n",
              "    </tr>\n",
              "    <tr>\n",
              "      <th>2</th>\n",
              "      <td>2020-01-20</td>\n",
              "      <td>16</td>\n",
              "      <td>Daegu</td>\n",
              "      <td>0</td>\n",
              "      <td>0</td>\n",
              "      <td>0</td>\n",
              "    </tr>\n",
              "    <tr>\n",
              "      <th>3</th>\n",
              "      <td>2020-01-20</td>\n",
              "      <td>16</td>\n",
              "      <td>Incheon</td>\n",
              "      <td>1</td>\n",
              "      <td>0</td>\n",
              "      <td>0</td>\n",
              "    </tr>\n",
              "    <tr>\n",
              "      <th>4</th>\n",
              "      <td>2020-01-20</td>\n",
              "      <td>16</td>\n",
              "      <td>Gwangju</td>\n",
              "      <td>0</td>\n",
              "      <td>0</td>\n",
              "      <td>0</td>\n",
              "    </tr>\n",
              "  </tbody>\n",
              "</table>\n",
              "</div>"
            ],
            "text/plain": [
              "         date  time province  confirmed  released  deceased\n",
              "0  2020-01-20    16    Seoul          0         0         0\n",
              "1  2020-01-20    16    Busan          0         0         0\n",
              "2  2020-01-20    16    Daegu          0         0         0\n",
              "3  2020-01-20    16  Incheon          1         0         0\n",
              "4  2020-01-20    16  Gwangju          0         0         0"
            ]
          },
          "metadata": {
            "tags": []
          },
          "execution_count": 32
        }
      ]
    },
    {
      "cell_type": "markdown",
      "metadata": {
        "id": "p5ZH582olxfo"
      },
      "source": [
        "# EDA on the patient info (Epidemology info of COVID-19 patient) data table"
      ]
    },
    {
      "cell_type": "code",
      "metadata": {
        "colab": {
          "base_uri": "https://localhost:8080/",
          "height": 203
        },
        "id": "1-o050VFixU3",
        "outputId": "016ce7d3-7206-4856-cb76-4f3e3fa7a204"
      },
      "source": [
        "patient.head(5)"
      ],
      "execution_count": 33,
      "outputs": [
        {
          "output_type": "execute_result",
          "data": {
            "text/html": [
              "<div>\n",
              "<style scoped>\n",
              "    .dataframe tbody tr th:only-of-type {\n",
              "        vertical-align: middle;\n",
              "    }\n",
              "\n",
              "    .dataframe tbody tr th {\n",
              "        vertical-align: top;\n",
              "    }\n",
              "\n",
              "    .dataframe thead th {\n",
              "        text-align: right;\n",
              "    }\n",
              "</style>\n",
              "<table border=\"1\" class=\"dataframe\">\n",
              "  <thead>\n",
              "    <tr style=\"text-align: right;\">\n",
              "      <th></th>\n",
              "      <th>patient_id</th>\n",
              "      <th>sex</th>\n",
              "      <th>age</th>\n",
              "      <th>country</th>\n",
              "      <th>province</th>\n",
              "      <th>city</th>\n",
              "      <th>infection_case</th>\n",
              "      <th>infected_by</th>\n",
              "      <th>contact_number</th>\n",
              "      <th>symptom_onset_date</th>\n",
              "      <th>confirmed_date</th>\n",
              "      <th>released_date</th>\n",
              "      <th>deceased_date</th>\n",
              "      <th>state</th>\n",
              "    </tr>\n",
              "  </thead>\n",
              "  <tbody>\n",
              "    <tr>\n",
              "      <th>0</th>\n",
              "      <td>1000000001</td>\n",
              "      <td>male</td>\n",
              "      <td>50s</td>\n",
              "      <td>Korea</td>\n",
              "      <td>Seoul</td>\n",
              "      <td>Gangseo-gu</td>\n",
              "      <td>overseas inflow</td>\n",
              "      <td>NaN</td>\n",
              "      <td>75</td>\n",
              "      <td>2020-01-22</td>\n",
              "      <td>2020-01-23</td>\n",
              "      <td>2020-02-05</td>\n",
              "      <td>NaN</td>\n",
              "      <td>released</td>\n",
              "    </tr>\n",
              "    <tr>\n",
              "      <th>1</th>\n",
              "      <td>1000000002</td>\n",
              "      <td>male</td>\n",
              "      <td>30s</td>\n",
              "      <td>Korea</td>\n",
              "      <td>Seoul</td>\n",
              "      <td>Jungnang-gu</td>\n",
              "      <td>overseas inflow</td>\n",
              "      <td>NaN</td>\n",
              "      <td>31</td>\n",
              "      <td>NaN</td>\n",
              "      <td>2020-01-30</td>\n",
              "      <td>2020-03-02</td>\n",
              "      <td>NaN</td>\n",
              "      <td>released</td>\n",
              "    </tr>\n",
              "    <tr>\n",
              "      <th>2</th>\n",
              "      <td>1000000003</td>\n",
              "      <td>male</td>\n",
              "      <td>50s</td>\n",
              "      <td>Korea</td>\n",
              "      <td>Seoul</td>\n",
              "      <td>Jongno-gu</td>\n",
              "      <td>contact with patient</td>\n",
              "      <td>2002000001</td>\n",
              "      <td>17</td>\n",
              "      <td>NaN</td>\n",
              "      <td>2020-01-30</td>\n",
              "      <td>2020-02-19</td>\n",
              "      <td>NaN</td>\n",
              "      <td>released</td>\n",
              "    </tr>\n",
              "    <tr>\n",
              "      <th>3</th>\n",
              "      <td>1000000004</td>\n",
              "      <td>male</td>\n",
              "      <td>20s</td>\n",
              "      <td>Korea</td>\n",
              "      <td>Seoul</td>\n",
              "      <td>Mapo-gu</td>\n",
              "      <td>overseas inflow</td>\n",
              "      <td>NaN</td>\n",
              "      <td>9</td>\n",
              "      <td>2020-01-26</td>\n",
              "      <td>2020-01-30</td>\n",
              "      <td>2020-02-15</td>\n",
              "      <td>NaN</td>\n",
              "      <td>released</td>\n",
              "    </tr>\n",
              "    <tr>\n",
              "      <th>4</th>\n",
              "      <td>1000000005</td>\n",
              "      <td>female</td>\n",
              "      <td>20s</td>\n",
              "      <td>Korea</td>\n",
              "      <td>Seoul</td>\n",
              "      <td>Seongbuk-gu</td>\n",
              "      <td>contact with patient</td>\n",
              "      <td>1000000002</td>\n",
              "      <td>2</td>\n",
              "      <td>NaN</td>\n",
              "      <td>2020-01-31</td>\n",
              "      <td>2020-02-24</td>\n",
              "      <td>NaN</td>\n",
              "      <td>released</td>\n",
              "    </tr>\n",
              "  </tbody>\n",
              "</table>\n",
              "</div>"
            ],
            "text/plain": [
              "   patient_id     sex  age country province         city  \\\n",
              "0  1000000001    male  50s   Korea    Seoul   Gangseo-gu   \n",
              "1  1000000002    male  30s   Korea    Seoul  Jungnang-gu   \n",
              "2  1000000003    male  50s   Korea    Seoul    Jongno-gu   \n",
              "3  1000000004    male  20s   Korea    Seoul      Mapo-gu   \n",
              "4  1000000005  female  20s   Korea    Seoul  Seongbuk-gu   \n",
              "\n",
              "         infection_case infected_by contact_number symptom_onset_date  \\\n",
              "0       overseas inflow         NaN             75         2020-01-22   \n",
              "1       overseas inflow         NaN             31                NaN   \n",
              "2  contact with patient  2002000001             17                NaN   \n",
              "3       overseas inflow         NaN              9         2020-01-26   \n",
              "4  contact with patient  1000000002              2                NaN   \n",
              "\n",
              "  confirmed_date released_date deceased_date     state  \n",
              "0     2020-01-23    2020-02-05           NaN  released  \n",
              "1     2020-01-30    2020-03-02           NaN  released  \n",
              "2     2020-01-30    2020-02-19           NaN  released  \n",
              "3     2020-01-30    2020-02-15           NaN  released  \n",
              "4     2020-01-31    2020-02-24           NaN  released  "
            ]
          },
          "metadata": {
            "tags": []
          },
          "execution_count": 33
        }
      ]
    },
    {
      "cell_type": "code",
      "metadata": {
        "colab": {
          "base_uri": "https://localhost:8080/"
        },
        "id": "IZRh6ec6mQVV",
        "outputId": "6eea988a-bbeb-46bd-c7ae-ce9c9cf6c776"
      },
      "source": [
        "#check for missing value\n",
        "patient.isnull().sum()"
      ],
      "execution_count": 34,
      "outputs": [
        {
          "output_type": "execute_result",
          "data": {
            "text/plain": [
              "patient_id               0\n",
              "sex                   1122\n",
              "age                   1380\n",
              "country                  0\n",
              "province                 0\n",
              "city                    94\n",
              "infection_case         919\n",
              "infected_by           3819\n",
              "contact_number        4374\n",
              "symptom_onset_date    4475\n",
              "confirmed_date           3\n",
              "released_date         3578\n",
              "deceased_date         5099\n",
              "state                    0\n",
              "dtype: int64"
            ]
          },
          "metadata": {
            "tags": []
          },
          "execution_count": 34
        }
      ]
    },
    {
      "cell_type": "code",
      "metadata": {
        "id": "we2rgr_4XqvP"
      },
      "source": [
        "# Remove symbols from sex column\n",
        "patient['age'].replace(regex=True,inplace=True,to_replace=r'\\D',value=r'')"
      ],
      "execution_count": 35,
      "outputs": []
    },
    {
      "cell_type": "code",
      "metadata": {
        "colab": {
          "base_uri": "https://localhost:8080/",
          "height": 665
        },
        "id": "7oe6wbYOcEJA",
        "outputId": "55b5ed80-75d8-4a88-c0bc-54ec38811a82"
      },
      "source": [
        "#Show a table summarizing province by gender and state.\n",
        "pd.crosstab(patient.province,[patient.sex,patient.state], margins=True, margins_name=\"Total\")"
      ],
      "execution_count": 36,
      "outputs": [
        {
          "output_type": "execute_result",
          "data": {
            "text/html": [
              "<div>\n",
              "<style scoped>\n",
              "    .dataframe tbody tr th:only-of-type {\n",
              "        vertical-align: middle;\n",
              "    }\n",
              "\n",
              "    .dataframe tbody tr th {\n",
              "        vertical-align: top;\n",
              "    }\n",
              "\n",
              "    .dataframe thead tr th {\n",
              "        text-align: left;\n",
              "    }\n",
              "\n",
              "    .dataframe thead tr:last-of-type th {\n",
              "        text-align: right;\n",
              "    }\n",
              "</style>\n",
              "<table border=\"1\" class=\"dataframe\">\n",
              "  <thead>\n",
              "    <tr>\n",
              "      <th>sex</th>\n",
              "      <th colspan=\"3\" halign=\"left\">female</th>\n",
              "      <th colspan=\"3\" halign=\"left\">male</th>\n",
              "      <th>Total</th>\n",
              "    </tr>\n",
              "    <tr>\n",
              "      <th>state</th>\n",
              "      <th>deceased</th>\n",
              "      <th>isolated</th>\n",
              "      <th>released</th>\n",
              "      <th>deceased</th>\n",
              "      <th>isolated</th>\n",
              "      <th>released</th>\n",
              "      <th></th>\n",
              "    </tr>\n",
              "    <tr>\n",
              "      <th>province</th>\n",
              "      <th></th>\n",
              "      <th></th>\n",
              "      <th></th>\n",
              "      <th></th>\n",
              "      <th></th>\n",
              "      <th></th>\n",
              "      <th></th>\n",
              "    </tr>\n",
              "  </thead>\n",
              "  <tbody>\n",
              "    <tr>\n",
              "      <th>Busan</th>\n",
              "      <td>1</td>\n",
              "      <td>11</td>\n",
              "      <td>58</td>\n",
              "      <td>2</td>\n",
              "      <td>24</td>\n",
              "      <td>53</td>\n",
              "      <td>149</td>\n",
              "    </tr>\n",
              "    <tr>\n",
              "      <th>Chungcheongbuk-do</th>\n",
              "      <td>0</td>\n",
              "      <td>1</td>\n",
              "      <td>28</td>\n",
              "      <td>0</td>\n",
              "      <td>5</td>\n",
              "      <td>22</td>\n",
              "      <td>56</td>\n",
              "    </tr>\n",
              "    <tr>\n",
              "      <th>Chungcheongnam-do</th>\n",
              "      <td>0</td>\n",
              "      <td>13</td>\n",
              "      <td>98</td>\n",
              "      <td>0</td>\n",
              "      <td>4</td>\n",
              "      <td>52</td>\n",
              "      <td>167</td>\n",
              "    </tr>\n",
              "    <tr>\n",
              "      <th>Daegu</th>\n",
              "      <td>7</td>\n",
              "      <td>63</td>\n",
              "      <td>3</td>\n",
              "      <td>13</td>\n",
              "      <td>50</td>\n",
              "      <td>1</td>\n",
              "      <td>137</td>\n",
              "    </tr>\n",
              "    <tr>\n",
              "      <th>Daejeon</th>\n",
              "      <td>1</td>\n",
              "      <td>43</td>\n",
              "      <td>21</td>\n",
              "      <td>0</td>\n",
              "      <td>31</td>\n",
              "      <td>23</td>\n",
              "      <td>119</td>\n",
              "    </tr>\n",
              "    <tr>\n",
              "      <th>Gangwon-do</th>\n",
              "      <td>2</td>\n",
              "      <td>6</td>\n",
              "      <td>21</td>\n",
              "      <td>1</td>\n",
              "      <td>8</td>\n",
              "      <td>25</td>\n",
              "      <td>63</td>\n",
              "    </tr>\n",
              "    <tr>\n",
              "      <th>Gwangju</th>\n",
              "      <td>0</td>\n",
              "      <td>14</td>\n",
              "      <td>11</td>\n",
              "      <td>0</td>\n",
              "      <td>7</td>\n",
              "      <td>12</td>\n",
              "      <td>44</td>\n",
              "    </tr>\n",
              "    <tr>\n",
              "      <th>Gyeonggi-do</th>\n",
              "      <td>0</td>\n",
              "      <td>405</td>\n",
              "      <td>26</td>\n",
              "      <td>1</td>\n",
              "      <td>363</td>\n",
              "      <td>35</td>\n",
              "      <td>830</td>\n",
              "    </tr>\n",
              "    <tr>\n",
              "      <th>Gyeongsangbuk-do</th>\n",
              "      <td>17</td>\n",
              "      <td>78</td>\n",
              "      <td>650</td>\n",
              "      <td>25</td>\n",
              "      <td>53</td>\n",
              "      <td>429</td>\n",
              "      <td>1252</td>\n",
              "    </tr>\n",
              "    <tr>\n",
              "      <th>Gyeongsangnam-do</th>\n",
              "      <td>0</td>\n",
              "      <td>2</td>\n",
              "      <td>55</td>\n",
              "      <td>0</td>\n",
              "      <td>4</td>\n",
              "      <td>68</td>\n",
              "      <td>129</td>\n",
              "    </tr>\n",
              "    <tr>\n",
              "      <th>Incheon</th>\n",
              "      <td>0</td>\n",
              "      <td>143</td>\n",
              "      <td>53</td>\n",
              "      <td>0</td>\n",
              "      <td>104</td>\n",
              "      <td>43</td>\n",
              "      <td>343</td>\n",
              "    </tr>\n",
              "    <tr>\n",
              "      <th>Jeju-do</th>\n",
              "      <td>0</td>\n",
              "      <td>0</td>\n",
              "      <td>11</td>\n",
              "      <td>0</td>\n",
              "      <td>0</td>\n",
              "      <td>4</td>\n",
              "      <td>15</td>\n",
              "    </tr>\n",
              "    <tr>\n",
              "      <th>Jeollabuk-do</th>\n",
              "      <td>0</td>\n",
              "      <td>3</td>\n",
              "      <td>7</td>\n",
              "      <td>0</td>\n",
              "      <td>3</td>\n",
              "      <td>14</td>\n",
              "      <td>27</td>\n",
              "    </tr>\n",
              "    <tr>\n",
              "      <th>Jeollanam-do</th>\n",
              "      <td>0</td>\n",
              "      <td>0</td>\n",
              "      <td>8</td>\n",
              "      <td>0</td>\n",
              "      <td>5</td>\n",
              "      <td>12</td>\n",
              "      <td>25</td>\n",
              "    </tr>\n",
              "    <tr>\n",
              "      <th>Sejong</th>\n",
              "      <td>0</td>\n",
              "      <td>3</td>\n",
              "      <td>19</td>\n",
              "      <td>0</td>\n",
              "      <td>0</td>\n",
              "      <td>28</td>\n",
              "      <td>50</td>\n",
              "    </tr>\n",
              "    <tr>\n",
              "      <th>Seoul</th>\n",
              "      <td>0</td>\n",
              "      <td>3</td>\n",
              "      <td>309</td>\n",
              "      <td>4</td>\n",
              "      <td>3</td>\n",
              "      <td>265</td>\n",
              "      <td>584</td>\n",
              "    </tr>\n",
              "    <tr>\n",
              "      <th>Ulsan</th>\n",
              "      <td>0</td>\n",
              "      <td>0</td>\n",
              "      <td>24</td>\n",
              "      <td>1</td>\n",
              "      <td>2</td>\n",
              "      <td>26</td>\n",
              "      <td>53</td>\n",
              "    </tr>\n",
              "    <tr>\n",
              "      <th>Total</th>\n",
              "      <td>28</td>\n",
              "      <td>788</td>\n",
              "      <td>1402</td>\n",
              "      <td>47</td>\n",
              "      <td>666</td>\n",
              "      <td>1112</td>\n",
              "      <td>4043</td>\n",
              "    </tr>\n",
              "  </tbody>\n",
              "</table>\n",
              "</div>"
            ],
            "text/plain": [
              "sex                 female                       male                   Total\n",
              "state             deceased isolated released deceased isolated released      \n",
              "province                                                                     \n",
              "Busan                    1       11       58        2       24       53   149\n",
              "Chungcheongbuk-do        0        1       28        0        5       22    56\n",
              "Chungcheongnam-do        0       13       98        0        4       52   167\n",
              "Daegu                    7       63        3       13       50        1   137\n",
              "Daejeon                  1       43       21        0       31       23   119\n",
              "Gangwon-do               2        6       21        1        8       25    63\n",
              "Gwangju                  0       14       11        0        7       12    44\n",
              "Gyeonggi-do              0      405       26        1      363       35   830\n",
              "Gyeongsangbuk-do        17       78      650       25       53      429  1252\n",
              "Gyeongsangnam-do         0        2       55        0        4       68   129\n",
              "Incheon                  0      143       53        0      104       43   343\n",
              "Jeju-do                  0        0       11        0        0        4    15\n",
              "Jeollabuk-do             0        3        7        0        3       14    27\n",
              "Jeollanam-do             0        0        8        0        5       12    25\n",
              "Sejong                   0        3       19        0        0       28    50\n",
              "Seoul                    0        3      309        4        3      265   584\n",
              "Ulsan                    0        0       24        1        2       26    53\n",
              "Total                   28      788     1402       47      666     1112  4043"
            ]
          },
          "metadata": {
            "tags": []
          },
          "execution_count": 36
        }
      ]
    },
    {
      "cell_type": "code",
      "metadata": {
        "id": "9qgoyjp6ciUF"
      },
      "source": [
        "#Which gender has the most group infection case?\n",
        "#merge case and patient data\n",
        "case_patient = pd.merge(case, patient,how='inner')"
      ],
      "execution_count": 37,
      "outputs": []
    },
    {
      "cell_type": "code",
      "metadata": {
        "colab": {
          "base_uri": "https://localhost:8080/"
        },
        "id": "rtQIHqmVeF95",
        "outputId": "12d76f3e-a389-43e2-f1d0-09f20bcf780b"
      },
      "source": [
        "sex_group = case_patient.groupby(['sex','group'])['group'].count()\n",
        "sex_group"
      ],
      "execution_count": 38,
      "outputs": [
        {
          "output_type": "execute_result",
          "data": {
            "text/plain": [
              "sex     group\n",
              "female  True     152\n",
              "male    True     103\n",
              "Name: group, dtype: int64"
            ]
          },
          "metadata": {
            "tags": []
          },
          "execution_count": 38
        }
      ]
    },
    {
      "cell_type": "markdown",
      "metadata": {
        "id": "2aCA4wkVGpmZ"
      },
      "source": [
        "### Female has more group infection than male"
      ]
    },
    {
      "cell_type": "code",
      "metadata": {
        "id": "j6UUUcMHUhPr"
      },
      "source": [
        "patient = patient[patient['sex'].notna()]\n",
        "patient = patient[patient['age'].notna()]\n",
        "patient = patient[patient['age'].notna()]"
      ],
      "execution_count": 39,
      "outputs": []
    },
    {
      "cell_type": "code",
      "metadata": {
        "id": "vDQIG7dpKwgV"
      },
      "source": [
        "#Drop all rows where sex,age and infection_case is null\n",
        "patient_new = patient.dropna(subset=['sex','age','infection_case'])"
      ],
      "execution_count": 40,
      "outputs": []
    },
    {
      "cell_type": "code",
      "metadata": {
        "colab": {
          "base_uri": "https://localhost:8080/"
        },
        "id": "MpvE1kkMcYP8",
        "outputId": "5716573e-9554-4620-9d8e-543a8cb0f1e1"
      },
      "source": [
        "patient_new.isnull().sum()"
      ],
      "execution_count": 41,
      "outputs": [
        {
          "output_type": "execute_result",
          "data": {
            "text/plain": [
              "patient_id               0\n",
              "sex                      0\n",
              "age                      0\n",
              "country                  0\n",
              "province                 0\n",
              "city                    54\n",
              "infection_case           0\n",
              "infected_by           1994\n",
              "contact_number        2235\n",
              "symptom_onset_date    2415\n",
              "confirmed_date           3\n",
              "released_date         1953\n",
              "deceased_date         2927\n",
              "state                    0\n",
              "dtype: int64"
            ]
          },
          "metadata": {
            "tags": []
          },
          "execution_count": 41
        }
      ]
    },
    {
      "cell_type": "code",
      "metadata": {
        "colab": {
          "base_uri": "https://localhost:8080/",
          "height": 480
        },
        "id": "3FuuaY7PTu9r",
        "outputId": "aecfe2e3-85c7-4424-f79b-afd7d4ff5bde"
      },
      "source": [
        "#find the percentage of missing value for each column\n",
        "mask = patient_new.isnull()\n",
        "total = mask.sum()\n",
        "percent = 100*mask.mean()\n",
        "missing_data = pd.concat([total, percent], axis=1,join='outer',\n",
        "keys=['count_missing', 'perc_missing'])\n",
        "missing_data.sort_values(by='perc_missing', ascending=False,\n",
        "inplace=True)\n",
        "missing_data"
      ],
      "execution_count": 42,
      "outputs": [
        {
          "output_type": "execute_result",
          "data": {
            "text/html": [
              "<div>\n",
              "<style scoped>\n",
              "    .dataframe tbody tr th:only-of-type {\n",
              "        vertical-align: middle;\n",
              "    }\n",
              "\n",
              "    .dataframe tbody tr th {\n",
              "        vertical-align: top;\n",
              "    }\n",
              "\n",
              "    .dataframe thead th {\n",
              "        text-align: right;\n",
              "    }\n",
              "</style>\n",
              "<table border=\"1\" class=\"dataframe\">\n",
              "  <thead>\n",
              "    <tr style=\"text-align: right;\">\n",
              "      <th></th>\n",
              "      <th>count_missing</th>\n",
              "      <th>perc_missing</th>\n",
              "    </tr>\n",
              "  </thead>\n",
              "  <tbody>\n",
              "    <tr>\n",
              "      <th>deceased_date</th>\n",
              "      <td>2927</td>\n",
              "      <td>99.052453</td>\n",
              "    </tr>\n",
              "    <tr>\n",
              "      <th>symptom_onset_date</th>\n",
              "      <td>2415</td>\n",
              "      <td>81.725888</td>\n",
              "    </tr>\n",
              "    <tr>\n",
              "      <th>contact_number</th>\n",
              "      <td>2235</td>\n",
              "      <td>75.634518</td>\n",
              "    </tr>\n",
              "    <tr>\n",
              "      <th>infected_by</th>\n",
              "      <td>1994</td>\n",
              "      <td>67.478849</td>\n",
              "    </tr>\n",
              "    <tr>\n",
              "      <th>released_date</th>\n",
              "      <td>1953</td>\n",
              "      <td>66.091371</td>\n",
              "    </tr>\n",
              "    <tr>\n",
              "      <th>city</th>\n",
              "      <td>54</td>\n",
              "      <td>1.827411</td>\n",
              "    </tr>\n",
              "    <tr>\n",
              "      <th>confirmed_date</th>\n",
              "      <td>3</td>\n",
              "      <td>0.101523</td>\n",
              "    </tr>\n",
              "    <tr>\n",
              "      <th>patient_id</th>\n",
              "      <td>0</td>\n",
              "      <td>0.000000</td>\n",
              "    </tr>\n",
              "    <tr>\n",
              "      <th>sex</th>\n",
              "      <td>0</td>\n",
              "      <td>0.000000</td>\n",
              "    </tr>\n",
              "    <tr>\n",
              "      <th>age</th>\n",
              "      <td>0</td>\n",
              "      <td>0.000000</td>\n",
              "    </tr>\n",
              "    <tr>\n",
              "      <th>country</th>\n",
              "      <td>0</td>\n",
              "      <td>0.000000</td>\n",
              "    </tr>\n",
              "    <tr>\n",
              "      <th>province</th>\n",
              "      <td>0</td>\n",
              "      <td>0.000000</td>\n",
              "    </tr>\n",
              "    <tr>\n",
              "      <th>infection_case</th>\n",
              "      <td>0</td>\n",
              "      <td>0.000000</td>\n",
              "    </tr>\n",
              "    <tr>\n",
              "      <th>state</th>\n",
              "      <td>0</td>\n",
              "      <td>0.000000</td>\n",
              "    </tr>\n",
              "  </tbody>\n",
              "</table>\n",
              "</div>"
            ],
            "text/plain": [
              "                    count_missing  perc_missing\n",
              "deceased_date                2927     99.052453\n",
              "symptom_onset_date           2415     81.725888\n",
              "contact_number               2235     75.634518\n",
              "infected_by                  1994     67.478849\n",
              "released_date                1953     66.091371\n",
              "city                           54      1.827411\n",
              "confirmed_date                  3      0.101523\n",
              "patient_id                      0      0.000000\n",
              "sex                             0      0.000000\n",
              "age                             0      0.000000\n",
              "country                         0      0.000000\n",
              "province                        0      0.000000\n",
              "infection_case                  0      0.000000\n",
              "state                           0      0.000000"
            ]
          },
          "metadata": {
            "tags": []
          },
          "execution_count": 42
        }
      ]
    },
    {
      "cell_type": "code",
      "metadata": {
        "id": "E6125AbHcfsf"
      },
      "source": [
        "#drop all columns with missing values, patient_id, country and confirmed_date\n",
        "patient_new = patient_new.drop(['country','patient_id','deceased_date','symptom_onset_date','contact_number',\n",
        "                                'infected_by','released_date','city'], axis = 1)"
      ],
      "execution_count": 43,
      "outputs": []
    },
    {
      "cell_type": "code",
      "metadata": {
        "id": "ZAsoesSzYMjT"
      },
      "source": [
        "#Change all features to numeric\n",
        "patient_new['province'] = patient_new['province'].astype('category').cat.codes #change to numeric\n",
        "patient_new['age'].astype('int') # change age data type to int\n",
        "d_sex = {\"male\": 1, \"female\" : 0}\n",
        "patient_new['sex'] = patient_new['sex'].map(d_sex) #convert sex to numeric\n",
        "patient_new['infection_case'] = patient_new['infection_case'].astype('category').cat.codes\n",
        "patient_new['confirmed_date'] = pd.to_datetime(patient['confirmed_date'])"
      ],
      "execution_count": 44,
      "outputs": []
    },
    {
      "cell_type": "code",
      "metadata": {
        "colab": {
          "base_uri": "https://localhost:8080/",
          "height": 142
        },
        "id": "hwVbzcqjWrfN",
        "outputId": "f647b20e-f7be-48b9-b608-07b5c2da5bc4"
      },
      "source": [
        "#Find the correlation between our features\n",
        "patient_new.corr()"
      ],
      "execution_count": 45,
      "outputs": [
        {
          "output_type": "execute_result",
          "data": {
            "text/html": [
              "<div>\n",
              "<style scoped>\n",
              "    .dataframe tbody tr th:only-of-type {\n",
              "        vertical-align: middle;\n",
              "    }\n",
              "\n",
              "    .dataframe tbody tr th {\n",
              "        vertical-align: top;\n",
              "    }\n",
              "\n",
              "    .dataframe thead th {\n",
              "        text-align: right;\n",
              "    }\n",
              "</style>\n",
              "<table border=\"1\" class=\"dataframe\">\n",
              "  <thead>\n",
              "    <tr style=\"text-align: right;\">\n",
              "      <th></th>\n",
              "      <th>sex</th>\n",
              "      <th>province</th>\n",
              "      <th>infection_case</th>\n",
              "    </tr>\n",
              "  </thead>\n",
              "  <tbody>\n",
              "    <tr>\n",
              "      <th>sex</th>\n",
              "      <td>1.000000</td>\n",
              "      <td>0.021470</td>\n",
              "      <td>0.051424</td>\n",
              "    </tr>\n",
              "    <tr>\n",
              "      <th>province</th>\n",
              "      <td>0.021470</td>\n",
              "      <td>1.000000</td>\n",
              "      <td>-0.122529</td>\n",
              "    </tr>\n",
              "    <tr>\n",
              "      <th>infection_case</th>\n",
              "      <td>0.051424</td>\n",
              "      <td>-0.122529</td>\n",
              "      <td>1.000000</td>\n",
              "    </tr>\n",
              "  </tbody>\n",
              "</table>\n",
              "</div>"
            ],
            "text/plain": [
              "                     sex  province  infection_case\n",
              "sex             1.000000  0.021470        0.051424\n",
              "province        0.021470  1.000000       -0.122529\n",
              "infection_case  0.051424 -0.122529        1.000000"
            ]
          },
          "metadata": {
            "tags": []
          },
          "execution_count": 45
        }
      ]
    },
    {
      "cell_type": "markdown",
      "metadata": {
        "id": "K-W-gWijYknE"
      },
      "source": [
        "### There is no correlation between the features hence our model would not be adversely affected by redundant features"
      ]
    },
    {
      "cell_type": "markdown",
      "metadata": {
        "id": "I7Seefvu3CPT"
      },
      "source": [
        "# Modelling"
      ]
    },
    {
      "cell_type": "markdown",
      "metadata": {
        "id": "yMpaWeIpZphz"
      },
      "source": [
        "### Label Encoding: Label encode the target feature"
      ]
    },
    {
      "cell_type": "code",
      "metadata": {
        "colab": {
          "base_uri": "https://localhost:8080/"
        },
        "id": "Ju6C4gRwb_hQ",
        "outputId": "b5f2548c-b8f0-4cb4-924f-be48972dabed"
      },
      "source": [
        "patient_new['state'].value_counts()"
      ],
      "execution_count": 46,
      "outputs": [
        {
          "output_type": "execute_result",
          "data": {
            "text/plain": [
              "released    1855\n",
              "isolated    1065\n",
              "deceased      35\n",
              "Name: state, dtype: int64"
            ]
          },
          "metadata": {
            "tags": []
          },
          "execution_count": 46
        }
      ]
    },
    {
      "cell_type": "code",
      "metadata": {
        "colab": {
          "base_uri": "https://localhost:8080/"
        },
        "id": "X5fhMyzUZov1",
        "outputId": "9091a7dc-6ff4-4294-bfd7-fe35904ced9d"
      },
      "source": [
        "#label encode the target variable\n",
        "target = patient_new['state']\n",
        "features = patient_new.drop(['confirmed_date','state'],axis = 1)\n",
        "\n",
        "le = LabelEncoder()\n",
        "le.fit(target)\n",
        "enc_target = pd.Series(le.transform(target)).to_frame()\n",
        "enc_target.value_counts()"
      ],
      "execution_count": 47,
      "outputs": [
        {
          "output_type": "execute_result",
          "data": {
            "text/plain": [
              "2    1855\n",
              "1    1065\n",
              "0      35\n",
              "dtype: int64"
            ]
          },
          "metadata": {
            "tags": []
          },
          "execution_count": 47
        }
      ]
    },
    {
      "cell_type": "markdown",
      "metadata": {
        "id": "v-eNJr0IcRkS"
      },
      "source": [
        "### PCA( Dimensionality Reduction of the patient data)"
      ]
    },
    {
      "cell_type": "code",
      "metadata": {
        "colab": {
          "base_uri": "https://localhost:8080/"
        },
        "id": "CtGFkp3XchDa",
        "outputId": "1af80c63-9fd5-4e2d-917a-a8e35ce7d212"
      },
      "source": [
        "pca = PCA()\n",
        "pca.fit(features)\n",
        "pca.explained_variance_ratio_"
      ],
      "execution_count": 48,
      "outputs": [
        {
          "output_type": "execute_result",
          "data": {
            "text/plain": [
              "array([8.47787195e-01, 1.10208609e-01, 4.14633394e-02, 5.40856920e-04])"
            ]
          },
          "metadata": {
            "tags": []
          },
          "execution_count": 48
        }
      ]
    },
    {
      "cell_type": "code",
      "metadata": {
        "colab": {
          "base_uri": "https://localhost:8080/",
          "height": 530
        },
        "id": "YyN1Kiu5gros",
        "outputId": "86f3e75e-8484-4dba-9a2e-00e64357759b"
      },
      "source": [
        "plt.figure(figsize = (10,8))\n",
        "plt.plot(range(1,5),pca.explained_variance_ratio_.cumsum(), marker = 'o', linestyle=\"--\")\n",
        "plt.title('Explained Variance by Components')\n",
        "plt.xlabel('Number of components')\n",
        "plt.ylabel('Cumulative Explained Variance')"
      ],
      "execution_count": 49,
      "outputs": [
        {
          "output_type": "execute_result",
          "data": {
            "text/plain": [
              "Text(0, 0.5, 'Cumulative Explained Variance')"
            ]
          },
          "metadata": {
            "tags": []
          },
          "execution_count": 49
        },
        {
          "output_type": "display_data",
          "data": {
            "image/png": "[encoded data removed]",
            "text/plain": [
              "<Figure size 720x576 with 1 Axes>"
            ]
          },
          "metadata": {
            "tags": [],
            "needs_background": "light"
          }
        }
      ]
    },
    {
      "cell_type": "markdown",
      "metadata": {
        "id": "BCZ1GdJ3JENq"
      },
      "source": [
        "### We would be retaining almost 96% of our information at second component which is okay"
      ]
    },
    {
      "cell_type": "code",
      "metadata": {
        "colab": {
          "base_uri": "https://localhost:8080/"
        },
        "id": "gT9GF9G2ikgA",
        "outputId": "9c912c86-ba93-4c39-9f64-a1ead96ae3b1"
      },
      "source": [
        "pca = PCA(n_components = 2)\n",
        "pca.fit(features)\n",
        "data_pca = pca.transform(features)\n",
        "variance = pca.explained_variance_ratio_\n",
        "print(variance)\n",
        "\n",
        "#Save components to a DataFrame\n",
        "PCA_components = pd.DataFrame(data_pca)"
      ],
      "execution_count": 50,
      "outputs": [
        {
          "output_type": "stream",
          "text": [
            "[0.84778719 0.11020861]\n"
          ],
          "name": "stdout"
        }
      ]
    },
    {
      "cell_type": "code",
      "metadata": {
        "id": "4AR1SDvBiwyn"
      },
      "source": [
        "#create a dataframe to store the components \n",
        "principalDf = pd.DataFrame(data = data_pca,columns = ['principal component 1', 'principal component 2' ])\n",
        "finalDf = pd.concat([principalDf, target], axis = 1)"
      ],
      "execution_count": 51,
      "outputs": []
    },
    {
      "cell_type": "code",
      "metadata": {
        "colab": {
          "base_uri": "https://localhost:8080/",
          "height": 542
        },
        "id": "7Ls0ICFbjA7s",
        "outputId": "0675ef47-2f84-4de2-e47a-05d8cd887d52"
      },
      "source": [
        "#2d representation of patient data, verify its seperability\n",
        "fig = px.scatter(data_pca, x = 0, y = 1, color = target)\n",
        "fig.show(title=\"Separability of the target variable in the data\", xlabel = 'PCA 1',ylabel = 'PCA 2')"
      ],
      "execution_count": 52,
      "outputs": [
        {
          "output_type": "display_data",
          "data": {
            "text/html": [
              "<html>\n",
              "<head><meta charset=\"utf-8\" /></head>\n",
              "<body>\n",
              "    <div>\n",
              "            <script src=\"https://cdnjs.cloudflare.com/ajax/libs/mathjax/2.7.5/MathJax.js?config=TeX-AMS-MML_SVG\"></script><script type=\"text/javascript\">if (window.MathJax) {MathJax.Hub.Config({SVG: {font: \"STIX-Web\"}});}</script>\n",
              "                <script type=\"text/javascript\">window.PlotlyConfig = {MathJaxConfig: 'local'};</script>\n",
              "        <script src=\"https://cdn.plot.ly/plotly-latest.min.js\"></script>    \n",
              "            <div id=\"f7d66dea-8b21-47fa-9d02-b5f8078bc837\" class=\"plotly-graph-div\" style=\"height:525px; width:100%;\"></div>\n",
              "            <script type=\"text/javascript\">\n",
              "                \n",
              "                    window.PLOTLYENV=window.PLOTLYENV || {};\n",
              "                    \n",
              "                if (document.getElementById(\"f7d66dea-8b21-47fa-9d02-b5f8078bc837\")) {\n",
              "                    Plotly.newPlot(\n",
              "                        'f7d66dea-8b21-47fa-9d02-b5f8078bc837',\n",
              "                        [{\"hoverlabel\": {\"namelength\": 0}, \"hovertemplate\": \"color=released<br>0=%{x}<br>1=%{y}\", \"legendgroup\": \"color=released\", \"marker\": {\"color\": \"#636efa\", \"symbol\": \"circle\"}, \"mode\": \"markers\", \"name\": \"color=released\", \"showlegend\": true, \"type\": \"scattergl\", \"x\": [9.81656857948351, -10.128880378265755, 10.10945215777579, -20.101604857140387, -19.805855123941868, 10.112318312682032, -19.80872127884811, -20.101604857140387, -10.128880378265755, 20.085042791556663, 9.819434734389752, -20.101604857140387, 20.085042791556663, 30.34778469381733, 30.054901115525052, 30.054901115525052, -19.88194217342118, 30.057767270431295, 30.350650848723575, 40.02762559439969, -8.29835801393901, 10.25589394692193, 0.1367276789011565, 21.619815422684887, -9.909217694546546, 9.81656857948351, 31.595406056465762, -18.2682163379074, 21.619815422684887, 10.036231263202719, 10.10945215777579, 10.112318312682032, -19.80872127884811, -9.909217694546546, 11.649957098716497, 0.13959383380739926, 20.00895574207735, 29.76488369213902, 19.792159213264387, 10.036231263202719, 0.06350678432808668, -20.098738702234144, 20.08217663665042, 0.1367276789011565, -19.805855123941868, -19.66227948970197, -19.879076018514937, 21.619815422684887, -19.88194217342118, -19.879076018514937, -10.128880378265755, 1.6772326198418652, 41.5681305353404, -18.2682163379074, 10.036231263202719, 31.595406056465762, -9.906351539640305, 21.62268157759113, 41.56526438043416, 21.619815422684887, 0.06350678432808668, -9.909217694546546, -9.833130645067234, -9.835996799973476, -9.909217694546546, -19.805855123941868, -19.879076018514937, 0.06350678432808668, 0.4324774120996785, -9.906351539640305, 0.06637293923432944, 0.06350678432808668, 10.036231263202719, -10.128880378265755, 0.1367276789011565, -19.879076018514937, 0.42961125719343574, -29.48569602452422, -19.805855123941868, -9.833130645067234, 19.789293058358144, -19.805855123941868, -19.805855123941868, -10.126014223359514, -9.906351539640305, -29.488562179430463, 0.42961125719343574, 10.40233573606807, 10.40233573606807, 0.06350678432808668, -19.51583770055583, 10.03909741810896, 10.405201890974311, -19.512971545649588, -9.909217694546546, -9.835996799973476, 10.036231263202719, -19.879076018514937, -8.15191622479287, -29.7785796028165, 0.4324774120996785, -20.101604857140387, -29.85180049738957, -9.909217694546546, -9.835996799973476, -9.835996799973476, 0.1367276789011565, 10.10945215777579, -9.835996799973476, -39.75130408169113, 20.085042791556663, -19.805855123941868, 10.112318312682032, -10.128880378265755, 20.08217663665042, 10.10945215777579, 20.08217663665042, -8.15191622479287, -39.75130408169113, -18.12177454876126, 29.984546375858226, -18.124640703667502, 11.503515309570357, -9.833130645067234, 10.10945215777579, 20.08217663665042, 20.085042791556663, -19.80872127884811, 11.503515309570357, 11.500649154664115, -0.15328974448487998, -19.805855123941868, -9.909217694546546, 11.503515309570357, 11.503515309570357, -9.909217694546546, -8.44479980308515, 0.06637293923432944, 11.503515309570357, 1.5307908306957256, 1.5279246757894829, 1.5307908306957256, 1.5279246757894829, 11.503515309570357, -18.417524281959782, 11.500649154664115, 11.503515309570357, 21.476239788444992, 1.5307908306957256, 1.5307908306957256, 11.503515309570357, 11.503515309570357, 11.503515309570357, -8.441933648178908, 1.5307908306957256, 1.5307908306957256, 1.5307908306957256, 21.476239788444992, 11.503515309570357, 11.503515309570357, 1.5307908306957256, 20.085042791556663, 1.5307908306957256, 1.5307908306957256, 1.5307908306957256, 1.5307908306957256, 1.5307908306957256, 11.503515309570357, 1.5307908306957256, 11.503515309570357, 11.503515309570357, -19.80872127884811, -18.41465812705354, 1.5307908306957256, 1.5279246757894829, -19.805855123941868, 11.500649154664115, 1.5307908306957256, -8.441933648178908, 11.503515309570357, 11.503515309570357, -8.44479980308515, -8.441933648178908, 11.503515309570357, 11.503515309570357, -19.805855123941868, -19.80872127884811, 11.503515309570357, -10.126014223359514, -18.41465812705354, -18.417524281959782, 1.5279246757894829, -8.441933648178908, 21.476239788444992, 21.47337363353875, 11.503515309570357, 1.5307908306957256, 11.503515309570357, -8.44479980308515, 21.47337363353875, -18.417524281959782, 11.500649154664115, -18.41465812705354, -19.879076018514937, 29.984546375858226, 1.5279246757894829, 31.44609811241338, 10.036231263202719, -18.124640703667502, -18.12177454876126, -18.41465812705354, 11.503515309570357, 20.011821896983594, -10.128880378265755, -18.124640703667502, 1.5279246757894829, -8.441933648178908, 11.793532732956395, -29.781445757722743, 9.81656857948351, -18.41465812705354, -29.781445757722743, -19.80872127884811, -18.417524281959782, -9.909217694546546, 21.476239788444992, -10.128880378265755, -20.101604857140387, 10.258760101828171, -19.80872127884811, -19.805855123941868, -19.879076018514937, 10.10945215777579, -20.101604857140387, -20.098738702234144, 31.741847845611904, -18.124640703667502, 11.793532732956395, 21.769123366737272, -19.80872127884811, 0.13959383380739926, 21.769123366737272, -8.44479980308515, 10.036231263202719, 9.81656857948351, 11.503515309570357, -19.805855123941868, -29.7785796028165, -38.36297323970905, -9.909217694546546, 11.500649154664115, 41.421688746194256, -9.906351539640305, -18.41465812705354, -8.44479980308515, -18.124640703667502, -18.124640703667502, -9.909217694546546, 0.06350678432808668, 1.5307908306957256, -29.781445757722743, 0.1367276789011565, -9.909217694546546, -20.101604857140387, 10.03909741810896, -28.097365182542134, -20.098738702234144, -20.098738702234144, -20.101604857140387, -0.15615589939112273, 1.5307908306957256, 11.796398887862637, -8.441933648178908, -38.36297323970905, -10.128880378265755, -20.098738702234144, 49.92712917870125, 0.06350678432808668, -10.126014223359514, -10.128880378265755, 29.984546375858226, 40.03049174930593, -28.38738260592817, -28.390248760834414, 10.112318312682032, -20.101604857140387, -10.126014223359514, 11.503515309570357, -0.15328974448487998, 21.476239788444992, 19.792159213264387, -10.126014223359514, 11.503515309570357, -19.805855123941868, 10.112318312682032, -0.15615589939112273, 1.5307908306957256, -9.909217694546546, -30.07432933601502, 29.762017537232776, -20.098738702234144, -20.101604857140387, -20.101604857140387, 20.08217663665042, -20.098738702234144, -0.15615589939112273, 20.085042791556663, -39.75130408169113, 10.036231263202719, -20.098738702234144, -20.101604857140387, 11.503515309570357, -19.88194217342118, -10.126014223359514, -19.80872127884811, -19.80872127884811, 20.08217663665042, -20.101604857140387, -20.098738702234144, -9.835996799973476, 10.03909741810896, 9.81656857948351, -20.101604857140387, -20.098738702234144, 11.503515309570357, 1.5307908306957256, -19.805855123941868, 29.981680220951983, -0.15615589939112273, -30.071463181108776, -20.101604857140387, -10.128880378265755, -20.098738702234144, -20.098738702234144, -20.098738702234144, -20.101604857140387, -20.098738702234144, -9.833130645067234, -29.7785796028165, -10.128880378265755, 20.08217663665042, 19.789293058358144, 9.81656857948351, -19.805855123941868, -20.098738702234144, -10.126014223359514, -10.128880378265755, -10.128880378265755, -20.098738702234144, 0.06350678432808668, -20.098738702234144, -20.098738702234144, 30.057767270431295, -20.098738702234144, -20.101604857140387, -20.101604857140387, -30.071463181108776, -20.101604857140387, -20.098738702234144, -9.833130645067234, 0.1367276789011565, 10.112318312682032, 9.81656857948351, -20.098738702234144, 19.789293058358144, -20.098738702234144, -0.15615589939112273, -10.128880378265755, 10.036231263202719, 10.112318312682032, -20.101604857140387, -20.098738702234144, -20.098738702234144, -10.126014223359514, 9.819434734389752, -10.128880378265755, -0.15615589939112273, 10.112318312682032, -10.126014223359514, -20.098738702234144, -20.101604857140387, 0.1367276789011565, 10.10945215777579, -30.071463181108776, -20.101604857140387, 9.81656857948351, -30.071463181108776, 10.10945215777579, 0.06350678432808668, 0.06637293923432944, -0.15615589939112273, -0.15615589939112273, -20.101604857140387, -20.098738702234144, -20.101604857140387, 0.06637293923432944, -20.101604857140387, -0.15328974448487998, -20.101604857140387, -9.833130645067234, -30.07432933601502, -19.80872127884811, -30.07432933601502, -20.098738702234144, -20.098738702234144, -0.15328974448487998, -20.098738702234144, 10.03909741810896, 0.06637293923432944, -20.101604857140387, -19.879076018514937, 10.10945215777579, 10.112318312682032, -20.098738702234144, 10.03909741810896, -20.101604857140387, 9.819434734389752, -20.098738702234144, 0.1367276789011565, -30.071463181108776, -10.126014223359514, -10.128880378265755, -10.126014223359514, 10.036231263202719, 39.95440469982662, 10.03909741810896, 10.03909741810896, 10.03909741810896, 0.06637293923432944, 0.06637293923432944, 0.06350678432808668, 10.03909741810896, -29.781445757722743, 29.984546375858226, 10.03909741810896, 29.984546375858226, 10.036231263202719, -30.071463181108776, 10.10945215777579, 9.819434734389752, 10.036231263202719, -20.098738702234144, -10.128880378265755, 10.10945215777579, -20.098738702234144, 10.03909741810896, -20.101604857140387, 20.011821896983594, -20.098738702234144, 0.06637293923432944, -0.15328974448487998, -10.128880378265755, -20.098738702234144, 10.03909741810896, -10.126014223359514, -20.098738702234144, -20.101604857140387, 10.10945215777579, 10.03909741810896, 30.054901115525052, 0.13959383380739926, 0.13959383380739926, -20.098738702234144, -20.101604857140387, -20.098738702234144, -20.101604857140387, -20.101604857140387, -9.835996799973476, 0.13959383380739926, -10.126014223359514, -20.098738702234144, -29.85180049738957, -10.126014223359514, -0.15615589939112273, -10.128880378265755, -10.126014223359514, -40.04418765998341, -10.126014223359514, -9.835996799973476, -20.098738702234144, -10.126014223359514, -20.098738702234144, -30.07432933601502, 10.03909741810896, -40.04418765998341, -20.098738702234144, 10.10945215777579, -20.098738702234144, -20.098738702234144, 20.08217663665042, -10.126014223359514, -0.15328974448487998, -30.071463181108776, 10.03909741810896, -20.101604857140387, 19.792159213264387, 29.762017537232776, -20.098738702234144, -9.833130645067234, -20.098738702234144, -10.126014223359514, -20.101604857140387, -20.098738702234144, -20.101604857140387, 39.737608171013655, 10.112318312682032, -10.126014223359514, 30.057767270431295, 20.085042791556663, -10.126014223359514, -10.128880378265755, -10.126014223359514, 40.02762559439969, -19.805855123941868, -10.128880378265755, -20.098738702234144, -20.101604857140387, -20.098738702234144, 29.76488369213902, -40.04705381488965, 0.06637293923432944, -20.101604857140387, -20.098738702234144, 20.011821896983594, 0.06350678432808668, -0.15615589939112273, -20.101604857140387, -0.15328974448487998, -19.805855123941868, -19.805855123941868, -10.128880378265755, -20.101604857140387, -9.835996799973476, 10.10945215777579, -10.126014223359514, 10.03909741810896, 10.112318312682032, -20.101604857140387, -10.126014223359514, -20.098738702234144, 10.112318312682032, -20.101604857140387, -10.128880378265755, -30.07432933601502, -10.128880378265755, 0.13959383380739926, 30.054901115525052, -9.909217694546546, -20.098738702234144, -20.098738702234144, -20.098738702234144, -20.098738702234144, -20.101604857140387, 10.10945215777579, -20.098738702234144, 20.085042791556663, -10.126014223359514, -20.098738702234144, -0.15615589939112273, 1.2350410974972037, -18.71040786025206, -18.71040786025206, -7.785811751927521, 21.18049005524647, 21.18049005524647, 31.1532145341211, 11.21063173127808, 11.869619782435707, -30.07432933601502, 20.524368158995085, 10.551643680120451, 20.52150200408884, -8.810904275950499, 20.448281109515772, -28.84341181240342, 10.244922417697584, -19.526809229780174, -19.673251018926315, -19.529675384686417, -18.87068733352879, -18.87068733352879, 1.0747616242204765, -18.867821178622545, 10.391364206843724, -19.749338068405628, -8.897962854654155, -28.84341181240342, -8.897962854654155, 2.0998541482434536, -19.749338068405628, -8.895096699747914, 10.244922417697584, -28.840545657497177, -18.867821178622545, -18.87068733352879, -19.526809229780174, 0.27219793882295135, -18.87068733352879, -19.746471913499384, 20.217646896572216, -19.749338068405628, -18.87068733352879, -18.867821178622545, -18.867821178622545, -18.867821178622545, -18.87068733352879, -18.867821178622545, -18.867821178622545, -18.87068733352879, 11.050352258001352, -19.67611717383256, 30.187505220540604, -18.87068733352879, -29.64884165270719, 10.244922417697584, 1.0776277791267193, 20.217646896572216, 30.187505220540604, 0.19611088934363877, 30.992935060844374, -8.895096699747914, -9.773747434624752, 20.217646896572216, 30.187505220540604, -19.746471913499384, -19.67611717383256, 11.050352258001352, 10.244922417697584, -18.87068733352879, 10.244922417697584, -19.746471913499384, 20.217646896572216, 0.34541883339602114, -29.64884165270719, -9.627305645478613, 1.0776277791267193, -19.67611717383256, -39.691920871248655, 20.217646896572216, -18.867821178622545, 0.19897704424988152, -29.645975497800947, -39.54834523700876, 10.168835368218271, 40.087008804842164, 10.168835368218271, -9.554084750905542, 30.114284325967535, 20.144426001999147, -39.62156613158183, 21.020210581969742, -9.700526540051682, -29.64884165270719, -29.64884165270719, -19.529675384686417, 0.27219793882295135, 10.171701523124513, 40.163095854321476, -9.773747434624752, 30.995801215750618, 10.244922417697584, -19.969000752124835, 10.242056262791342, 0.2693317839167086, 0.2693317839167086, 0.27219793882295135, 20.214780741665972, 20.217646896572216, 30.190371375446848, -19.96613459721859, -19.96613459721859, -19.969000752124835, -19.969000752124835, 20.217646896572216, 20.214780741665972, -9.993410118343961, -0.023551794375570652, -19.969000752124835, -19.969000752124835, -29.941725230999467, -19.969000752124835, -39.91158355496786, -19.96613459721859, -19.969000752124835, -29.938859076093223, 30.307426188683635, 20.337567864715247, -0.07372728147554876, -19.726292660932536, -9.829655231537215, -9.756434336964144, -9.829655231537215, -9.756434336964144, -9.756434336964144, -9.753568182057903, -9.753568182057903, 0.2191562968167305, -19.72915881583878, 40.11005421231526, 10.11579372621205, -19.72915881583878, -19.726292660932536, -0.07372728147554876, 10.191880775691363, 20.16173909965975, -20.022042394131056, -29.991900718099444, -10.049317915256424, -20.019176239224812, -20.022042394131056, -10.081812855020996, 20.27568594904132, 10.080432631541237, -19.76165375560335, 20.126378004988936, 0.10770815266660402, 10.153653526114308, 0.3302369912920562, -39.70996886825886, 10.15651968102055, 11.547716677908875, -8.39773227984039, 21.52044115678351, 11.547716677908875, 1.574992199034243, -8.39773227984039, 1.574992199034243, 1.574992199034243, -18.370456758715022, 1.574992199034243, -18.373322913621266, 1.574992199034243, 11.544850523002633, -9.791795431634958, 10.153653526114308, -8.400598434746632, -18.370456758715022, 10.153653526114308, -8.39773227984039, -8.910278541851879, 1.574992199034243, -9.865016326208028, 9.860769947822028, 0.18092904723967385, 0.18092904723967385, 10.153653526114308, 0.1837952021459166, 20.126378004988936, 9.860769947822028, 10.080432631541237, -10.084679009927237, -20.054537333895627, 10.153653526114308, -20.054537333895627, -20.054537333895627, -19.76165375560335, 9.860769947822028, -20.054537333895627, 0.1837952021459166, 19.83349442669666, -10.084679009927237, -10.081812855020996, -10.084679009927237, -10.084679009927237, 9.86363610272827, -0.10908837614636265, 20.053157110415867, -20.05740348880187, -20.054537333895627, 20.05602326532211, 9.86363610272827, 0.1837952021459166, 29.806218905571292, -20.054537333895627, -20.054537333895627, -10.084679009927237, 10.15651968102055, 9.86363610272827, -9.788929276728716, 21.666882945929647, 21.666882945929647, 0.1837952021459166, 19.83349442669666, 19.83349442669666, -20.054537333895627, -9.865016326208028, 19.83349442669666, 30.10196863876981, 20.12924415989518, -10.084679009927237, 0.11057430757284678, 19.836360581602904, 50.04455144161283, -20.05740348880187, -10.084679009927237, -10.081812855020996, -0.10908837614636265, -20.054537333895627, -20.05740348880187, -19.7818330081702, 20.10906490732833, 20.179419646995157, 0.16361594957906764, -9.811974684201807, 0.16361594957906764, -9.738753789628737, -9.738753789628737, 30.07892323129672, -9.738753789628737, 0.2339706892458947, 0.16361594957906764, -19.7818330081702, -19.784699163076443, -19.711478268503374, 10.133474273547458, 0.23683684415213746, -19.565036479357232, 40.12486860474442, 10.20956132302677, -19.70861211359713, 10.133474273547458, 10.20956132302677, 10.133474273547458, 19.889402223609125, 0.23683684415213746, -20.00436184679565, -29.684202747378006, 10.1363404284537, -20.001495691889406, 10.133474273547458, -20.001495691889406, 20.1822858019014, -29.97422017076404, -10.031637367921016, -20.00436184679565, -20.001495691889406, -20.001495691889406, -10.031637367921016, -20.001495691889406, -29.97708632567028, -29.97708632567028, -19.7818330081702, -20.00436184679565, -19.66825360846343, 0.2771953492858354, -19.671119763369674, 20.07620251788896, -19.671119763369674, 30.04892699676359, -19.814695397609572, 10.249919828160468, -29.643844242244306, -19.671119763369674, -9.91805796821425, -19.814695397609572, 10.027390989535016, -19.671119763369674, 0.2771953492858354, -19.814695397609572, 0.2771953492858354, 29.972839947284278, 20.07620251788896, 10.103478039014329, 10.100611884108087, -9.841970918734937, -9.915191813308008, -19.671119763369674, 20.073336362982715, -9.915191813308008, 10.103478039014329, -10.134854497027217, -10.137720651933458, -20.10757897590185, 9.810594460722049, -20.10757897590185, 10.100611884108087, -19.817561552515816, -19.817561552515816, -20.10757897590185, -30.083169609682724, -20.10757897590185, -20.110445130808092, -20.10757897590185, -20.110445130808092, 9.810594460722049, -0.1649961730588262, -0.1649961730588262, 9.807728305815807, -20.110445130808092, 9.807728305815807, 9.807728305815807, -20.110445130808092, 9.807728305815807, -9.680714737159631, 0.0019923183289630923, -20.01667753399337, 9.901495902630527, -0.07122857624410672, -0.07122857624410672, 0.14843410747510272, -29.769739329148795, 10.045071536870424, 10.118292431443495, -29.842960223721864, 0.14843410747510272, 1.0270848423519403, 1.0242186874456976, 10.996943166320332, 10.118292431443495, 1.0270848423519403, -9.8975112659726, 1.0242186874456976, 10.996943166320332, 10.996943166320332, 1.0242186874456976, 1.0270848423519403, 1.0242186874456976, 1.0242186874456976, -8.948505791428934, 1.0242186874456976, 1.0242186874456976, 1.0242186874456976, 1.0242186874456976, 10.996943166320332, 10.996943166320332, -8.948505791428934, 10.121158586349736, 1.0242186874456976, -8.945639636522692, -8.945639636522692, 10.996943166320332, -8.948505791428934, -8.945639636522692, 10.996943166320332, 20.0206621706513, -0.14731562572341927, 1.0242186874456976, -0.14731562572341927, -30.065489062347314, -10.117173949691809, 9.887290768825139, 9.887290768825139, 0.20744986824278427, 0.21031602314902703, 0.20744986824278427, -10.058158188924127, 0.21031602314902703, 30.128489459772922, -10.055292034017885, -9.762408455725605, -29.707857413474873, -20.03088266779876, 20.152898825992047, 10.180174347117418, -19.73513293460024, -9.765274610631847, -9.835629350298676, -9.838495505204918, 20.079677931418978, 20.152898825992047, -9.765274610631847, 30.128489459772922, 30.12562330486668, -9.838495505204918, -9.835629350298676, -19.591557300360343, -19.591557300360343, -9.762408455725605, 10.180174347117418, -19.73513293460024, 10.106953452544348, 0.20744986824278427, 10.180174347117418, 0.1370951285759572, 30.055268565199853, 30.05240241029361, -19.591557300360343, -19.80835382917331, -9.838495505204918, 0.20744986824278427, -9.618832821485707, -19.737999089506484, 10.18304050202366, -9.835629350298676, 0.21031602314902703, -9.765274610631847, -19.811219984079553, 20.152898825992047, 20.15576498089829, -19.80835382917331, 0.1370951285759572, 10.180174347117418, -19.737999089506484, 10.18304050202366, 10.18304050202366, -9.762408455725605, 20.15576498089829, -20.028016512892517, 10.180174347117418, -10.058158188924127, -20.03088266779876, 0.15190952100512142, -20.01320212046335, 0.15190952100512142, 10.127500154785995, -19.573876753024933, 0.15477567591136418, -10.03761148668248, -20.010335965557108, -19.793539436744144, -0.067753162714088, 0.37157220472433083, 10.344296683598964, 10.344296683598964, 20.317021162473598, 10.200721049359066, 10.200721049359066, -19.71745238726483, 10.200721049359066, 20.317021162473598, 0.37157220472433083, 20.1734455282337, 20.170579373327456, 10.344296683598964, 0.22513041557819125, 20.1734455282337, 0.227996570484434, -20.010335965557108, 19.87769579503518, -9.59828611924406, -9.59828611924406, -0.067753162714088, 9.907837471066786, 19.87769579503518, -20.010335965557108, -10.03761148668248, -10.03761148668248, -10.040477641588721, -10.040477641588721, 30.143303852202088, -29.763397760712532, 20.1734455282337, 30.143303852202088, 20.170579373327456, 10.197854894452824, -9.712232968625626, -9.712232968625626, -9.709366813719384, 10.159995094550569, -9.782587708292455, -19.75531218716709, -9.782587708292455, -19.758178342073332, 0.1872706156759353, -19.758178342073332, -19.684957447500263, 40.081034686080706, 10.23321598912364, 10.236082144029881, 30.181531101779143, 30.181531101779143, 20.20880662290451, 40.154255580653775, 50.05375916495534, 0.26049151024900513, 30.10544405229983, 20.1327195734252, 10.236082144029881, 10.236082144029881, 30.181531101779143, 0.19013677058217807, 0.26049151024900513, -29.65481577146865, -29.65481577146865, -19.684957447500263, -19.758178342073332, 20.135585728331442, 10.159995094550569, -9.709366813719384, 0.19013677058217807, 10.236082144029881, 9.943198565737601, -29.95056550466717, 10.23321598912364, 10.236082144029881, 19.91305688970599, -19.97784102579254, -39.92042382863556, -10.002250392011664, -18.586644028904214, -9.782587708292455, -9.782587708292455, -0.029525913137031352, -9.785453863198697, -29.95056550466717, -19.767018615741033, 0.10807560234140474, 10.080800081216037, 0.2545173914875444, 0.10807560234140474, 0.2545173914875444, 0.2516512365813016, 0.10807560234140474, -9.864648876533229, 0.10807560234140474, -9.864648876533229, 10.080800081216037, 0.10807560234140474, 0.2516512365813016, 0.10807560234140474, 0.10807560234140474, 0.10807560234140474, -9.72107324229333, 0.10807560234140474, 0.2545173914875444, -9.72107324229333, -9.864648876533229, 10.080800081216037, 0.10807560234140474, 0.2545173914875444, 20.053524560090672, -9.864648876533229, 0.10807560234140474, 0.10807560234140474, 10.227241870362176, 0.10807560234140474, -9.864648876533229, 0.2545173914875444, 0.2545173914875444, 0.2545173914875444, 0.2545173914875444, -9.864648876533229, 0.18129649691447455, 0.10807560234140474, -9.71820708738709, 0.2545173914875444, -9.71820708738709, -9.71820708738709, 20.12674545466374, 0.2545173914875444, 0.2545173914875444, 0.2516512365813016, -29.666522200042596, -9.72107324229333, -19.69093156626172, 20.12674545466374, 0.2545173914875444, 20.053524560090672, 10.080800081216037, -19.69093156626172, 0.2516512365813016, -29.666522200042596, -29.666522200042596, 0.2545173914875444, -29.666522200042596, -29.666522200042596, -9.79142798196016, 0.2545173914875444, -29.666522200042596, -39.63924667891723, 20.19996634923681, -9.72107324229333, 0.2516512365813016, 0.2545173914875444, -29.666522200042596, -9.71820708738709, -39.63924667891723, 0.2516512365813016, 10.227241870362176, -19.69093156626172, -9.71820708738709, 0.10807560234140474, -29.666522200042596, -39.63638052401099, 10.224375715455935, 10.154020975789106, 10.227241870362176, -19.69093156626172, -9.72107324229333, 0.2545173914875444, -9.71820708738709, -29.666522200042596, -39.63638052401099, -19.76415246083479, 10.224375715455935, 10.224375715455935, 20.197100194330567, -9.71820708738709, -9.794294136866402, -9.71820708738709, -39.63638052401099, 0.2545173914875444, -19.69093156626172, 10.154020975789106, 10.224375715455935, -19.69093156626172, -19.69093156626172, -19.76415246083479, 10.151154820882864, 10.227241870362176, 30.099469933538373, 0.2545173914875444, -39.63924667891723, -9.71820708738709, 10.224375715455935, -19.69093156626172, 10.224375715455935, -9.72107324229333, 10.224375715455935, 40.145415306986074, 19.90421661603829, -19.181251459156474, 19.907082770944534, -9.79142798196016, 0.18129649691447455, 0.2516512365813016, 0.2545173914875444, -0.04123234171097762, -10.01395682058561, -9.72107324229333, -10.01395682058561, -29.959405778334872, 0.18129649691447455, -10.01395682058561, 20.19996634923681, 10.224375715455935, 30.099469933538373, 10.154020975789106, -19.69093156626172, -0.04123234171097762, 30.1698246732052, -19.76415246083479, -10.01395682058561, 19.907082770944534, 19.907082770944534, -19.693797721167964, -29.95653962342863, -10.01395682058561, -29.666522200042596, -19.69093156626172, 20.19996634923681, 0.8402845480721028, -19.983815144553997, 0.2516512365813016, 10.154020975789106, 19.818680034267498, -19.85542135241807, -9.809475978970365, 30.011067196861337, 30.081421936528162, 10.06275208420583, -19.632892513792616, 19.818680034267498, 19.815813879361254, 20.03547656308046, -20.075084036137277, -20.072217881231033, -20.072217881231033, -19.85542135241807, -20.075084036137277, 0.09289376023743987, -20.075084036137277, -10.102359557262645, -8.711162560374317, -19.85542135241807, 0.15440822623656347, -19.86139547117953, -19.644598942366564, -9.815450097731826, 20.099857183985826, -0.13847535205571576, 20.029502444319, 29.99936076828739, -20.08392430980498, -0.13847535205571576, 49.947675880942896, -20.081058154898738, -20.08392430980498, 9.83711528172516, -0.13847535205571576, 19.80697360569355, -10.111199830930348, -20.08392430980498, 9.83711528172516, -19.5975314191218, 0.34791753862746316, 41.26104182324273, 11.345734541525072, 41.26390797814897, 41.26390797814897, 41.26390797814897, 11.345734541525072, 40.019152770406784, 40.019152770406784, 40.019152770406784, 51.38307424616974, 31.437625288420477, 40.01628661550054, 31.437625288420477, 49.991877249281416, 51.30985335159667, 41.41034976729511, 41.33712887272204, 31.36440439384741, 41.33712887272204, 31.36440439384741, 31.36440439384741, 1.4462309572235104, 1.4462309572235104, 41.33712887272204, 11.492176330671212, 21.464900809545846, 51.30985335159667, 41.3342627178158, 51.38307424616974, 31.288317344368096, 41.26104182324273, 41.26104182324273, 41.26104182324273, 61.209356935898235, 41.26390797814897, 41.41034976729511, 41.26390797814897, 51.38307424616974, 41.26104182324273, 41.41034976729511, 11.345734541525072, 10.100979333782885, 20.07370381265752, 20.07370381265752, 30.046428291532152, 30.046428291532152, 30.046428291532152, 20.07370381265752, 20.07370381265752, 40.019152770406784, 10.100979333782885, 40.019152770406784, 49.991877249281416, 40.019152770406784, 40.01628661550054, 10.098113178876643, 40.019152770406784, 10.098113178876643, 30.04356213662591, 30.04356213662591, 0.125388700002011, 30.04356213662591, 30.046428291532152, 40.019152770406784, 30.046428291532152, 40.019152770406784, 40.019152770406784, 10.098113178876643, 30.046428291532152, 30.046428291532152, 30.04356213662591, 30.046428291532152, 20.07370381265752, 30.04356213662591, 20.07370381265752, 10.100979333782885, 30.046428291532152, 30.046428291532152, 20.070837657751277, 40.01628661550054, 30.046428291532152, 0.12825485490825375, -19.81719410284101, 0.125388700002011, 20.070837657751277, 30.046428291532152, 40.019152770406784, 40.019152770406784, 30.046428291532152, 20.07370381265752, 20.07370381265752, 20.07370381265752, 10.100979333782885, -10.06413230768559, -39.982305744309485, -20.036856786560218, -20.03972294146646, -19.820060257747254, -19.5975314191218, 10.171334073449714, 0.20147574948132357, -19.820060257747254, 10.100979333782885, -9.844469623966381, 0.19860959457508082, 40.09237366497985, 0.20147574948132357, -19.820060257747254, 10.171334073449714, -29.719563842048817, 20.144058552324346, -19.743973208267942, 20.144058552324346, 0.19860959457508082, 10.100979333782885, 10.171334073449714, -19.820060257747254, -9.847335778872623, 20.144058552324346, -19.81719410284101, -19.820060257747254, 20.070837657751277, 20.14692470723059, 20.14692470723059, 0.12825485490825375, 10.174200228355955, 20.070837657751277, 0.20147574948132357, 10.171334073449714, -20.03972294146646, 20.14692470723059, 20.144058552324346, 0.19860959457508082, 0.20147574948132357, 0.20147574948132357, 0.20147574948132357, 0.19860959457508082, -19.746839363174185, -29.716697687142574, -19.743973208267942, 30.046428291532152, -9.77124872939331, 30.116783031198977, 0.19860959457508082, -20.03972294146646, -19.820060257747254, 20.07370381265752, -19.81719410284101, 0.12825485490825375, 40.019152770406784, 40.019152770406784, 20.07370381265752, -20.03972294146646, -19.81719410284101, -19.81719410284101, -19.820060257747254, -19.81719410284101, -19.81719410284101, -19.820060257747254, 10.098113178876643, -19.820060257747254, -9.844469623966381, -29.792784736621886, -9.847335778872623, 10.100979333782885, -19.81719410284101, -19.820060257747254, 10.098113178876643, -19.81719410284101, -19.81719410284101, 10.100979333782885, 10.098113178876643, 10.100979333782885, 10.098113178876643, 10.100979333782885, -9.847335778872623, 0.125388700002011, 0.125388700002011, -19.81719410284101, 10.098113178876643, 10.098113178876643, -9.844469623966381, -9.847335778872623, -19.81719410284101, -19.820060257747254, 10.098113178876643, -19.81719410284101, -9.847335778872623, -19.820060257747254, -19.820060257747254, -19.746839363174185, -9.847335778872623, 10.098113178876643, -29.792784736621886, -19.820060257747254, -19.81719410284101, -9.844469623966381, -9.844469623966381, -19.820060257747254, -29.789918581715643, -29.792784736621886, -29.789918581715643, 0.125388700002011, 0.125388700002011, 10.098113178876643, -29.792784736621886, 0.125388700002011, 20.070837657751277, 20.07370381265752, -19.820060257747254, 20.070837657751277, 20.07370381265752, 0.20147574948132357, -10.066998462591831, 20.070837657751277, 20.070837657751277, -20.03972294146646, -0.09427398371719843, -10.066998462591831, -20.036856786560218, 19.854041128938313, -29.792784736621886, -19.746839363174185, 0.12825485490825375, 10.174200228355955, 20.070837657751277, 0.12825485490825375, 30.11964918610522, 20.07370381265752, -19.81719410284101, 10.171334073449714, 0.125388700002011, 0.125388700002011, 0.19860959457508082, -19.81719410284101, 20.070837657751277, 20.070837657751277, -9.847335778872623, 20.070837657751277, -19.820060257747254, 10.098113178876643, 0.125388700002011, 10.098113178876643, -19.820060257747254, -19.81719410284101, -19.820060257747254, 10.320642017502095, -19.743973208267942, -19.600397574028044, 10.174200228355955, 20.14692470723059, 30.046428291532152, -19.743973208267942, -10.06413230768559, -20.036856786560218, 20.144058552324346, 20.14692470723059, -19.820060257747254, 22.123888860703474, -19.81719410284101, 0.20147574948132357, 20.803046603481974, -9.844469623966381, 0.12825485490825375, 20.14692470723059, 30.116783031198977, 20.14692470723059, -9.774114884299552, -9.774114884299552, -39.69228832092345, -39.69228832092345, 40.08950751007361, 10.174200228355955, 10.171334073449714, -29.789918581715643, 20.29336649637673, -19.81719410284101, -19.5975314191218, 0.34791753862746316, 20.29336649637673, 30.11964918610522, 10.171334073449714, 10.174200228355955, -19.743973208267942, -19.743973208267942, 30.04356213662591, 10.098113178876643, 30.11964918610522, 0.20147574948132357, -19.81719410284101, 40.019152770406784, 10.098113178876643, 20.070837657751277, 19.854041128938313, -20.03972294146646, 20.07370381265752, 20.070837657751277, -19.820060257747254, 20.070837657751277, 20.07370381265752, 20.07370381265752, -19.820060257747254, -9.77124872939331, -19.743973208267942, -19.743973208267942, 0.12825485490825375, -19.81719410284101, -19.820060257747254, -19.820060257747254, -9.847335778872623, -29.789918581715643, -9.847335778872623, 0.12825485490825375, -19.820060257747254, 0.125388700002011, 0.12825485490825375, -19.81719410284101, -19.820060257747254, 0.12825485490825375, -9.847335778872623, 20.07370381265752, 10.100979333782885, -19.81719410284101, -19.81719410284101, -19.820060257747254, 30.046428291532152, 10.317775862595854, -19.820060257747254, -19.5975314191218, -9.844469623966381, 10.100979333782885, -19.820060257747254, -19.600397574028044, 0.34791753862746316, 20.29336649637673, -29.716697687142574, -29.719563842048817, -39.69228832092345, -19.746839363174185, 20.144058552324346, 10.171334073449714, 10.171334073449714, 0.12825485490825375, 10.100979333782885, 30.04356213662591, 0.12825485490825375, -39.76264306059028, -29.789918581715643, -19.820060257747254, -0.09140782881095567, 20.07370381265752, -19.820060257747254, -19.81719410284101, 0.125388700002011, 20.070837657751277, 0.125388700002011, 20.29336649637673, 30.046428291532152, -19.600397574028044, 10.320642017502095, 10.100979333782885, 10.098113178876643, 20.29336649637673, 0.12825485490825375, 10.317775862595854, -19.600397574028044, 20.07370381265752, -9.77124872939331, 10.100979333782885, 20.144058552324346, 10.100979333782885, 20.14692470723059, -19.820060257747254, 30.04356213662591, -19.820060257747254, -9.847335778872623, 0.125388700002011, -19.820060257747254, 30.046428291532152, 20.07370381265752, 30.046428291532152, -19.81719410284101, 40.01628661550054, 40.019152770406784, 10.833188279513584, 0.125388700002011, -19.820060257747254, 10.100979333782885, 10.098113178876643, 20.070837657751277, 10.174200228355955, 40.019152770406784, 12.001856437776459, 2.029131958901826, 21.974580916651092, 2.029131958901826, 12.001856437776459, 21.974580916651092, 2.031998113808069, -17.913450843941195, 21.974580916651092, 21.974580916651092, -7.940726365066565, -7.940726365066565, 21.977447071557336, 11.123205702899622, -8.822243254849644, 11.123205702899622, 11.126071857805863, 11.126071857805863, -18.792101578818034, 1.1533473789312312, -8.822243254849644, -18.794967733724278, -18.794967733724278, -19.743973208267942, -19.743973208267942, 10.174200228355955, 10.171334073449714, 10.174200228355955, -19.743973208267942, -19.743973208267942, 10.174200228355955, -9.77124872939331, -19.743973208267942, -19.746839363174185, -9.77124872939331, 20.14692470723059, 20.14692470723059, -39.68942216601721, -20.03972294146646, -19.60923784769575, 30.254384546677414, -29.579096171664137, -29.58196232657038, 0.18976932090737736, 0.3390772649597597, -19.82890053141496, 30.107942757531273, -10.072972581353293, -19.606371692789505, -19.75567963684189, 0.18976932090737736, 30.257250701583658, -9.636513368821115, -18.947383641631877, -9.636513368821115, -19.606371692789505, -9.633647213914873, -19.606371692789505, 20.284526222709026, 30.107942757531273, 10.165359954688252, 20.281660067802783, -9.782955157967255, 0.11654842633430754, -9.856176052540325, -19.752813481935647, -19.606371692789505, -29.728404115716522, -19.60923784769575, -19.752813481935647, 0.19263547581362012, 20.138084433562884, 10.165359954688252, 10.092139060115182, 20.138084433562884, 10.16249379978201, -9.782955157967255, 0.18976932090737736, -19.60923784769575, 0.19263547581362012, 0.19263547581362012, 10.165359954688252, 1.6541872123687735, 0.19263547581362012, 20.284526222709026, -39.701128594591154, 22.0418276924627, 21.602502325024282, 10.16249379978201, 21.59963617011804, -19.606371692789505, -9.782955157967255, 21.59963617011804, 11.626911691243407, 11.629777846149649, 10.08927290520894, -9.856176052540325, -19.606371692789505, -19.606371692789505, -19.606371692789505, 10.311801743834392, 20.138084433562884, 20.13521827865664, 20.064863538989815, 20.064863538989815, -17.851936377942074, -27.821794701910463, 20.064863538989815, 20.13521827865664, -9.853309897634084, -39.701128594591154, -17.851936377942074, 30.110808912437516, 0.19263547581362012, -19.75567963684189, 10.165359954688252, 30.110808912437516, 10.16249379978201, -19.82890053141496, 0.11654842633430754, -10.075838736259534, 10.08927290520894, 10.092139060115182, -19.82890053141496, 20.061997384083572, -0.10311425738490189, -20.045697060227923, -0.10311425738490189, 10.092139060115182, -20.048563215134166, 9.869610221489731, 19.842334700364365, 20.064863538989815, 20.061997384083572, 0.11654842633430754, 20.064863538989815, -0.10311425738490189, -20.045697060227923, -9.853309897634084, 30.037588017864447, -20.048563215134166, -20.048563215134166, 10.092139060115182, -30.021287694008798, -9.856176052540325, -39.77434948916422, -19.75567963684189, 20.13521827865664, -10.075838736259534, -39.99114601797719, -19.82890053141496, 20.061997384083572, 9.869610221489731, -18.65736621824584, -10.072972581353293, -0.10024810247865913, -18.65736621824584, 20.061997384083572, -19.826034376508716, 0.11654842633430754, 0.11654842633430754, -0.10311425738490189, -19.846581078750365, -19.84371492384412, 0.10173403390514332, 0.09886787899890057, -20.06337760756333, -10.093519283594942, -20.06337760756333, -30.03610208643796, -20.06337760756333, -20.06337760756333, -9.800635705302662, -20.06337760756333, -30.03610208643796, -8.699456131800373, -10.0906531286887], \"xaxis\": \"x\", \"y\": [-5.252883518246013, -3.824743061749641, -1.2987086834230668, -3.110672833501455, 0.8454595127391451, -1.2967511720054126, 0.8435020013214911, -3.110672833501455, -3.824743061749641, -2.0108214002535982, -5.250926006828359, -3.110672833501455, -2.0108214002535982, 1.227325694903508, -2.7268491399194383, -2.7268491399194383, -0.14504170738424546, -2.7248916285017843, 1.229283206321162, -3.4409193681676244, 20.888849655893775, 0.6783787339884065, -0.5846384551748808, 18.746638971149217, -0.8591119356324316, -5.252883518246013, 18.034526254318685, 21.604877395559615, 18.746638971149217, -2.2872523921288033, -1.2987086834230668, -1.2967511720054126, 0.8435020013214911, -0.8591119356324316, 19.462666710815057, -0.5826809437572267, -3.001322620376989, -6.67906646332473, -5.964996235076545, -2.2872523921288033, -1.5731821638806174, -3.108715322083801, -2.0127789116712527, -0.5846384551748808, 0.8454595127391451, 2.8205894187329643, -0.14308419596659147, 18.746638971149217, -0.14504170738424546, -0.14308419596659147, -3.824743061749641, 20.176736939063243, 17.3204560260705, 21.604877395559615, -2.2872523921288033, 18.034526254318685, -0.8571544242147774, 18.74859648256687, 17.318498514652845, 18.746638971149217, -1.5731821638806174, -0.8591119356324316, 0.13138928449095924, 0.12943177307330503, -0.8591119356324316, 0.8454595127391451, -0.14308419596659147, -1.5731821638806174, 3.37149389106572, -0.8571544242147774, -1.5712246524629632, -1.5731821638806174, -2.2872523921288033, -3.824743061749641, -0.5846384551748808, -0.14308419596659147, 3.3695363796480655, 5.513704575810277, 0.8454595127391451, 0.13138928449095924, -5.966953746494199, 0.8454595127391451, 0.8454595127391451, -3.822785550331987, -0.8571544242147774, 5.511747064392623, 3.3695363796480655, 2.65546615139988, 2.65546615139988, -1.5731821638806174, 4.797676836144437, -2.2852948807111493, 2.657423662817534, 4.799634347562091, -0.8591119356324316, 0.12943177307330503, -2.2872523921288033, -0.14308419596659147, 22.865937073305247, 1.5595297409873312, 3.37149389106572, -3.110672833501455, 0.5709860322815946, -0.8591119356324316, 0.12943177307330503, 0.12943177307330503, -0.5846384551748808, -1.2987086834230668, 0.12943177307330503, 2.273599969235517, -2.0108214002535982, 0.8454595127391451, -1.2967511720054126, -3.824743061749641, -2.0127789116712527, -1.2987086834230668, -2.0127789116712527, 22.865937073305247, 2.273599969235517, 23.581964812971087, -3.713435337207521, 23.580007301553433, 17.485579293403582, 0.13138928449095924, -1.2987086834230668, -2.0127789116712527, -2.0108214002535982, 0.8435020013214911, 17.485579293403582, 17.483621781985928, -4.536855778580173, 0.8454595127391451, -0.8591119356324316, 17.485579293403582, 17.485579293403582, -0.8591119356324316, 18.9117622384823, -1.5712246524629632, 17.485579293403582, 18.199649521651768, 18.197692010234114, 18.199649521651768, 18.197692010234114, 17.485579293403582, 19.625832466730486, 17.483621781985928, 17.485579293403582, 16.771509065155396, 18.199649521651768, 18.199649521651768, 17.485579293403582, 17.485579293403582, 17.485579293403582, 18.913719749899954, 18.199649521651768, 18.199649521651768, 18.199649521651768, 16.771509065155396, 17.485579293403582, 17.485579293403582, 18.199649521651768, -2.0108214002535982, 18.199649521651768, 18.199649521651768, 18.199649521651768, 18.199649521651768, 18.199649521651768, 17.485579293403582, 18.199649521651768, 17.485579293403582, 17.485579293403582, 0.8435020013214911, 19.62778997814814, 18.199649521651768, 18.197692010234114, 0.8454595127391451, 17.483621781985928, 18.199649521651768, 18.913719749899954, 17.485579293403582, 17.485579293403582, 18.9117622384823, 18.913719749899954, 17.485579293403582, 17.485579293403582, 0.8454595127391451, 0.8435020013214911, 17.485579293403582, -3.822785550331987, 19.62778997814814, 19.625832466730486, 18.197692010234114, 18.913719749899954, 16.771509065155396, 16.76955155373774, 17.485579293403582, 18.199649521651768, 17.485579293403582, 18.9117622384823, 16.76955155373774, 19.625832466730486, 17.483621781985928, 19.62778997814814, -0.14308419596659147, -3.713435337207521, 18.197692010234114, 16.055481325489556, -2.2872523921288033, 23.580007301553433, 23.581964812971087, 19.62778997814814, 17.485579293403582, -2.999365108959335, -3.824743061749641, 23.580007301553433, 18.197692010234114, 18.913719749899954, 21.437796616808875, 1.5575722295696772, -5.252883518246013, 19.62778997814814, 1.5575722295696772, 0.8435020013214911, 19.625832466730486, -0.8591119356324316, 16.771509065155396, -3.824743061749641, -3.110672833501455, 0.6803362454060607, 0.8435020013214911, 0.8454595127391451, -0.14308419596659147, -1.2987086834230668, -3.110672833501455, -3.108715322083801, 20.011613671730156, 23.580007301553433, 21.437796616808875, 20.725683899978343, 0.8435020013214911, -0.5826809437572267, 20.725683899978343, 18.9117622384823, -2.2872523921288033, -5.252883518246013, 17.485579293403582, 0.8454595127391451, 1.5595297409873312, 21.05397292322686, -0.8591119356324316, 17.483621781985928, 15.343368608659025, -0.8571544242147774, 19.62778997814814, 18.9117622384823, 23.580007301553433, 23.580007301553433, -0.8591119356324316, -1.5731821638806174, 18.199649521651768, 1.5575722295696772, -0.5846384551748808, -0.8591119356324316, -3.110672833501455, -2.2852948807111493, 24.29407752980162, -3.108715322083801, -3.108715322083801, -3.110672833501455, -4.538813289997827, 18.199649521651768, 21.43975412822653, 18.913719749899954, 21.05397292322686, -3.824743061749641, -3.108715322083801, -5.143533305121546, -1.5731821638806174, -3.822785550331987, -3.824743061749641, -3.713435337207521, -3.4389618567499705, 20.341860206396326, 20.339902694978672, -1.2967511720054126, -3.110672833501455, -3.822785550331987, 17.485579293403582, -4.536855778580173, 16.771509065155396, -5.964996235076545, -3.822785550331987, 17.485579293403582, 0.8454595127391451, -1.2967511720054126, -4.538813289997827, 18.199649521651768, -0.8591119356324316, -2.396602605253269, -6.681023974742384, -3.108715322083801, -3.110672833501455, -3.110672833501455, -2.0127789116712527, -3.108715322083801, -4.538813289997827, -2.0108214002535982, 2.273599969235517, -2.2872523921288033, -3.108715322083801, -3.110672833501455, 17.485579293403582, -0.14504170738424546, -3.822785550331987, 0.8435020013214911, 0.8435020013214911, -2.0127789116712527, -3.110672833501455, -3.108715322083801, 0.12943177307330503, -2.2852948807111493, -5.252883518246013, -3.110672833501455, -3.108715322083801, 17.485579293403582, 18.199649521651768, 0.8454595127391451, -3.715392848625175, -4.538813289997827, -2.394645093835615, -3.110672833501455, -3.824743061749641, -3.108715322083801, -3.108715322083801, -3.108715322083801, -3.110672833501455, -3.108715322083801, 0.13138928449095924, 1.5595297409873312, -3.824743061749641, -2.0127789116712527, -5.966953746494199, -5.252883518246013, 0.8454595127391451, -3.108715322083801, -3.822785550331987, -3.824743061749641, -3.824743061749641, -3.108715322083801, -1.5731821638806174, -3.108715322083801, -3.108715322083801, -2.7248916285017843, -3.108715322083801, -3.110672833501455, -3.110672833501455, -2.394645093835615, -3.110672833501455, -3.108715322083801, 0.13138928449095924, -0.5846384551748808, -1.2967511720054126, -5.252883518246013, -3.108715322083801, -5.966953746494199, -3.108715322083801, -4.538813289997827, -3.824743061749641, -2.2872523921288033, -1.2967511720054126, -3.110672833501455, -3.108715322083801, -3.108715322083801, -3.822785550331987, -5.250926006828359, -3.824743061749641, -4.538813289997827, -1.2967511720054126, -3.822785550331987, -3.108715322083801, -3.110672833501455, -0.5846384551748808, -1.2987086834230668, -2.394645093835615, -3.110672833501455, -5.252883518246013, -2.394645093835615, -1.2987086834230668, -1.5731821638806174, -1.5712246524629632, -4.538813289997827, -4.538813289997827, -3.110672833501455, -3.108715322083801, -3.110672833501455, -1.5712246524629632, -3.110672833501455, -4.536855778580173, -3.110672833501455, 0.13138928449095924, -2.396602605253269, 0.8435020013214911, -2.396602605253269, -3.108715322083801, -3.108715322083801, -4.536855778580173, -3.108715322083801, -2.2852948807111493, -1.5712246524629632, -3.110672833501455, -0.14308419596659147, -1.2987086834230668, -1.2967511720054126, -3.108715322083801, -2.2852948807111493, -3.110672833501455, -5.250926006828359, -3.108715322083801, -0.5846384551748808, -2.394645093835615, -3.822785550331987, -3.824743061749641, -3.822785550331987, -2.2872523921288033, -4.429463076873361, -2.2852948807111493, -2.2852948807111493, -2.2852948807111493, -1.5712246524629632, -1.5712246524629632, -1.5731821638806174, -2.2852948807111493, 1.5575722295696772, -3.713435337207521, -2.2852948807111493, -3.713435337207521, -2.2872523921288033, -2.394645093835615, -1.2987086834230668, -5.250926006828359, -2.2872523921288033, -3.108715322083801, -3.824743061749641, -1.2987086834230668, -3.108715322083801, -2.2852948807111493, -3.110672833501455, -2.999365108959335, -3.108715322083801, -1.5712246524629632, -4.536855778580173, -3.824743061749641, -3.108715322083801, -2.2852948807111493, -3.822785550331987, -3.108715322083801, -3.110672833501455, -1.2987086834230668, -2.2852948807111493, -2.7268491399194383, -0.5826809437572267, -0.5826809437572267, -3.108715322083801, -3.110672833501455, -3.108715322083801, -3.110672833501455, -3.110672833501455, 0.12943177307330503, -0.5826809437572267, -3.822785550331987, -3.108715322083801, 0.5709860322815946, -3.822785550331987, -4.538813289997827, -3.824743061749641, -3.822785550331987, -1.6805748655874295, -3.822785550331987, 0.12943177307330503, -3.108715322083801, -3.822785550331987, -3.108715322083801, -2.396602605253269, -2.2852948807111493, -1.6805748655874295, -3.108715322083801, -1.2987086834230668, -3.108715322083801, -3.108715322083801, -2.0127789116712527, -3.822785550331987, -4.536855778580173, -2.394645093835615, -2.2852948807111493, -3.110672833501455, -5.964996235076545, -6.681023974742384, -3.108715322083801, 0.13138928449095924, -3.108715322083801, -3.822785550331987, -3.110672833501455, -3.108715322083801, -3.110672833501455, -7.393136691572916, -1.2967511720054126, -3.822785550331987, -2.7248916285017843, -2.0108214002535982, -3.822785550331987, -3.824743061749641, -3.822785550331987, -3.4409193681676244, 0.8454595127391451, -3.824743061749641, -3.108715322083801, -3.110672833501455, -3.108715322083801, -6.67906646332473, -1.6825323770050835, -1.5712246524629632, -3.110672833501455, -3.108715322083801, -2.999365108959335, -1.5731821638806174, -4.538813289997827, -3.110672833501455, -4.536855778580173, 0.8454595127391451, 0.8454595127391451, -3.824743061749641, -3.110672833501455, 0.12943177307330503, -1.2987086834230668, -3.822785550331987, -2.2852948807111493, -1.2967511720054126, -3.110672833501455, -3.822785550331987, -3.108715322083801, -1.2967511720054126, -3.110672833501455, -3.824743061749641, -2.396602605253269, -3.824743061749641, -0.5826809437572267, -2.7268491399194383, -0.8591119356324316, -3.108715322083801, -3.108715322083801, -3.108715322083801, -3.108715322083801, -3.110672833501455, -1.2987086834230668, -3.108715322083801, -2.0108214002535982, -3.822785550331987, -3.108715322083801, -4.538813289997827, 14.243517175411169, 15.67165763190754, 15.67165763190754, 27.80865561683393, 12.815376718914797, 12.815376718914797, 12.10130649066661, 13.531404458580637, 22.428297836932266, -2.396602605253269, 3.920440851980821, 4.634511080229007, 3.918483340563167, 13.969043694953617, 2.9299396318574304, 10.437142893439887, -3.2911613038983045, 0.8281367982577263, -1.1489506191537469, 0.8261792868400721, 9.723072665191701, 9.723072665191701, 8.29493220869533, 9.725030176609355, -1.3140738864868313, -2.139451839277138, 9.009002436943515, 10.437142893439887, 9.009002436943515, 22.13454413057564, -2.139451839277138, 9.01095994836117, -3.2911613038983045, 10.439100404857541, 9.725030176609355, 9.723072665191701, 0.8281367982577263, -2.5770910756501184, 9.723072665191701, -2.1374943278594833, -4.005231532146491, -2.139451839277138, 9.723072665191701, 9.725030176609355, 9.725030176609355, 9.725030176609355, 9.723072665191701, 9.725030176609355, 9.725030176609355, 9.723072665191701, 7.582819491864798, -1.150908130571401, -4.721259271812331, 9.723072665191701, -0.4368379023232149, -3.2911613038983045, 8.296889720112985, -4.005231532146491, -4.721259271812331, -3.5675922957735096, 6.152721523950772, 9.01095994836117, -2.8515645561076695, -4.005231532146491, -4.721259271812331, -2.1374943278594833, -1.150908130571401, 7.582819491864798, -3.2911613038983045, 9.723072665191701, -3.2911613038983045, -2.1374943278594833, -4.005231532146491, -1.588547366944382, -0.4368379023232149, -0.8744771386961961, 8.296889720112985, -1.150908130571401, -0.7093538713631119, -4.005231532146491, 9.725030176609355, -3.565634784355855, -0.4348803909055609, 1.2657760346307074, -4.281662524021695, -6.423873208766254, -4.281662524021695, 0.11406657000954043, -5.7098029805180675, -4.993775240852227, 0.27723232592497077, 6.866791752198957, -1.8630208474019327, -0.4368379023232149, -0.4368379023232149, 0.8261792868400721, -2.5770910756501184, -4.279705012604041, -5.433371988642863, -2.8515645561076695, 6.154679035368426, -3.2911613038983045, -5.105082965394348, -3.2931188153159585, -2.579048587067773, -2.579048587067773, -2.5770910756501184, -4.007189043564145, -4.005231532146491, -4.719301760394677, -5.103125453976693, -5.103125453976693, -5.105082965394348, -5.105082965394348, -4.005231532146491, -4.007189043564145, -5.817195682224879, -6.533223421890719, -5.105082965394348, -5.105082965394348, -4.391012737146161, -5.105082965394348, -3.6749849974803217, -5.103125453976693, -5.105082965394348, -4.389055225728507, -2.345289828022279, -1.6292620883564388, -5.7335018577159085, -0.35118656639659, -2.0557580147681667, -1.0672143060624302, -2.0557580147681667, -1.0672143060624302, -1.0672143060624302, -1.065256794644776, -1.065256794644776, -1.7793270228929619, -0.35314407781424423, -4.635607935885706, -3.4838984712645384, -0.35314407781424423, -0.35118656639659, -5.7335018577159085, -2.4933972511411477, -3.209424990806988, -4.30731891263719, -3.5912911729713506, -5.021389140885376, -4.305361401219536, -4.30731891263719, -4.487588927629618, -0.698537360139756, -2.9520557694264338, 0.1806561354415144, -2.677582288968883, -2.237985541178248, -1.9635120607206973, 0.7296030963566159, 1.606839080520232, -1.961554549303043, 16.82077591610595, 18.248916372602324, 16.106705687857765, 16.82077591610595, 17.534846144354137, 18.248916372602324, 17.534846144354137, 17.534846144354137, 18.96298660085051, 17.534846144354137, 18.961029089432856, 17.534846144354137, 16.818818404688297, -0.5353716042243256, -1.9635120607206973, 18.24695886118467, 18.96298660085051, -1.9635120607206973, 18.248916372602324, 11.329110411662167, 17.534846144354137, -1.5239153129300622, -5.9176868955436435, -1.2494418324725114, -1.2494418324725114, -1.9635120607206973, -1.2474843210548574, -2.677582288968883, -5.9176868955436435, -2.9520557694264338, -4.489546439047272, -3.773518699381432, -1.9635120607206973, -3.773518699381432, -3.773518699381432, 0.1806561354415144, -5.9176868955436435, -3.773518699381432, -1.2474843210548574, -6.63175712379183, -4.489546439047272, -4.487588927629618, -4.489546439047272, -4.489546439047272, -5.9157293841259895, -5.201659155877803, -3.66612599767462, -3.775476210799086, -3.773518699381432, -3.664168486256966, -5.9157293841259895, -1.2474843210548574, -7.345827352040016, -3.773518699381432, -3.773518699381432, -4.489546439047272, -1.961554549303043, -5.9157293841259895, -0.5334140928066714, 18.08379310526924, 18.08379310526924, -1.2474843210548574, -6.63175712379183, -6.63175712379183, -3.773518699381432, -1.5239153129300622, -6.63175712379183, -3.389695005799415, -2.675624777551229, -4.489546439047272, -2.236028029760594, -6.629799612374176, -4.819792973713441, -3.775476210799086, -4.489546439047272, -4.487588927629618, -5.201659155877803, -3.773518699381432, -3.775476210799086, -1.605651626021379, -4.461932539014122, -3.47534634172604, -3.033792082517751, -2.321679365687219, -3.033792082517751, -1.3331356569814825, -1.3331356569814825, -5.177960278679962, -1.3331356569814825, -2.047205885229668, -3.033792082517751, -1.605651626021379, -1.607609137439033, -0.6190654287332966, -3.749819822183591, -2.045248373812014, 1.3580219886781766, -4.903486798222412, -2.7593186020602, -0.6171079173156424, -3.749819822183591, -2.7593186020602, -3.749819822183591, -7.427563665131332, -2.045248373812014, -4.573240263556243, 0.09500479951488952, -3.7478623107659366, -4.571282752138589, -3.749819822183591, -4.571282752138589, -3.4733888303083855, -3.8572125238904027, -5.287310491804429, -4.573240263556243, -4.571282752138589, -4.571282752138589, -5.287310491804429, -4.571282752138589, -3.8591700353080567, -3.8591700353080567, -1.605651626021379, -4.573240263556243, 2.9555076056101446, 1.5273671491137728, 2.95355009419249, -1.8778607247940722, 2.95355009419249, -2.591930953042258, 0.9784201881986714, 0.8132969208655869, 3.6676203224406763, 2.95355009419249, -0.7261512601729053, 0.9784201881986714, -2.154291716669277, 2.95355009419249, 1.5273671491137728, 0.9784201881986714, 1.5273671491137728, -3.5824321731656488, -1.8778607247940722, -1.1637904965458863, -1.1657480079635405, 0.26434995995048555, -0.7241937487552511, 2.95355009419249, -1.8798182362117264, -0.7241937487552511, -1.1637904965458863, -3.689824874872461, -3.691782386290115, -2.975754646624275, -5.117965331368833, -2.975754646624275, -1.1657480079635405, 0.976462676781017, 0.976462676781017, -2.975754646624275, -2.263641929793743, -2.975754646624275, -2.9777121580419292, -2.975754646624275, -2.9777121580419292, -5.117965331368833, -4.405852614538301, -4.405852614538301, -5.119922842786487, -2.9777121580419292, -5.119922842786487, -5.119922842786487, -2.9777121580419292, -5.119922842786487, 1.9735585150252521, -2.6927290366282257, -2.253132288837591, -4.3953429735821485, -3.6812727453339624, -3.6812727453339624, -0.7156416192167527, 1.426569065527805, -2.4202130675883295, -1.4316693588825928, 0.4380253568220684, -0.7156416192167527, 11.146882885252086, 11.144925373834432, 10.430855145586246, -1.4316693588825928, 11.146882885252086, -0.9901150996743034, 11.144925373834432, 10.430855145586246, 10.430855145586246, 11.144925373834432, 11.146882885252086, 11.144925373834432, 11.144925373834432, 11.858995602082619, 11.144925373834432, 11.144925373834432, 11.144925373834432, 11.144925373834432, 10.430855145586246, 10.430855145586246, 11.858995602082619, -1.4297118474649386, 11.144925373834432, 11.860953113500273, 11.860953113500273, 10.430855145586246, 11.858995602082619, 11.860953113500273, 10.430855145586246, -3.1323257844188612, -4.671773965457353, 11.144925373834432, -4.671773965457353, -2.5295632807127952, -3.955746225791513, -6.316568921922222, -6.316568921922222, -1.6483238588510898, -1.6463663474334358, -1.6483238588510898, -4.88842846542585, -1.6463663474334358, -3.7885770321779932, -4.886470954008196, -0.9322961191852498, 0.49584433731112193, -4.174358237177665, -3.0764643153474616, -2.362394087099276, -0.218225890937064, -0.934253630602904, -1.9208398278909864, -1.9227973393086406, -4.065008024053198, -3.0764643153474616, -0.934253630602904, -3.7885770321779932, -3.7905345435956472, -1.9227973393086406, -1.9208398278909864, 1.756904015056755, 1.756904015056755, -0.9322961191852498, -2.362394087099276, -0.218225890937064, -3.350937795805012, -1.6483238588510898, -2.362394087099276, -2.6349100561391725, -4.77712074088373, -4.779078252301384, 1.756904015056755, -1.2067695996428005, -1.9227973393086406, -1.6483238588510898, 1.0428337868085693, -0.2201834023547182, -2.3604365756816215, -1.9208398278909864, -1.6463663474334358, -0.934253630602904, -1.2087271110604547, -3.0764643153474616, -3.0745068039298076, -1.2067695996428005, -2.6349100561391725, -2.362394087099276, -0.2201834023547182, -2.3604365756816215, -2.3604365756816215, -0.9322961191852498, -3.0745068039298076, -4.17240072576001, -2.362394087099276, -4.88842846542585, -4.174358237177665, -2.9027889184758786, -4.4402795880967165, -2.9027889184758786, -3.6149016353064103, 1.4909826641377029, -2.9008314070582246, -5.152392304927249, -4.4383220766790625, -1.474648461979507, -5.868420044593089, 0.06284220764133105, -0.6512280206068548, -0.6512280206068548, -1.3652982488550407, -2.6263579266006736, -2.6263579266006736, -0.4841472418561162, -2.6263579266006736, -1.3652982488550407, 0.06284220764133105, -3.3404281548488597, -3.3423856662665137, -0.6512280206068548, -1.9142452097701421, -3.3404281548488597, -1.912287698352488, -4.4383220766790625, -7.29656050108946, 0.7788699473071711, 0.7788699473071711, -5.868420044593089, -6.58053276142362, -7.29656050108946, -4.4383220766790625, -5.152392304927249, -5.152392304927249, -5.154349816344903, -5.154349816344903, -4.056455894514699, -0.7586207223136668, -3.3404281548488597, -4.056455894514699, -3.3423856662665137, -2.628315438018328, -1.732017683360061, -1.732017683360061, -1.7300601719424067, -4.148701848562169, -2.718603880648143, -2.0045336523999575, -2.718603880648143, -2.0064911638176115, -3.4346316203139833, -2.0064911638176115, -1.017947455111875, -6.288955021889073, -3.1601581398564327, -3.1582006284387782, -4.5863410849351505, -4.5863410849351505, -3.872270856686964, -5.300411313183337, -7.0030252501372585, -2.4460879116082466, -5.576842305058541, -4.862772076810355, -3.1582006284387782, -3.1582006284387782, -4.5863410849351505, -3.4326741088963293, -2.4460879116082466, -0.30191971544603485, -0.30191971544603485, -1.017947455111875, -2.0064911638176115, -4.860814565392701, -4.148701848562169, -1.7300601719424067, -3.4326741088963293, -3.1582006284387782, -7.112375463261725, -4.2580520616866355, -3.1601581398564327, -3.1582006284387782, -7.828403202927565, -4.972122289934822, -3.5420243220207954, -5.684235006765353, 13.810208175474173, -2.718603880648143, -2.718603880648143, -6.398305235013539, -2.7205613920657976, -4.2580520616866355, -1.8735304883580854, -4.288257142142539, -5.002327370390725, -2.3111697247310663, -4.288257142142539, -2.3111697247310663, -2.3131272361487207, -4.288257142142539, -3.5741869138943536, -4.288257142142539, -3.5741869138943536, -5.002327370390725, -4.288257142142539, -2.3131272361487207, -4.288257142142539, -4.288257142142539, -4.288257142142539, -1.5990570079005346, -4.288257142142539, -2.3111697247310663, -1.5990570079005346, -3.5741869138943536, -5.002327370390725, -4.288257142142539, -2.3111697247310663, -5.7163975986389115, -3.5741869138943536, -4.288257142142539, -4.288257142142539, -3.0252399529792524, -4.288257142142539, -3.5741869138943536, -2.3111697247310663, -2.3111697247310663, -2.3111697247310663, -2.3111697247310663, -3.5741869138943536, -3.299713433436803, -4.288257142142539, -1.5970994964828804, -2.3111697247310663, -1.5970994964828804, -1.5970994964828804, -4.727853889933175, -2.3111697247310663, -2.3111697247310663, -2.3131272361487207, -0.17091655140416281, -1.5990570079005346, -0.8830292682346946, -4.727853889933175, -2.3111697247310663, -5.7163975986389115, -5.002327370390725, -0.8830292682346946, -2.3131272361487207, -0.17091655140416281, -0.17091655140416281, -2.3111697247310663, -0.17091655140416281, -0.17091655140416281, -2.585643205188617, -2.3111697247310663, -0.17091655140416281, 0.5431536768440228, -3.739310181227438, -1.5990570079005346, -2.3131272361487207, -2.3111697247310663, -0.17091655140416281, -1.5970994964828804, 0.5431536768440228, -2.3131272361487207, -3.0252399529792524, -0.8830292682346946, -1.5970994964828804, -4.288257142142539, -0.17091655140416281, 0.5451111882616768, -3.0271974643969064, -4.013783661684989, -3.0252399529792524, -0.8830292682346946, -1.5990570079005346, -2.3111697247310663, -1.5970994964828804, -0.17091655140416281, 0.5451111882616768, -1.8715729769404312, -3.0271974643969064, -3.0271974643969064, -3.741267692645092, -1.5970994964828804, -2.5876007166062713, -1.5970994964828804, 0.5451111882616768, -2.3111697247310663, -0.8830292682346946, -4.013783661684989, -3.0271974643969064, -0.8830292682346946, -0.8830292682346946, -1.8715729769404312, -4.015741173102644, -3.0252399529792524, -5.441924118181361, -2.3111697247310663, 0.5431536768440228, -1.5970994964828804, -3.0271974643969064, -0.8830292682346946, -3.0271974643969064, -1.5990570079005346, -3.0271974643969064, -5.16745063772381, -7.695442527468039, 6.034819181287808, -7.693485016050385, -2.585643205188617, -3.299713433436803, -2.3131272361487207, -2.3111697247310663, -6.267302070971667, -5.5532318427234815, -1.5990570079005346, -5.5532318427234815, -4.125091386227109, -3.299713433436803, -5.5532318427234815, -3.739310181227438, -3.0271974643969064, -5.441924118181361, -4.013783661684989, -0.8830292682346946, -6.267302070971667, -4.455337920893278, -1.8715729769404312, -5.5532318427234815, -7.693485016050385, -7.693485016050385, -0.8849867796523488, -4.123133874809455, -5.5532318427234815, -0.17091655140416281, -0.8830292682346946, -3.739310181227438, 5.597179944914826, -4.837204103057641, -2.3131272361487207, -4.013783661684989, -6.363878261455123, -0.5439237337628241, -0.26945025330527334, -4.112317363586099, -3.1257311662980167, -2.6861344185073817, 2.42366490377204, -6.363878261455123, -6.365835772872777, -3.4002046467555678, -3.509554859880034, -3.5075973484623795, -3.5075973484623795, -0.5439237337628241, -3.509554859880034, -1.9701066788415416, -3.509554859880034, -4.22362508812822, 14.558705377280775, -0.5439237337628241, -0.850559806093933, -0.40900554688564356, 2.5546680678139118, -0.13453206642809287, -2.278700262590305, -4.804734640916879, -3.265286459878387, -3.981314199544227, -3.3765941844205076, -4.804734640916879, -5.407497144622945, -3.374636673002853, -3.3765941844205076, -5.5168473577474115, -4.804734640916879, -6.232875097413252, -4.090664412668693, -3.3765941844205076, -5.5168473577474115, 1.8918222019339355, 0.46368174543756363, 11.445055242907479, 13.58922343906969, 11.447012754325133, 11.447012754325133, 11.447012754325133, 13.58922343906969, -5.35823029367239, -5.35823029367239, -5.35823029367239, 12.71002994348842, 14.138170399984793, -5.360187805090044, 14.138170399984793, -6.0723005219205755, 11.721486234782683, 13.424100171736606, 12.435556463030869, 13.149626691279055, 12.435556463030869, 13.149626691279055, 13.149626691279055, 15.291837376023613, 15.291837376023613, 12.435556463030869, 15.566310856481163, 14.852240628232977, 11.721486234782683, 12.433598951613215, 12.71002994348842, 12.159125471155665, 11.445055242907479, 11.445055242907479, 11.445055242907479, 10.01887229782876, 11.447012754325133, 13.424100171736606, 11.447012754325133, 12.71002994348842, 11.445055242907479, 13.424100171736606, 13.58922343906969, -3.216019608927832, -3.930089837176018, -3.930089837176018, -4.644160065424204, -4.644160065424204, -4.644160065424204, -3.930089837176018, -3.930089837176018, -5.35823029367239, -3.216019608927832, -5.35823029367239, -6.0723005219205755, -5.35823029367239, -5.360187805090044, -3.2179771203454863, -5.35823029367239, -3.2179771203454863, -4.646117576841858, -4.646117576841858, -2.5039068920973, -4.646117576841858, -4.644160065424204, -5.35823029367239, -4.644160065424204, -5.35823029367239, -5.35823029367239, -3.2179771203454863, -4.644160065424204, -4.644160065424204, -4.646117576841858, -4.644160065424204, -3.930089837176018, -4.646117576841858, -3.930089837176018, -3.216019608927832, -4.644160065424204, -4.644160065424204, -3.932047348593672, -5.360187805090044, -4.644160065424204, -2.5019493806796462, -1.0738089241832742, -2.5039068920973, -3.932047348593672, -4.644160065424204, -5.35823029367239, -5.35823029367239, -4.644160065424204, -3.930089837176018, -3.930089837176018, -3.930089837176018, -3.216019608927832, -4.75351027854867, -2.6112995938041124, -4.039440050300484, -4.041397561718139, -1.0757664356009284, 1.8918222019339355, -2.2294334116397496, -1.5134056719739095, -1.0757664356009284, -3.216019608927832, -1.7878791524314603, -1.5153631833915637, -4.3696865849666535, -1.5134056719739095, -1.0757664356009284, -2.2294334116397496, 0.6268475013529942, -2.9435036398879353, -0.08526521547753771, -2.9435036398879353, -1.5153631833915637, -3.216019608927832, -2.2294334116397496, -1.0757664356009284, -1.7898366638491146, -2.9435036398879353, -1.0738089241832742, -1.0757664356009284, -3.932047348593672, -2.9415461284702813, -2.9415461284702813, -2.5019493806796462, -2.2274759002220956, -3.932047348593672, -1.5134056719739095, -2.2294334116397496, -4.041397561718139, -2.9415461284702813, -2.9435036398879353, -1.5153631833915637, -1.5134056719739095, -1.5134056719739095, -1.5134056719739095, -1.5153631833915637, -0.08722272689519192, 0.6288050127706482, -0.08526521547753771, -4.644160065424204, -0.7993354437257237, -3.657573868136121, -1.5153631833915637, -4.041397561718139, -1.0757664356009284, -3.930089837176018, -1.0738089241832742, -2.5019493806796462, -5.35823029367239, -5.35823029367239, -3.930089837176018, -4.041397561718139, -1.0738089241832742, -1.0738089241832742, -1.0757664356009284, -1.0738089241832742, -1.0738089241832742, -1.0757664356009284, -3.2179771203454863, -1.0757664356009284, -1.7878791524314603, -0.3616962073527424, -1.7898366638491146, -3.216019608927832, -1.0738089241832742, -1.0757664356009284, -3.2179771203454863, -1.0738089241832742, -1.0738089241832742, -3.216019608927832, -3.2179771203454863, -3.216019608927832, -3.2179771203454863, -3.216019608927832, -1.7898366638491146, -2.5039068920973, -2.5039068920973, -1.0738089241832742, -3.2179771203454863, -3.2179771203454863, -1.7878791524314603, -1.7898366638491146, -1.0738089241832742, -1.0757664356009284, -3.2179771203454863, -1.0738089241832742, -1.7898366638491146, -1.0757664356009284, -1.0757664356009284, -0.08722272689519192, -1.7898366638491146, -3.2179771203454863, -0.3616962073527424, -1.0757664356009284, -1.0738089241832742, -1.7878791524314603, -1.7878791524314603, -1.0757664356009284, -0.3597386959350884, -0.3616962073527424, -0.3597386959350884, -2.5039068920973, -2.5039068920973, -3.2179771203454863, -0.3616962073527424, -2.5039068920973, -3.932047348593672, -3.930089837176018, -1.0757664356009284, -3.932047348593672, -3.930089837176018, -1.5134056719739095, -4.755467789966325, -3.932047348593672, -3.932047348593672, -4.041397561718139, -5.46953801821451, -4.755467789966325, -4.039440050300484, -6.895720963293227, -0.3616962073527424, -0.08722272689519192, -2.5019493806796462, -2.2274759002220956, -3.932047348593672, -2.5019493806796462, -3.655616356718467, -3.930089837176018, -1.0738089241832742, -2.2294334116397496, -2.5039068920973, -2.5039068920973, -1.5153631833915637, -1.0738089241832742, -3.932047348593672, -3.932047348593672, -1.7898366638491146, -3.932047348593672, -1.0757664356009284, -3.2179771203454863, -2.5039068920973, -3.2179771203454863, -1.0757664356009284, -1.0738089241832742, -1.0757664356009284, -0.25038848281062226, -0.08526521547753771, 1.8898646905162813, -2.2274759002220956, -2.9415461284702813, -4.644160065424204, -0.08526521547753771, -4.75351027854867, -4.039440050300484, -2.9435036398879353, -2.9415461284702813, -1.0757664356009284, 23.749134006584608, -1.0738089241832742, -1.5134056719739095, 5.953389738463694, -1.7878791524314603, -2.5019493806796462, -2.9415461284702813, -3.657573868136121, -2.9415461284702813, -0.801292955143378, -0.801292955143378, 1.3409177296011798, 1.3409177296011798, -4.3716440963843075, -2.2274759002220956, -2.2294334116397496, -0.3597386959350884, -0.9644587110588081, -1.0738089241832742, 1.8918222019339355, 0.46368174543756363, -0.9644587110588081, -3.655616356718467, -2.2294334116397496, -2.2274759002220956, -0.08526521547753771, -0.08526521547753771, -4.646117576841858, -3.2179771203454863, -3.655616356718467, -1.5134056719739095, -1.0738089241832742, -5.35823029367239, -3.2179771203454863, -3.932047348593672, -6.895720963293227, -4.041397561718139, -3.930089837176018, -3.932047348593672, -1.0757664356009284, -3.932047348593672, -3.930089837176018, -3.930089837176018, -1.0757664356009284, -0.7993354437257237, -0.08526521547753771, -0.08526521547753771, -2.5019493806796462, -1.0738089241832742, -1.0757664356009284, -1.0757664356009284, -1.7898366638491146, -0.3597386959350884, -1.7898366638491146, -2.5019493806796462, -1.0757664356009284, -2.5039068920973, -2.5019493806796462, -1.0738089241832742, -1.0757664356009284, -2.5019493806796462, -1.7898366638491146, -3.930089837176018, -3.216019608927832, -1.0738089241832742, -1.0738089241832742, -1.0757664356009284, -4.644160065424204, -0.25234599422827647, -1.0757664356009284, 1.8918222019339355, -1.7878791524314603, -3.216019608927832, -1.0757664356009284, 1.8898646905162813, 0.46368174543756363, -0.9644587110588081, 0.6288050127706482, 0.6268475013529942, 1.3409177296011798, -0.08722272689519192, -2.9435036398879353, -2.2294334116397496, -2.2294334116397496, -2.5019493806796462, -3.216019608927832, -4.646117576841858, -2.5019493806796462, 0.3543315323130973, -0.3597386959350884, -1.0757664356009284, -5.467580506796856, -3.930089837176018, -1.0757664356009284, -1.0738089241832742, -2.5039068920973, -3.932047348593672, -2.5039068920973, -0.9644587110588081, -4.644160065424204, 1.8898646905162813, -0.25038848281062226, -3.216019608927832, -3.2179771203454863, -0.9644587110588081, -2.5019493806796462, -0.25234599422827647, 1.8898646905162813, -3.930089837176018, -0.7993354437257237, -3.216019608927832, -2.9435036398879353, -3.216019608927832, -2.9415461284702813, -1.0757664356009284, -4.646117576841858, -1.0757664356009284, -1.7898366638491146, -2.5039068920973, -1.0757664356009284, -4.644160065424204, -3.930089837176018, -4.644160065424204, -1.0738089241832742, -5.360187805090044, -5.35823029367239, 6.669417478129534, -2.5039068920973, -1.0757664356009284, -3.216019608927832, -3.2179771203454863, -3.932047348593672, -2.2274759002220956, -5.35823029367239, 22.484159306003665, 23.19822953425185, 21.77008907775548, 23.19822953425185, 22.484159306003665, 21.77008907775548, 23.200187045669505, 24.628327502165877, 21.77008907775548, 21.77008907775548, 23.91425727391769, 23.91425727391769, 21.772046589173133, 10.621634801534826, 12.049775258031199, 10.621634801534826, 10.62359231295248, 10.62359231295248, 12.765802997697039, 11.337662541200666, 12.049775258031199, 12.763845486279385, 12.763845486279385, -0.08526521547753771, -0.08526521547753771, -2.2274759002220956, -2.2294334116397496, -2.2274759002220956, -0.08526521547753771, -0.08526521547753771, -2.2274759002220956, -0.7993354437257237, -0.08526521547753771, -0.08722272689519192, -0.7993354437257237, -2.9415461284702813, -2.9415461284702813, 1.3428752410188338, -4.041397561718139, 2.0228253659758075, -1.5475257752651217, 2.7388531056416476, 2.7368955942239936, -1.3824025079320377, 0.5966424208970897, -0.9428057601414025, -3.5246131926765947, -4.6205496030891435, 2.0247828773934615, 0.045737948564334135, -1.3824025079320377, -1.5455682638474677, 1.3087551377276214, 10.92167625574509, 1.3087551377276214, 2.0247828773934615, 1.3107126491452756, 2.0247828773934615, -0.831498035599282, -3.5246131926765947, -2.0945152247625693, -0.8334555470169362, -0.6683322796838518, -2.3709462166377744, -1.6568759883895883, 0.04769545998198835, 2.0247828773934615, 0.7598081768125204, 2.0228253659758075, 0.04769545998198835, -1.3804449965143835, -2.808585453010755, -2.0945152247625693, -3.083058933468306, -2.808585453010755, -2.0964727361802233, -0.6683322796838518, -1.3824025079320377, 2.0228253659758075, -1.3804449965143835, -1.3804449965143835, -2.0945152247625693, 18.388471666182696, -1.3804449965143835, -0.831498035599282, 1.473878405060706, 22.893550973338396, 16.962288721103977, -2.0964727361802233, 16.960331209686323, 2.0247828773934615, -0.6683322796838518, 16.960331209686323, 17.67440143793451, 17.676358949352164, -3.08501644488596, -1.6568759883895883, 2.0247828773934615, 2.0247828773934615, 2.0247828773934615, -0.11742780735109612, -2.808585453010755, -2.8105429644284095, -3.7971291617164917, -3.7971291617164917, 25.747874374913486, 26.463902114579327, -3.7971291617164917, -2.8105429644284095, -1.654918476971934, 1.473878405060706, 25.747874374913486, -3.5226556812589407, -1.3804449965143835, 0.045737948564334135, -2.0945152247625693, -3.5226556812589407, -2.0964727361802233, -0.9428057601414025, -2.3709462166377744, -4.622507114506798, -3.08501644488596, -3.083058933468306, -0.9428057601414025, -3.799086673134146, -5.336577342754984, -3.906479374840958, -5.336577342754984, -3.083058933468306, -3.9084368862586123, -6.05064757100317, -6.764717799251356, -3.7971291617164917, -3.799086673134146, -2.3709462166377744, -3.7971291617164917, -5.336577342754984, -3.906479374840958, -1.654918476971934, -4.511199389964678, -3.9084368862586123, -3.9084368862586123, -3.083058933468306, -3.1943666580104257, -1.6568759883895883, 0.48533469635496956, 0.045737948564334135, -2.8105429644284095, -4.622507114506798, -2.478338918344586, -0.9428057601414025, -3.799086673134146, -6.05064757100317, 14.873893579150383, -4.6205496030891435, -5.33461983133733, 14.873893579150383, -3.799086673134146, -0.9408482487237483, -2.3709462166377744, -2.3709462166377744, -5.336577342754984, -0.6768844092223502, -0.674926897804696, -2.103067354301068, -2.105024865718722, -3.6405580239219058, -4.356585763587746, -3.6405580239219058, -2.9264877956737196, -3.6405580239219058, -3.6405580239219058, -0.4024109287647994, -3.6405580239219058, -2.9264877956737196, 14.427702213238904, -4.354628252170092], \"yaxis\": \"y\"}, {\"hoverlabel\": {\"namelength\": 0}, \"hovertemplate\": \"color=deceased<br>0=%{x}<br>1=%{y}\", \"legendgroup\": \"color=deceased\", \"marker\": {\"color\": \"#EF553B\", \"symbol\": \"circle\"}, \"mode\": \"markers\", \"name\": \"color=deceased\", \"showlegend\": true, \"type\": \"scattergl\", \"x\": [40.02762559439969, 50.00035007327432, 1.5279246757894829, 20.08217663665042, 30.114284325967535, 30.114284325967535, 30.307426188683635, 30.081789386202963, 20.000115468409646, -9.838495505204918, 40.11889448598296, 30.14617000710833, 40.11602833107672, 30.046428291532152, 41.33712887272204, 49.98901109437517, 30.04356213662591, 40.019152770406784, 40.01628661550054, 30.04356213662591, 30.046428291532152, 40.019152770406784, 0.125388700002011, 52.04206229732737, 40.08950751007361, 30.266090975251362, 30.04356213662591, 40.09237366497985, 12.001856437776459, 12.001856437776459, 21.974580916651092, 21.974580916651092, 12.0047225926827, 21.974580916651092, 12.001856437776459], \"xaxis\": \"x\", \"y\": [-3.4409193681676244, -4.15498959641581, 18.197692010234114, -2.0127789116712527, -5.7098029805180675, -5.7098029805180675, -2.345289828022279, -5.176002767262308, -2.868361944917463, -1.9227973393086406, -4.7685686113452315, -4.054498383097045, -4.7705261227628855, -4.644160065424204, 12.435556463030869, -6.0742580333382294, -4.646117576841858, -5.35823029367239, -5.360187805090044, -4.646117576841858, -4.644160065424204, -5.35823029367239, -2.5039068920973, 21.60692332184005, -4.3716440963843075, -1.678528939306994, -4.646117576841858, -4.3696865849666535, 22.484159306003665, 22.484159306003665, 21.77008907775548, 21.77008907775548, 22.48611681742132, 21.77008907775548, 22.484159306003665], \"yaxis\": \"y\"}, {\"hoverlabel\": {\"namelength\": 0}, \"hovertemplate\": \"color=isolated<br>0=%{x}<br>1=%{y}\", \"legendgroup\": \"color=isolated\", \"marker\": {\"color\": \"#00cc96\", \"symbol\": \"circle\"}, \"mode\": \"markers\", \"name\": \"color=isolated\", \"showlegend\": true, \"type\": \"scattergl\", \"x\": [-8.737683381377428, 10.54877752521421, 20.524368158995085, 40.2472882781189, 30.643534427015855, -19.746471913499384, 40.163095854321476, 10.242056262791342, -19.969000752124835, -29.941725230999467, 19.921897163373696, -19.969000752124835, -9.996276273250203, -19.969000752124835, -19.96613459721859, -39.914449709874106, -39.914449709874106, -0.020685639469327895, 10.168835368218271, -19.746471913499384, -9.993410118343961, 30.190371375446848, -9.993410118343961, 19.921897163373696, -9.993410118343961, -0.023551794375570652, -19.969000752124835, 19.92476331827994, -19.67611717383256, -19.67611717383256, 20.214780741665972, -39.62156613158183, 9.949172684499063, 19.921897163373696, -29.72206254728026, -19.96613459721859, -9.996276273250203, -9.996276273250203, 9.949172684499063, -9.996276273250203, 20.337567864715247, 0.24567711781984092, -19.556196205689528, -19.553330050783284, 0.3921189069659805, -19.553330050783284, 10.364843385840613, 0.3921189069659805, 20.337567864715247, 30.31029234358988, 10.361977230934372, -0.05007261537868108, -19.995521573127945, 9.925518018402194, 9.922651863495952, -10.019930939347072, -10.022797094253313, -19.992655418221702, -19.992655418221702, -0.05007261537868108, -0.05007261537868108, 20.191126075569105, -9.727047361054792, 0.24281096291359816, -10.049317915256424, -0.07372728147554876, -29.991900718099444, -10.046451760350182, -29.991900718099444, -20.019176239224812, -20.022042394131056, 19.868855521367475, -20.019176239224812, -19.80237971041185, 20.091384359992926, 20.16173909965975, 20.088518205086682, 20.091384359992926, -10.046451760350182, 20.164605254565995, 20.164605254565995, 20.164605254565995, 30.064108838867558, 20.088518205086682, 20.091384359992926, 9.860769947822028, -39.70710271335262, 19.83349442669666, -20.00436184679565, 20.106198752422088, 20.10906490732833, 20.10906490732833, 0.23683684415213746, 10.20956132302677, 20.15576498089829, 10.20956132302677, 10.206695168120529, 10.121158586349736, 30.887219226506733, 20.1822858019014, 20.179419646995157, 10.20956132302677, 10.938904113851226, 20.9144947476321, 20.9144947476321, 20.10906490732833, -19.7818330081702, 10.1363404284537, 20.10906490732833, 20.10906490732833, 20.10906490732833, 10.1363404284537, 10.941770268757468, 20.911628592725858, 20.1822858019014, 50.02723834395223, 21.790279327602693, 21.790279327602693, 0.16361594957906764, 21.790279327602693, 31.76586996138357, 21.790279327602693, 10.1363404284537, 31.76586996138357, 41.73572828535196, 31.763003806477325, 11.817554848728065, 20.1822858019014, 20.106198752422088, 21.790279327602693, 21.793145482508937, 10.133474273547458, 20.1822858019014, 31.763003806477325, 21.790279327602693, 10.941770268757468, 10.20956132302677, 10.20956132302677, 20.10906490732833, 10.20956132302677, 10.206695168120529, 40.054513865077595, 10.20956132302677, 10.20956132302677, -19.784699163076443, 10.206695168120529, 0.16361594957906764, -9.811974684201807, -39.65692722625264, -9.738753789628737, 20.10906490732833, -9.811974684201807, 10.133474273547458, 20.179419646995157, 20.1822858019014, 0.23683684415213746, -29.684202747378006, -29.684202747378006, 10.20956132302677, 10.20956132302677, -20.001495691889406, 30.081789386202963, -29.684202747378006, -29.684202747378006, 9.807728305815807, -10.137720651933458, 0.0752132129020329, 10.121158586349736, 10.180174347117418, -9.762408455725605, -9.765274610631847, -9.762408455725605, -19.811219984079553, 20.152898825992047, 20.15576498089829, -19.811219984079553, 0.20744986824278427, 20.079677931418978, 10.326616136263558, 10.18304050202366, -39.68058189234951, 20.08254408632522, -19.737999089506484, -19.737999089506484, -19.737999089506484, 20.15576498089829, -9.765274610631847, -9.838495505204918, -9.618832821485707, -9.615966666579466, 10.10981960745059, -9.838495505204918, -19.591557300360343, 20.30220677004443, 0.13422897366971445, -19.80835382917331, -9.838495505204918, -9.762408455725605, 0.20744986824278427, 0.20744986824278427, 30.055268565199853, -9.765274610631847, 0.21031602314902703, -19.73513293460024, -9.762408455725605, 10.106953452544348, 0.21031602314902703, 40.027993044074485, -19.737999089506484, 10.180174347117418, 10.18304050202366, 0.21031602314902703, -29.707857413474873, 0.20744986824278427, -29.707857413474873, 0.21031602314902703, 0.20744986824278427, 20.079677931418978, -29.707857413474873, 20.15576498089829, -19.811219984079553, 0.13422897366971445, 0.1370951285759572, -39.68058189234951, 0.21031602314902703, -19.737999089506484, 0.20744986824278427, -29.707857413474873, -39.68058189234951, 0.1370951285759572, 30.05240241029361, -19.811219984079553, 0.21031602314902703, 30.128489459772922, 10.106953452544348, -9.765274610631847, 0.21031602314902703, 10.180174347117418, -19.811219984079553, 10.10981960745059, 10.10981960745059, 10.18304050202366, -9.835629350298676, -19.80835382917331, 40.02512688916824, 10.180174347117418, -29.710723568381116, 30.128489459772922, -19.73513293460024, -19.737999089506484, -29.707857413474873, -39.68344804725575, -9.762408455725605, -9.762408455725605, 30.12562330486668, 30.128489459772922, -19.73513293460024, 20.079677931418978, 0.13422897366971445, 10.18304050202366, 10.18304050202366, -19.737999089506484, -9.762408455725605, 10.18304050202366, 20.152898825992047, -19.73513293460024, -19.737999089506484, -19.737999089506484, 20.15576498089829, -20.03088266779876, 20.152898825992047, 10.180174347117418, -9.615966666579466, 10.18304050202366, 0.21031602314902703, 10.18304050202366, 10.18304050202366, -29.710723568381116, 20.152898825992047, 0.21031602314902703, 0.21031602314902703, 10.18304050202366, -19.73513293460024, 0.21031602314902703, 10.18304050202366, 0.21031602314902703, -19.73513293460024, 10.18304050202366, -9.762408455725605, -29.707857413474873, 10.10981960745059, 0.21031602314902703, 20.152898825992047, -20.03088266779876, 0.21031602314902703, 10.18304050202366, 0.21031602314902703, 20.152898825992047, -0.08543371004949497, 20.079677931418978, -9.765274610631847, 10.18304050202366, 0.1370951285759572, 10.18304050202366, -9.762408455725605, 20.15576498089829, -9.762408455725605, 20.152898825992047, -39.68344804725575, -9.765274610631847, 20.152898825992047, 10.18304050202366, 10.180174347117418, -10.055292034017885, 20.152898825992047, 10.18304050202366, 20.15576498089829, 10.18304050202366, 30.128489459772922, 0.21031602314902703, 0.20744986824278427, -19.73513293460024, 20.152898825992047, 20.152898825992047, 20.15576498089829, -20.03088266779876, 10.18304050202366, 0.21031602314902703, 10.10981960745059, 20.15576498089829, -19.73513293460024, 20.152898825992047, -9.762408455725605, -29.707857413474873, 10.18304050202366, 10.180174347117418, -9.765274610631847, 10.180174347117418, 10.18304050202366, 10.18304050202366, -19.737999089506484, -29.710723568381116, 0.20744986824278427, 0.0638742340028874, -29.710723568381116, 10.18304050202366, 10.18304050202366, -19.737999089506484, 30.128489459772922, 20.15576498089829, 10.18304050202366, -19.73513293460024, 10.18304050202366, 20.15576498089829, 0.20744986824278427, -19.73513293460024, 30.055268565199853, -10.055292034017885, 10.18304050202366, 20.15576498089829, 20.15576498089829, 10.18304050202366, 10.18304050202366, 0.21031602314902703, -19.73513293460024, -19.737999089506484, -19.73513293460024, 10.18304050202366, 20.152898825992047, -19.737999089506484, -29.710723568381116, 10.18304050202366, 0.21031602314902703, 0.21031602314902703, -9.762408455725605, 0.21031602314902703, 0.20744986824278427, 10.180174347117418, 20.152898825992047, -10.055292034017885, -9.838495505204918, 0.21031602314902703, -9.765274610631847, 20.15576498089829, -29.710723568381116, 10.180174347117418, -19.737999089506484, 40.02512688916824, 30.12562330486668, 20.15576498089829, -10.058158188924127, -10.055292034017885, -0.08543371004949497, -39.973465470641784, 0.21031602314902703, -19.737999089506484, -39.68344804725575, 20.15576498089829, 20.15576498089829, -9.765274610631847, -19.737999089506484, 10.180174347117418, -9.762408455725605, -10.055292034017885, 40.101213938647554, 30.128489459772922, -10.058158188924127, 30.12562330486668, -9.838495505204918, 10.18304050202366, 10.18304050202366, -10.055292034017885, -10.058158188924127, -10.055292034017885, 30.12562330486668, -9.762408455725605, 10.18304050202366, 0.1370951285759572, -0.08543371004949497, -20.03088266779876, 40.027993044074485, 19.86001524769977, -9.765274610631847, -29.710723568381116, 40.027993044074485, 40.027993044074485, 20.08254408632522, 40.027993044074485, 20.152898825992047, -0.08256755514325222, 0.20744986824278427, 10.18304050202366, 9.887290768825139, -20.03088266779876, -19.73513293460024, -9.765274610631847, -19.73513293460024, -0.08543371004949497, 10.10981960745059, 0.21031602314902703, -19.73513293460024, -39.68344804725575, -9.765274610631847, 10.180174347117418, 10.18304050202366, 40.101213938647554, 20.15576498089829, 0.21031602314902703, 10.18304050202366, -10.058158188924127, -9.762408455725605, 0.21031602314902703, -10.055292034017885, 10.18304050202366, 20.152898825992047, -9.762408455725605, -9.765274610631847, 10.180174347117418, 20.15576498089829, -9.762408455725605, 10.106953452544348, 0.13422897366971445, 0.21031602314902703, -19.73513293460024, 10.180174347117418, -20.028016512892517, 10.18304050202366, -29.710723568381116, -20.03088266779876, 10.180174347117418, -19.737999089506484, -19.73513293460024, 9.887290768825139, 10.18304050202366, 10.180174347117418, 10.18304050202366, -19.73513293460024, -10.058158188924127, -9.765274610631847, -9.765274610631847, -20.03088266779876, 0.20744986824278427, 10.18304050202366, 30.128489459772922, 10.18304050202366, -10.058158188924127, 50.073938417522186, 50.07107226261594, 50.073938417522186, 50.073938417522186, 40.101213938647554, -10.058158188924127, -20.03088266779876, -20.028016512892517, -10.058158188924127, -19.811219984079553, -29.710723568381116, 40.101213938647554, 0.21031602314902703, 30.05240241029361, -20.028016512892517, -20.028016512892517, -39.97633162554803, -10.055292034017885, 10.180174347117418, -20.03088266779876, -19.73513293460024, -19.737999089506484, -19.737999089506484, 30.055268565199853, -19.737999089506484, 50.073938417522186, 20.15576498089829, -19.73513293460024, -19.73513293460024, -30.00074099176715, 10.180174347117418, 20.152898825992047, 0.21031602314902703, -19.73513293460024, -19.80835382917331, -19.737999089506484, 40.09834778374131, -9.765274610631847, -10.055292034017885, 50.073938417522186, 40.101213938647554, -19.737999089506484, 10.18304050202366, -20.028016512892517, -19.73513293460024, 10.180174347117418, -29.710723568381116, -10.058158188924127, -10.058158188924127, 19.86001524769977, -10.058158188924127, 19.86001524769977, 50.07107226261594, 0.21031602314902703, 10.180174347117418, -20.028016512892517, -39.97633162554803, 10.180174347117418, -9.762408455725605, 30.128489459772922, -10.055292034017885, -10.055292034017885, 10.18304050202366, -20.03088266779876, 9.89015692373138, -20.028016512892517, -10.055292034017885, -20.028016512892517, -20.03088266779876, 19.862881402606014, -20.03088266779876, -10.058158188924127, -9.765274610631847, -9.838495505204918, -29.710723568381116, -20.028016512892517, -19.73513293460024, 19.86001524769977, 19.86001524769977, 19.862881402606014, 0.21031602314902703, -19.737999089506484, -20.03088266779876, 9.887290768825139, 30.05240241029361, -9.762408455725605, 9.887290768825139, -0.08256755514325222, -10.055292034017885, 10.18304050202366, -9.762408455725605, 9.89015692373138, -19.811219984079553, -20.028016512892517, -20.028016512892517, 40.027993044074485, 10.106953452544348, 10.180174347117418, -39.97633162554803, 0.21031602314902703, -29.710723568381116, -20.028016512892517, 20.152898825992047, -19.737999089506484, -10.058158188924127, -20.03088266779876, -10.058158188924127, 9.89015692373138, -19.73513293460024, 20.15576498089829, -20.028016512892517, 30.128489459772922, -20.028016512892517, -19.737999089506484, 40.101213938647554, 10.180174347117418, 20.15576498089829, 20.15576498089829, 30.128489459772922, -20.028016512892517, 20.15576498089829, -20.028016512892517, 0.21031602314902703, 19.862881402606014, 19.86001524769977, -20.028016512892517, -20.03088266779876, -0.08256755514325222, 9.89015692373138, -20.03088266779876, 30.12562330486668, 10.180174347117418, 20.152898825992047, -19.73513293460024, 40.09834778374131, 30.128489459772922, 10.180174347117418, 10.18304050202366, -20.028016512892517, -20.028016512892517, -9.835629350298676, -9.762408455725605, 0.20744986824278427, -9.838495505204918, 20.152898825992047, 20.15576498089829, 0.20744986824278427, 0.21031602314902703, 20.152898825992047, 10.18304050202366, 20.15576498089829, -9.762408455725605, 30.128489459772922, 0.21031602314902703, 10.180174347117418, 20.15576498089829, -20.028016512892517, -20.03088266779876, -10.058158188924127, 10.18304050202366, 9.89015692373138, -0.08543371004949497, 40.101213938647554, -29.710723568381116, 40.09834778374131, -9.762408455725605, -20.03088266779876, -9.762408455725605, -9.762408455725605, 40.09834778374131, -20.03088266779876, -9.762408455725605, 30.128489459772922, 10.18304050202366, 10.180174347117418, 30.128489459772922, -19.73513293460024, 10.18304050202366, -20.028016512892517, 0.20744986824278427, -9.765274610631847, 10.18304050202366, 9.89015692373138, -20.028016512892517, 0.21031602314902703, -9.765274610631847, -20.028016512892517, -20.028016512892517, -9.762408455725605, -9.765274610631847, 10.106953452544348, 30.12562330486668, -20.028016512892517, -20.03088266779876, -19.73513293460024, 40.101213938647554, -20.03088266779876, 20.152898825992047, -10.055292034017885, -20.028016512892517, 0.20744986824278427, -9.838495505204918, 30.12562330486668, 0.20744986824278427, 19.862881402606014, 10.18304050202366, 20.15576498089829, -20.03088266779876, 40.101213938647554, 20.15576498089829, 30.128489459772922, 0.1370951285759572, -20.03088266779876, -29.710723568381116, 40.09834778374131, 10.180174347117418, -20.028016512892517, -20.028016512892517, 10.180174347117418, -20.03088266779876, -10.058158188924127, -20.028016512892517, 20.15576498089829, 20.15576498089829, -20.03088266779876, -20.03088266779876, -19.80835382917331, -19.737999089506484, -19.73513293460024, -9.838495505204918, -10.058158188924127, -20.03088266779876, 20.152898825992047, 20.15576498089829, -39.97633162554803, 20.15576498089829, -10.058158188924127, 10.18304050202366, 20.152898825992047, 10.180174347117418, -20.028016512892517, 10.18304050202366, 30.128489459772922, 10.18304050202366, 10.18304050202366, -10.055292034017885, 20.152898825992047, -19.73513293460024, 20.079677931418978, -20.028016512892517, 9.89015692373138, 19.862881402606014, 29.835605881480646, -20.028016512892517, 20.15576498089829, 20.152898825992047, 30.12562330486668, 20.15576498089829, 9.887290768825139, -9.762408455725605, 0.20744986824278427, -10.055292034017885, 0.21031602314902703, 20.152898825992047, 30.12562330486668, -10.058158188924127, 20.15576498089829, -10.055292034017885, -30.00074099176715, 20.15576498089829, 10.180174347117418, 40.101213938647554, 10.180174347117418, -39.68058189234951, -20.028016512892517, 10.180174347117418, 9.887290768825139, 10.18304050202366, 30.12562330486668, 10.106953452544348, -19.73513293460024, 10.18304050202366, -20.028016512892517, -20.03088266779876, 9.887290768825139, -10.058158188924127, -10.058158188924127, -20.03088266779876, -19.73513293460024, -9.762408455725605, -20.03088266779876, -20.028016512892517, 9.887290768825139, -20.028016512892517, 0.13422897366971445, -20.028016512892517, -20.028016512892517, -20.03088266779876, -20.03088266779876, -0.08543371004949497, 19.86001524769977, -8.6669611920358, -9.765274610631847, -0.08543371004949497, -9.765274610631847, -18.639685670910435, 9.887290768825139, -9.765274610631847, -9.765274610631847, -19.737999089506484, -19.737999089506484, 10.18304050202366, 0.20744986824278427, -19.737999089506484, -19.737999089506484, 0.20744986824278427, -9.765274610631847, -8.6669611920358, -19.73513293460024, -19.737999089506484, -8.6669611920358, 10.18304050202366, -19.73513293460024, -19.811219984079553, -19.737999089506484, -18.639685670910435, -19.737999089506484, -10.058158188924127, -19.737999089506484, -19.73513293460024, -18.639685670910435, -19.73513293460024, -18.63681951600419, -9.838495505204918, -0.08256755514325222, -30.003607146673392, -18.63681951600419, -19.737999089506484, 19.862881402606014, -10.058158188924127, 20.08254408632522, -8.6669611920358, -20.03088266779876, 0.20744986824278427, -39.68344804725575, -19.737999089506484, -18.639685670910435, -18.63681951600419, -30.003607146673392, -0.08256755514325222, -19.737999089506484, -19.737999089506484, -19.737999089506484, -19.737999089506484, 30.05240241029361, -39.68058189234951, -9.765274610631847, -9.762408455725605, 0.20744986824278427, 30.128489459772922, 10.18304050202366, 10.180174347117418, -9.765274610631847, 10.18304050202366, 40.101213938647554, 10.18304050202366, 10.180174347117418, -9.765274610631847, -9.838495505204918, -9.762408455725605, 10.10981960745059, 20.152898825992047, -9.762408455725605, 0.20744986824278427, -19.737999089506484, -10.058158188924127, -10.055292034017885, -9.765274610631847, -9.838495505204918, 9.887290768825139, -9.838495505204918, -9.835629350298676, 0.20744986824278427, -8.6669611920358, 10.18304050202366, -0.08543371004949497, 0.13422897366971445, -8.00510698597193, 10.18304050202366, -39.68058189234951, 0.21031602314902703, 30.12562330486668, 20.15576498089829, -9.765274610631847, -9.762408455725605, -8.007973140878171, -8.00510698597193, -8.007973140878171, -9.765274610631847, 0.21031602314902703, 1.9676174929027024, -8.007973140878171, -17.980697619752807, -8.00510698597193, 1.9647513379964596, -8.00510698597193, -8.007973140878171, 21.910200295745724, -8.007973140878171, -8.00510698597193, -17.977831464846563, 0.21031602314902703, -17.977831464846563, 0.20744986824278427, 0.20744986824278427, -29.707857413474873, 10.18304050202366, -8.007973140878171, -8.007973140878171, -8.00510698597193, 11.940341971777336, -30.003607146673392, -0.08256755514325222, -20.03088266779876, 30.128489459772922, -19.737999089506484, -27.95342209862744, 20.15576498089829, -19.737999089506484, 50.073938417522186, 40.09834778374131, -9.765274610631847, -9.765274610631847, 40.101213938647554, -8.00510698597193, 40.101213938647554, 9.887290768825139, 10.18304050202366, 20.15576498089829, -17.977831464846563, 20.15576498089829, 20.15576498089829, 20.15576498089829, 30.128489459772922, 50.07107226261594, 40.101213938647554, 10.18304050202366, 10.18304050202366, -19.86389417641097, 30.143303852202088, -18.622005123575025, 19.880561949941423, -9.820814957869512, -9.820814957869512, 0.15190952100512142, -9.81794880296327, 40.70179548766128, -19.7906732818379, -19.7906732818379, 30.14617000710833, -19.720318542171075, -19.720318542171075, -39.63040640524953, 30.181531101779143, -10.005116546917906, -0.03239206804327411, -29.95056550466717, -9.785453863198697, 20.78573350582137, 0.18129649691447455, 10.227241870362176, 20.123879299757498, 20.19996634923681, 20.19996634923681, 20.19996634923681, 30.172690828111442, 40.145415306986074, 10.227241870362176, 30.172690828111442, 0.2545173914875444, 20.19996634923681, 30.1698246732052, 20.19996634923681, 20.197100194330567, -19.98668129946024, -29.825279676386458, -10.102359557262645, -19.852555197511826, -0.1296350783880123, 20.10869745765353, 10.138839133685142, -10.111199830930348, 20.026636289412757, 20.099857183985826, -29.763765210387337, -0.13847535205571576, -10.066998462591831, 9.878450495157434, 0.19860959457508082, -10.06413230768559, -39.69228832092345, 30.046428291532152, -20.03972294146646, 42.06933781845274, 52.04206229732737, 2.1784399029542083, 12.15116438182884, 22.123888860703474, 12.15116438182884, 22.123888860703474, 42.06933781845274, 12.15116438182884, 22.123888860703474, 12.15116438182884, 22.123888860703474, -7.794284575920425, 12.15116438182884, 22.123888860703474, 22.123888860703474, 42.06933781845274, 42.06933781845274, 32.096613339578106, 52.04206229732737, 42.066471663546494, 42.06933781845274, 42.06933781845274, 32.096613339578106, 52.04206229732737, 42.066471663546494, 22.123888860703474, 42.066471663546494, 12.15116438182884, 20.07370381265752, 20.07370381265752, 20.070837657751277, 30.046428291532152, -19.820060257747254, 40.01628661550054, 30.11964918610522, 0.19860959457508082, -29.719563842048817, 30.11964918610522, 10.174200228355955, -19.746839363174185, -29.719563842048817, -29.719563842048817, 20.14692470723059, 0.20147574948132357, -29.716697687142574, 20.144058552324346, -29.719563842048817, 10.171334073449714, -29.719563842048817, 40.08950751007361, 0.19860959457508082, -29.719563842048817, -29.719563842048817, 0.20147574948132357, -19.743973208267942, 10.174200228355955, -39.68942216601721, 0.20147574948132357, -29.719563842048817, -9.77124872939331, -29.719563842048817, -29.719563842048817, -39.68942216601721, -29.719563842048817, -29.719563842048817, -29.719563842048817, 30.11964918610522, 0.19860959457508082, -8.822243254849644, 0.1194145812405503, -29.798758855383348, -0.10311425738490189, -0.10311425738490189, -10.075838736259534, -10.075838736259534], \"xaxis\": \"x\", \"y\": [14.957587403659353, 4.632553568811353, 3.920440851980821, -0.4752882420504146, 5.1834580411441085, -2.1374943278594833, -5.433371988642863, -3.2931188153159585, -5.105082965394348, -4.391012737146161, -7.9613638783870915, -5.105082965394348, -5.819153193642533, -5.105082965394348, -5.103125453976693, -3.6769425088979757, -3.6769425088979757, -6.531265910473065, -4.281662524021695, -2.1374943278594833, -5.817195682224879, -4.719301760394677, -5.817195682224879, -7.9613638783870915, -5.817195682224879, -6.533223421890719, -5.105082965394348, -7.959406366969437, -1.150908130571401, -1.150908130571401, -4.007189043564145, 0.27723232592497077, -7.247293650138905, -7.9613638783870915, -1.4253816110289514, -5.103125453976693, -5.819153193642533, -5.819153193642533, -7.247293650138905, -5.819153193642533, -1.6292620883564388, -2.1782090492715405, 1.2250613132186505, 1.2270188246363047, -0.20112163186006712, 1.2270188246363047, -0.9151918601082529, -0.20112163186006712, -1.6292620883564388, -2.343332316604625, -0.9171493715259071, -6.13434139551214, -4.706200939015769, -6.8464541123426725, -6.8484116237603265, -5.418313655846301, -5.420271167263955, -4.704243427598115, -4.704243427598115, -6.13434139551214, -6.13434139551214, -3.606349505767912, -1.4641388210233544, -2.1801665606891945, -5.021389140885376, -5.7335018577159085, -3.5912911729713506, -5.019431629467722, -3.5912911729713506, -4.305361401219536, -4.30731891263719, -7.163599825629934, -4.305361401219536, -1.3416877865199808, -4.196011188095071, -3.209424990806988, -4.1979686995127246, -4.196011188095071, -5.019431629467722, -3.2074674793893334, -3.2074674793893334, -3.2074674793893334, -4.910081416343257, -4.1979686995127246, -4.196011188095071, -5.9176868955436435, 1.608796591937886, -6.63175712379183, -4.573240263556243, -4.463890050431777, -4.461932539014122, -4.461932539014122, -2.045248373812014, -2.7593186020602, -3.0745068039298076, -2.7593186020602, -2.7612761134778543, -1.4297118474649386, 5.697978028500795, -3.4733888303083855, -3.47534634172604, -2.7593186020602, 7.124160973579512, 6.412048256748981, 6.412048256748981, -4.461932539014122, -1.605651626021379, -3.7478623107659366, -4.461932539014122, -4.461932539014122, -4.461932539014122, -3.7478623107659366, 7.126118484997166, 6.410090745331326, -3.4733888303083855, -6.60414322375868, 18.272615249800165, 18.272615249800165, -3.033792082517751, 18.272615249800165, 17.560502532969632, 18.272615249800165, -3.7478623107659366, 17.560502532969632, 16.844474793303792, 17.55854502155198, 18.98668547804835, -3.4733888303083855, -4.463890050431777, 18.272615249800165, 18.27457276121782, -3.749819822183591, -3.4733888303083855, 17.55854502155198, 18.272615249800165, 7.126118484997166, -2.7593186020602, -2.7593186020602, -4.461932539014122, -2.7593186020602, -2.7612761134778543, -5.8900729955104945, -2.7593186020602, -2.7593186020602, -1.607609137439033, -2.7612761134778543, -3.033792082517751, -2.321679365687219, 0.8090750277630752, -1.3331356569814825, -4.461932539014122, -2.321679365687219, -3.749819822183591, -3.47534634172604, -3.4733888303083855, -2.045248373812014, 0.09500479951488952, 0.09500479951488952, -2.7593186020602, -2.7593186020602, -4.571282752138589, -5.176002767262308, 0.09500479951488952, 0.09500479951488952, -5.119922842786487, -3.691782386290115, -1.7041853279224892, -1.4297118474649386, -2.362394087099276, -0.9322961191852498, -0.934253630602904, -0.9322961191852498, -1.2087271110604547, -3.0764643153474616, -3.0745068039298076, -1.2087271110604547, -1.6483238588510898, -4.065008024053198, -0.3853066696878025, -2.3604365756816215, 1.2099145655593075, -4.063050512635544, -0.2201834023547182, -0.2201834023547182, -0.2201834023547182, -3.0745068039298076, -0.934253630602904, -1.9227973393086406, 1.0428337868085693, 1.0447912982262235, -3.348980284387358, -1.9227973393086406, 1.756904015056755, -1.0974193865183344, -2.6368675675568265, -1.2067695996428005, -1.9227973393086406, -0.9322961191852498, -1.6483238588510898, -1.6483238588510898, -4.77712074088373, -0.934253630602904, -1.6463663474334358, -0.218225890937064, -0.9322961191852498, -3.350937795805012, -1.6463663474334358, -5.4911909691319165, -0.2201834023547182, -2.362394087099276, -2.3604365756816215, -1.6463663474334358, 0.49584433731112193, -1.6483238588510898, 0.49584433731112193, -1.6463663474334358, -1.6483238588510898, -4.065008024053198, 0.49584433731112193, -3.0745068039298076, -1.2087271110604547, -2.6368675675568265, -2.6349100561391725, 1.2099145655593075, -1.6463663474334358, -0.2201834023547182, -1.6483238588510898, 0.49584433731112193, 1.2099145655593075, -2.6349100561391725, -4.779078252301384, -1.2087271110604547, -1.6463663474334358, -3.7885770321779932, -3.350937795805012, -0.934253630602904, -1.6463663474334358, -2.362394087099276, -1.2087271110604547, -3.348980284387358, -3.348980284387358, -2.3604365756816215, -1.9208398278909864, -1.2067695996428005, -5.4931484805495705, -2.362394087099276, 0.49388682589346794, -3.7885770321779932, -0.218225890937064, -0.2201834023547182, 0.49584433731112193, 1.2079570541416536, -0.9322961191852498, -0.9322961191852498, -3.7905345435956472, -3.7885770321779932, -0.218225890937064, -4.065008024053198, -2.6368675675568265, -2.3604365756816215, -2.3604365756816215, -0.2201834023547182, -0.9322961191852498, -2.3604365756816215, -3.0764643153474616, -0.218225890937064, -0.2201834023547182, -0.2201834023547182, -3.0745068039298076, -4.174358237177665, -3.0764643153474616, -2.362394087099276, 1.0447912982262235, -2.3604365756816215, -1.6463663474334358, -2.3604365756816215, -2.3604365756816215, 0.49388682589346794, -3.0764643153474616, -1.6463663474334358, -1.6463663474334358, -2.3604365756816215, -0.218225890937064, -1.6463663474334358, -2.3604365756816215, -1.6463663474334358, -0.218225890937064, -2.3604365756816215, -0.9322961191852498, 0.49584433731112193, -3.348980284387358, -1.6463663474334358, -3.0764643153474616, -4.174358237177665, -1.6463663474334358, -2.3604365756816215, -1.6463663474334358, -3.0764643153474616, -5.602498693674036, -4.065008024053198, -0.934253630602904, -2.3604365756816215, -2.6349100561391725, -2.3604365756816215, -0.9322961191852498, -3.0745068039298076, -0.9322961191852498, -3.0764643153474616, 1.2079570541416536, -0.934253630602904, -3.0764643153474616, -2.3604365756816215, -2.362394087099276, -4.886470954008196, -3.0764643153474616, -2.3604365756816215, -3.0745068039298076, -2.3604365756816215, -3.7885770321779932, -1.6463663474334358, -1.6483238588510898, -0.218225890937064, -3.0764643153474616, -3.0764643153474616, -3.0745068039298076, -4.174358237177665, -2.3604365756816215, -1.6463663474334358, -3.348980284387358, -3.0745068039298076, -0.218225890937064, -3.0764643153474616, -0.9322961191852498, 0.49584433731112193, -2.3604365756816215, -2.362394087099276, -0.934253630602904, -2.362394087099276, -2.3604365756816215, -2.3604365756816215, -0.2201834023547182, 0.49388682589346794, -1.6483238588510898, -3.6234537648449088, 0.49388682589346794, -2.3604365756816215, -2.3604365756816215, -0.2201834023547182, -3.7885770321779932, -3.0745068039298076, -2.3604365756816215, -0.218225890937064, -2.3604365756816215, -3.0745068039298076, -1.6483238588510898, -0.218225890937064, -4.77712074088373, -4.886470954008196, -2.3604365756816215, -3.0745068039298076, -3.0745068039298076, -2.3604365756816215, -2.3604365756816215, -1.6463663474334358, -0.218225890937064, -0.2201834023547182, -0.218225890937064, -2.3604365756816215, -3.0764643153474616, -0.2201834023547182, 0.49388682589346794, -2.3604365756816215, -1.6463663474334358, -1.6463663474334358, -0.9322961191852498, -1.6463663474334358, -1.6483238588510898, -2.362394087099276, -3.0764643153474616, -4.886470954008196, -1.9227973393086406, -1.6463663474334358, -0.934253630602904, -3.0745068039298076, 0.49388682589346794, -2.362394087099276, -0.2201834023547182, -5.4931484805495705, -3.7905345435956472, -3.0745068039298076, -4.88842846542585, -4.886470954008196, -5.602498693674036, -2.7442602692636386, -1.6463663474334358, -0.2201834023547182, 1.2079570541416536, -3.0745068039298076, -3.0745068039298076, -0.934253630602904, -0.2201834023547182, -2.362394087099276, -0.9322961191852498, -4.886470954008196, -4.50264726042618, -3.7885770321779932, -4.88842846542585, -3.7905345435956472, -1.9227973393086406, -2.3604365756816215, -2.3604365756816215, -4.886470954008196, -4.88842846542585, -4.886470954008196, -3.7905345435956472, -0.9322961191852498, -2.3604365756816215, -2.6349100561391725, -5.602498693674036, -4.174358237177665, -5.4911909691319165, -7.030639150170408, -0.934253630602904, 0.49388682589346794, -5.4911909691319165, -5.4911909691319165, -4.063050512635544, -5.4911909691319165, -3.0764643153474616, -5.600541182256382, -1.6483238588510898, -2.3604365756816215, -6.316568921922222, -4.174358237177665, -0.218225890937064, -0.934253630602904, -0.218225890937064, -5.602498693674036, -3.348980284387358, -1.6463663474334358, -0.218225890937064, 1.2079570541416536, -0.934253630602904, -2.362394087099276, -2.3604365756816215, -4.50264726042618, -3.0745068039298076, -1.6463663474334358, -2.3604365756816215, -4.88842846542585, -0.9322961191852498, -1.6463663474334358, -4.886470954008196, -2.3604365756816215, -3.0764643153474616, -0.9322961191852498, -0.934253630602904, -2.362394087099276, -3.0745068039298076, -0.9322961191852498, -3.350937795805012, -2.6368675675568265, -1.6463663474334358, -0.218225890937064, -2.362394087099276, -4.17240072576001, -2.3604365756816215, 0.49388682589346794, -4.174358237177665, -2.362394087099276, -0.2201834023547182, -0.218225890937064, -6.316568921922222, -2.3604365756816215, -2.362394087099276, -2.3604365756816215, -0.218225890937064, -4.88842846542585, -0.934253630602904, -0.934253630602904, -4.174358237177665, -1.6483238588510898, -2.3604365756816215, -3.7885770321779932, -2.3604365756816215, -4.88842846542585, -5.216717488674365, -5.218675000092019, -5.216717488674365, -5.216717488674365, -4.50264726042618, -4.88842846542585, -4.174358237177665, -4.17240072576001, -4.88842846542585, -1.2087271110604547, 0.49388682589346794, -4.50264726042618, -1.6463663474334358, -4.779078252301384, -4.17240072576001, -4.17240072576001, -2.7462177806812926, -4.886470954008196, -2.362394087099276, -4.174358237177665, -0.218225890937064, -0.2201834023547182, -0.2201834023547182, -4.77712074088373, -0.2201834023547182, -5.216717488674365, -3.0745068039298076, -0.218225890937064, -0.218225890937064, -3.4583304975118243, -2.362394087099276, -3.0764643153474616, -1.6463663474334358, -0.218225890937064, -1.2067695996428005, -0.2201834023547182, -4.504604771843834, -0.934253630602904, -4.886470954008196, -5.216717488674365, -4.50264726042618, -0.2201834023547182, -2.3604365756816215, -4.17240072576001, -0.218225890937064, -2.362394087099276, 0.49388682589346794, -4.88842846542585, -4.88842846542585, -7.030639150170408, -4.88842846542585, -7.030639150170408, -5.218675000092019, -1.6463663474334358, -2.362394087099276, -4.17240072576001, -2.7462177806812926, -2.362394087099276, -0.9322961191852498, -3.7885770321779932, -4.886470954008196, -4.886470954008196, -2.3604365756816215, -4.174358237177665, -6.314611410504568, -4.17240072576001, -4.886470954008196, -4.17240072576001, -4.174358237177665, -7.0286816387527535, -4.174358237177665, -4.88842846542585, -0.934253630602904, -1.9227973393086406, 0.49388682589346794, -4.17240072576001, -0.218225890937064, -7.030639150170408, -7.030639150170408, -7.0286816387527535, -1.6463663474334358, -0.2201834023547182, -4.174358237177665, -6.316568921922222, -4.779078252301384, -0.9322961191852498, -6.316568921922222, -5.600541182256382, -4.886470954008196, -2.3604365756816215, -0.9322961191852498, -6.314611410504568, -1.2087271110604547, -4.17240072576001, -4.17240072576001, -5.4911909691319165, -3.350937795805012, -2.362394087099276, -2.7462177806812926, -1.6463663474334358, 0.49388682589346794, -4.17240072576001, -3.0764643153474616, -0.2201834023547182, -4.88842846542585, -4.174358237177665, -4.88842846542585, -6.314611410504568, -0.218225890937064, -3.0745068039298076, -4.17240072576001, -3.7885770321779932, -4.17240072576001, -0.2201834023547182, -4.50264726042618, -2.362394087099276, -3.0745068039298076, -3.0745068039298076, -3.7885770321779932, -4.17240072576001, -3.0745068039298076, -4.17240072576001, -1.6463663474334358, -7.0286816387527535, -7.030639150170408, -4.17240072576001, -4.174358237177665, -5.600541182256382, -6.314611410504568, -4.174358237177665, -3.7905345435956472, -2.362394087099276, -3.0764643153474616, -0.218225890937064, -4.504604771843834, -3.7885770321779932, -2.362394087099276, -2.3604365756816215, -4.17240072576001, -4.17240072576001, -1.9208398278909864, -0.9322961191852498, -1.6483238588510898, -1.9227973393086406, -3.0764643153474616, -3.0745068039298076, -1.6483238588510898, -1.6463663474334358, -3.0764643153474616, -2.3604365756816215, -3.0745068039298076, -0.9322961191852498, -3.7885770321779932, -1.6463663474334358, -2.362394087099276, -3.0745068039298076, -4.17240072576001, -4.174358237177665, -4.88842846542585, -2.3604365756816215, -6.314611410504568, -5.602498693674036, -4.50264726042618, 0.49388682589346794, -4.504604771843834, -0.9322961191852498, -4.174358237177665, -0.9322961191852498, -0.9322961191852498, -4.504604771843834, -4.174358237177665, -0.9322961191852498, -3.7885770321779932, -2.3604365756816215, -2.362394087099276, -3.7885770321779932, -0.218225890937064, -2.3604365756816215, -4.17240072576001, -1.6483238588510898, -0.934253630602904, -2.3604365756816215, -6.314611410504568, -4.17240072576001, -1.6463663474334358, -0.934253630602904, -4.17240072576001, -4.17240072576001, -0.9322961191852498, -0.934253630602904, -3.350937795805012, -3.7905345435956472, -4.17240072576001, -4.174358237177665, -0.218225890937064, -4.50264726042618, -4.174358237177665, -3.0764643153474616, -4.886470954008196, -4.17240072576001, -1.6483238588510898, -1.9227973393086406, -3.7905345435956472, -1.6483238588510898, -7.0286816387527535, -2.3604365756816215, -3.0745068039298076, -4.174358237177665, -4.50264726042618, -3.0745068039298076, -3.7885770321779932, -2.6349100561391725, -4.174358237177665, 0.49388682589346794, -4.504604771843834, -2.362394087099276, -4.17240072576001, -4.17240072576001, -2.362394087099276, -4.174358237177665, -4.88842846542585, -4.17240072576001, -3.0745068039298076, -3.0745068039298076, -4.174358237177665, -4.174358237177665, -1.2067695996428005, -0.2201834023547182, -0.218225890937064, -1.9227973393086406, -4.88842846542585, -4.174358237177665, -3.0764643153474616, -3.0745068039298076, -2.7462177806812926, -3.0745068039298076, -4.88842846542585, -2.3604365756816215, -3.0764643153474616, -2.362394087099276, -4.17240072576001, -2.3604365756816215, -3.7885770321779932, -2.3604365756816215, -2.3604365756816215, -4.886470954008196, -3.0764643153474616, -0.218225890937064, -4.065008024053198, -4.17240072576001, -6.314611410504568, -7.0286816387527535, -7.74275186700094, -4.17240072576001, -3.0745068039298076, -3.0764643153474616, -3.7905345435956472, -3.0745068039298076, -6.316568921922222, -0.9322961191852498, -1.6483238588510898, -4.886470954008196, -1.6463663474334358, -3.0764643153474616, -3.7905345435956472, -4.88842846542585, -3.0745068039298076, -4.886470954008196, -3.4583304975118243, -3.0745068039298076, -2.362394087099276, -4.50264726042618, -2.362394087099276, 1.2099145655593075, -4.17240072576001, -2.362394087099276, -6.316568921922222, -2.3604365756816215, -3.7905345435956472, -3.350937795805012, -0.218225890937064, -2.3604365756816215, -4.17240072576001, -4.174358237177665, -6.316568921922222, -4.88842846542585, -4.88842846542585, -4.174358237177665, -0.218225890937064, -0.9322961191852498, -4.174358237177665, -4.17240072576001, -6.316568921922222, -4.17240072576001, -2.6368675675568265, -4.17240072576001, -4.17240072576001, -4.174358237177665, -4.174358237177665, -5.602498693674036, -7.030639150170408, 13.893901999983145, -0.934253630602904, -5.602498693674036, -0.934253630602904, 14.607972228231331, -6.316568921922222, -0.934253630602904, -0.934253630602904, -0.2201834023547182, -0.2201834023547182, -2.3604365756816215, -1.6483238588510898, -0.2201834023547182, -0.2201834023547182, -1.6483238588510898, -0.934253630602904, 13.893901999983145, -0.218225890937064, -0.2201834023547182, 13.893901999983145, -2.3604365756816215, -0.218225890937064, -1.2087271110604547, -0.2201834023547182, 14.607972228231331, -0.2201834023547182, -4.88842846542585, -0.2201834023547182, -0.218225890937064, 14.607972228231331, -0.218225890937064, 14.609929739648985, -1.9227973393086406, -5.600541182256382, -3.4602880089294783, 14.609929739648985, -0.2201834023547182, -7.0286816387527535, -4.88842846542585, -4.063050512635544, 13.893901999983145, -4.174358237177665, -1.6483238588510898, 1.2079570541416536, -0.2201834023547182, 14.607972228231331, 14.609929739648985, -3.4602880089294783, -5.600541182256382, -0.2201834023547182, -0.2201834023547182, -0.2201834023547182, -0.2201834023547182, -4.779078252301384, 1.2099145655593075, -0.934253630602904, -0.9322961191852498, -1.6483238588510898, -3.7885770321779932, -2.3604365756816215, -2.362394087099276, -0.934253630602904, -2.3604365756816215, -4.50264726042618, -2.3604365756816215, -2.362394087099276, -0.934253630602904, -1.9227973393086406, -0.9322961191852498, -3.348980284387358, -3.0764643153474616, -0.9322961191852498, -1.6483238588510898, -0.2201834023547182, -4.88842846542585, -4.886470954008196, -0.934253630602904, -1.9227973393086406, -6.316568921922222, -1.9227973393086406, -1.9208398278909864, -1.6483238588510898, 13.893901999983145, -2.3604365756816215, -5.602498693674036, -2.6368675675568265, 22.79275288975243, -2.3604365756816215, 1.2099145655593075, -1.6463663474334358, -3.7905345435956472, -3.0745068039298076, -0.934253630602904, -0.9322961191852498, 22.790795378334774, 22.79275288975243, 22.790795378334774, -0.934253630602904, -1.6463663474334358, 22.078682661504242, 22.790795378334774, 23.50486560658296, 22.79275288975243, 22.076725150086588, 22.79275288975243, 22.790795378334774, 20.648584693590216, 22.790795378334774, 22.79275288975243, 23.506823118000614, -1.6463663474334358, 23.506823118000614, -1.6483238588510898, -1.6483238588510898, 0.49584433731112193, -2.3604365756816215, 22.790795378334774, 22.790795378334774, 22.79275288975243, 21.364612433256056, -3.4602880089294783, -5.600541182256382, -4.174358237177665, -3.7885770321779932, -0.2201834023547182, 24.218935834831147, -3.0745068039298076, -0.2201834023547182, -5.216717488674365, -4.504604771843834, -0.934253630602904, -0.934253630602904, -4.50264726042618, 22.79275288975243, -4.50264726042618, -6.316568921922222, -2.3604365756816215, -3.0745068039298076, 23.506823118000614, -3.0745068039298076, -3.0745068039298076, -3.0745068039298076, -3.7885770321779932, -5.218675000092019, -4.50264726042618, -2.3604365756816215, -2.3604365756816215, -2.4612346592675896, -4.056455894514699, 14.342050877312278, -7.294602989671806, -2.188718690227693, -2.188718690227693, -2.9027889184758786, -2.1867611788100385, 3.1378235468830074, -1.4726909505618528, -1.4726909505618528, -4.054498383097045, -0.4861047532737704, -0.4861047532737704, 0.4101930013844968, -4.5863410849351505, -5.686192518183007, -6.400262746431193, -4.2580520616866355, -2.7205613920657976, 4.169039488418455, -3.299713433436803, -3.0252399529792524, -4.729811401350829, -3.739310181227438, -3.739310181227438, -3.739310181227438, -4.453380409475624, -5.16745063772381, -3.0252399529792524, -4.453380409475624, -2.3111697247310663, -3.739310181227438, -4.455337920893278, -3.739310181227438, -3.741267692645092, -4.839161614475295, 0.17210400590301625, -4.22362508812822, -0.5419662223451699, -4.937695316376406, -2.411660938049831, -1.695633198383991, -4.090664412668693, -3.2672439712960415, -2.278700262590305, 1.2916508786506247, -4.804734640916879, -4.755467789966325, -6.183608246462696, -1.5153631833915637, -4.75351027854867, 1.3409177296011798, -4.644160065424204, -4.041397561718139, 22.320993550088236, 21.60692332184005, 25.17727446308098, 24.463204234832794, 23.749134006584608, 24.463204234832794, 23.749134006584608, 22.320993550088236, 24.463204234832794, 23.749134006584608, 24.463204234832794, 23.749134006584608, 25.891344691329163, 24.463204234832794, 23.749134006584608, 23.749134006584608, 22.320993550088236, 22.320993550088236, 23.035063778336422, 21.60692332184005, 22.319036038670582, 22.320993550088236, 22.320993550088236, 23.035063778336422, 21.60692332184005, 22.319036038670582, 23.749134006584608, 22.319036038670582, 24.463204234832794, -3.930089837176018, -3.930089837176018, -3.932047348593672, -4.644160065424204, -1.0757664356009284, -5.360187805090044, -3.655616356718467, -1.5153631833915637, 0.6268475013529942, -3.655616356718467, -2.2274759002220956, -0.08722272689519192, 0.6268475013529942, 0.6268475013529942, -2.9415461284702813, -1.5134056719739095, 0.6288050127706482, -2.9435036398879353, 0.6268475013529942, -2.2294334116397496, 0.6268475013529942, -4.3716440963843075, -1.5153631833915637, 0.6268475013529942, 0.6268475013529942, -1.5134056719739095, -0.08526521547753771, -2.2274759002220956, 1.3428752410188338, -1.5134056719739095, 0.6268475013529942, -0.7993354437257237, 0.6268475013529942, 0.6268475013529942, 1.3428752410188338, 0.6268475013529942, 0.6268475013529942, 0.6268475013529942, -3.655616356718467, -1.5153631833915637, 12.049775258031199, -2.36898870522012, -0.22677802047556214, -5.336577342754984, -5.336577342754984, -4.622507114506798, -4.622507114506798], \"yaxis\": \"y\"}],\n",
              "                        {\"legend\": {\"tracegroupgap\": 0}, \"margin\": {\"t\": 60}, \"template\": {\"data\": {\"bar\": [{\"error_x\": {\"color\": \"#2a3f5f\"}, \"error_y\": {\"color\": \"#2a3f5f\"}, \"marker\": {\"line\": {\"color\": \"#E5ECF6\", \"width\": 0.5}}, \"type\": \"bar\"}], \"barpolar\": [{\"marker\": {\"line\": {\"color\": \"#E5ECF6\", \"width\": 0.5}}, \"type\": \"barpolar\"}], \"carpet\": [{\"aaxis\": {\"endlinecolor\": \"#2a3f5f\", \"gridcolor\": \"white\", \"linecolor\": \"white\", \"minorgridcolor\": \"white\", \"startlinecolor\": \"#2a3f5f\"}, \"baxis\": {\"endlinecolor\": \"#2a3f5f\", \"gridcolor\": \"white\", \"linecolor\": \"white\", \"minorgridcolor\": \"white\", \"startlinecolor\": \"#2a3f5f\"}, \"type\": \"carpet\"}], \"choropleth\": [{\"colorbar\": {\"outlinewidth\": 0, \"ticks\": \"\"}, \"type\": \"choropleth\"}], \"contour\": [{\"colorbar\": {\"outlinewidth\": 0, \"ticks\": \"\"}, \"colorscale\": [[0.0, \"#0d0887\"], [0.1111111111111111, \"#46039f\"], [0.2222222222222222, \"#7201a8\"], [0.3333333333333333, \"#9c179e\"], [0.4444444444444444, \"#bd3786\"], [0.5555555555555556, \"#d8576b\"], [0.6666666666666666, \"#ed7953\"], [0.7777777777777778, \"#fb9f3a\"], [0.8888888888888888, \"#fdca26\"], [1.0, \"#f0f921\"]], \"type\": \"contour\"}], \"contourcarpet\": [{\"colorbar\": {\"outlinewidth\": 0, \"ticks\": \"\"}, \"type\": \"contourcarpet\"}], \"heatmap\": [{\"colorbar\": {\"outlinewidth\": 0, \"ticks\": \"\"}, \"colorscale\": [[0.0, \"#0d0887\"], [0.1111111111111111, \"#46039f\"], [0.2222222222222222, \"#7201a8\"], [0.3333333333333333, \"#9c179e\"], [0.4444444444444444, \"#bd3786\"], [0.5555555555555556, \"#d8576b\"], [0.6666666666666666, \"#ed7953\"], [0.7777777777777778, \"#fb9f3a\"], [0.8888888888888888, \"#fdca26\"], [1.0, \"#f0f921\"]], \"type\": \"heatmap\"}], \"heatmapgl\": [{\"colorbar\": {\"outlinewidth\": 0, \"ticks\": \"\"}, \"colorscale\": [[0.0, \"#0d0887\"], [0.1111111111111111, \"#46039f\"], [0.2222222222222222, \"#7201a8\"], [0.3333333333333333, \"#9c179e\"], [0.4444444444444444, \"#bd3786\"], [0.5555555555555556, \"#d8576b\"], [0.6666666666666666, \"#ed7953\"], [0.7777777777777778, \"#fb9f3a\"], [0.8888888888888888, \"#fdca26\"], [1.0, \"#f0f921\"]], \"type\": \"heatmapgl\"}], \"histogram\": [{\"marker\": {\"colorbar\": {\"outlinewidth\": 0, \"ticks\": \"\"}}, \"type\": \"histogram\"}], \"histogram2d\": [{\"colorbar\": {\"outlinewidth\": 0, \"ticks\": \"\"}, \"colorscale\": [[0.0, \"#0d0887\"], [0.1111111111111111, \"#46039f\"], [0.2222222222222222, \"#7201a8\"], [0.3333333333333333, \"#9c179e\"], [0.4444444444444444, \"#bd3786\"], [0.5555555555555556, \"#d8576b\"], [0.6666666666666666, \"#ed7953\"], [0.7777777777777778, \"#fb9f3a\"], [0.8888888888888888, \"#fdca26\"], [1.0, \"#f0f921\"]], \"type\": \"histogram2d\"}], \"histogram2dcontour\": [{\"colorbar\": {\"outlinewidth\": 0, \"ticks\": \"\"}, \"colorscale\": [[0.0, \"#0d0887\"], [0.1111111111111111, \"#46039f\"], [0.2222222222222222, \"#7201a8\"], [0.3333333333333333, \"#9c179e\"], [0.4444444444444444, \"#bd3786\"], [0.5555555555555556, \"#d8576b\"], [0.6666666666666666, \"#ed7953\"], [0.7777777777777778, \"#fb9f3a\"], [0.8888888888888888, \"#fdca26\"], [1.0, \"#f0f921\"]], \"type\": \"histogram2dcontour\"}], \"mesh3d\": [{\"colorbar\": {\"outlinewidth\": 0, \"ticks\": \"\"}, \"type\": \"mesh3d\"}], \"parcoords\": [{\"line\": {\"colorbar\": {\"outlinewidth\": 0, \"ticks\": \"\"}}, \"type\": \"parcoords\"}], \"pie\": [{\"automargin\": true, \"type\": \"pie\"}], \"scatter\": [{\"marker\": {\"colorbar\": {\"outlinewidth\": 0, \"ticks\": \"\"}}, \"type\": \"scatter\"}], \"scatter3d\": [{\"line\": {\"colorbar\": {\"outlinewidth\": 0, \"ticks\": \"\"}}, \"marker\": {\"colorbar\": {\"outlinewidth\": 0, \"ticks\": \"\"}}, \"type\": \"scatter3d\"}], \"scattercarpet\": [{\"marker\": {\"colorbar\": {\"outlinewidth\": 0, \"ticks\": \"\"}}, \"type\": \"scattercarpet\"}], \"scattergeo\": [{\"marker\": {\"colorbar\": {\"outlinewidth\": 0, \"ticks\": \"\"}}, \"type\": \"scattergeo\"}], \"scattergl\": [{\"marker\": {\"colorbar\": {\"outlinewidth\": 0, \"ticks\": \"\"}}, \"type\": \"scattergl\"}], \"scattermapbox\": [{\"marker\": {\"colorbar\": {\"outlinewidth\": 0, \"ticks\": \"\"}}, \"type\": \"scattermapbox\"}], \"scatterpolar\": [{\"marker\": {\"colorbar\": {\"outlinewidth\": 0, \"ticks\": \"\"}}, \"type\": \"scatterpolar\"}], \"scatterpolargl\": [{\"marker\": {\"colorbar\": {\"outlinewidth\": 0, \"ticks\": \"\"}}, \"type\": \"scatterpolargl\"}], \"scatterternary\": [{\"marker\": {\"colorbar\": {\"outlinewidth\": 0, \"ticks\": \"\"}}, \"type\": \"scatterternary\"}], \"surface\": [{\"colorbar\": {\"outlinewidth\": 0, \"ticks\": \"\"}, \"colorscale\": [[0.0, \"#0d0887\"], [0.1111111111111111, \"#46039f\"], [0.2222222222222222, \"#7201a8\"], [0.3333333333333333, \"#9c179e\"], [0.4444444444444444, \"#bd3786\"], [0.5555555555555556, \"#d8576b\"], [0.6666666666666666, \"#ed7953\"], [0.7777777777777778, \"#fb9f3a\"], [0.8888888888888888, \"#fdca26\"], [1.0, \"#f0f921\"]], \"type\": \"surface\"}], \"table\": [{\"cells\": {\"fill\": {\"color\": \"#EBF0F8\"}, \"line\": {\"color\": \"white\"}}, \"header\": {\"fill\": {\"color\": \"#C8D4E3\"}, \"line\": {\"color\": \"white\"}}, \"type\": \"table\"}]}, \"layout\": {\"annotationdefaults\": {\"arrowcolor\": \"#2a3f5f\", \"arrowhead\": 0, \"arrowwidth\": 1}, \"coloraxis\": {\"colorbar\": {\"outlinewidth\": 0, \"ticks\": \"\"}}, \"colorscale\": {\"diverging\": [[0, \"#8e0152\"], [0.1, \"#c51b7d\"], [0.2, \"#de77ae\"], [0.3, \"#f1b6da\"], [0.4, \"#fde0ef\"], [0.5, \"#f7f7f7\"], [0.6, \"#e6f5d0\"], [0.7, \"#b8e186\"], [0.8, \"#7fbc41\"], [0.9, \"#4d9221\"], [1, \"#276419\"]], \"sequential\": [[0.0, \"#0d0887\"], [0.1111111111111111, \"#46039f\"], [0.2222222222222222, \"#7201a8\"], [0.3333333333333333, \"#9c179e\"], [0.4444444444444444, \"#bd3786\"], [0.5555555555555556, \"#d8576b\"], [0.6666666666666666, \"#ed7953\"], [0.7777777777777778, \"#fb9f3a\"], [0.8888888888888888, \"#fdca26\"], [1.0, \"#f0f921\"]], \"sequentialminus\": [[0.0, \"#0d0887\"], [0.1111111111111111, \"#46039f\"], [0.2222222222222222, \"#7201a8\"], [0.3333333333333333, \"#9c179e\"], [0.4444444444444444, \"#bd3786\"], [0.5555555555555556, \"#d8576b\"], [0.6666666666666666, \"#ed7953\"], [0.7777777777777778, \"#fb9f3a\"], [0.8888888888888888, \"#fdca26\"], [1.0, \"#f0f921\"]]}, \"colorway\": [\"#636efa\", \"#EF553B\", \"#00cc96\", \"#ab63fa\", \"#FFA15A\", \"#19d3f3\", \"#FF6692\", \"#B6E880\", \"#FF97FF\", \"#FECB52\"], \"font\": {\"color\": \"#2a3f5f\"}, \"geo\": {\"bgcolor\": \"white\", \"lakecolor\": \"white\", \"landcolor\": \"#E5ECF6\", \"showlakes\": true, \"showland\": true, \"subunitcolor\": \"white\"}, \"hoverlabel\": {\"align\": \"left\"}, \"hovermode\": \"closest\", \"mapbox\": {\"style\": \"light\"}, \"paper_bgcolor\": \"white\", \"plot_bgcolor\": \"#E5ECF6\", \"polar\": {\"angularaxis\": {\"gridcolor\": \"white\", \"linecolor\": \"white\", \"ticks\": \"\"}, \"bgcolor\": \"#E5ECF6\", \"radialaxis\": {\"gridcolor\": \"white\", \"linecolor\": \"white\", \"ticks\": \"\"}}, \"scene\": {\"xaxis\": {\"backgroundcolor\": \"#E5ECF6\", \"gridcolor\": \"white\", \"gridwidth\": 2, \"linecolor\": \"white\", \"showbackground\": true, \"ticks\": \"\", \"zerolinecolor\": \"white\"}, \"yaxis\": {\"backgroundcolor\": \"#E5ECF6\", \"gridcolor\": \"white\", \"gridwidth\": 2, \"linecolor\": \"white\", \"showbackground\": true, \"ticks\": \"\", \"zerolinecolor\": \"white\"}, \"zaxis\": {\"backgroundcolor\": \"#E5ECF6\", \"gridcolor\": \"white\", \"gridwidth\": 2, \"linecolor\": \"white\", \"showbackground\": true, \"ticks\": \"\", \"zerolinecolor\": \"white\"}}, \"shapedefaults\": {\"line\": {\"color\": \"#2a3f5f\"}}, \"ternary\": {\"aaxis\": {\"gridcolor\": \"white\", \"linecolor\": \"white\", \"ticks\": \"\"}, \"baxis\": {\"gridcolor\": \"white\", \"linecolor\": \"white\", \"ticks\": \"\"}, \"bgcolor\": \"#E5ECF6\", \"caxis\": {\"gridcolor\": \"white\", \"linecolor\": \"white\", \"ticks\": \"\"}}, \"title\": {\"x\": 0.05}, \"xaxis\": {\"automargin\": true, \"gridcolor\": \"white\", \"linecolor\": \"white\", \"ticks\": \"\", \"title\": {\"standoff\": 15}, \"zerolinecolor\": \"white\", \"zerolinewidth\": 2}, \"yaxis\": {\"automargin\": true, \"gridcolor\": \"white\", \"linecolor\": \"white\", \"ticks\": \"\", \"title\": {\"standoff\": 15}, \"zerolinecolor\": \"white\", \"zerolinewidth\": 2}}}, \"xaxis\": {\"anchor\": \"y\", \"domain\": [0.0, 1.0], \"title\": {\"text\": \"0\"}}, \"yaxis\": {\"anchor\": \"x\", \"domain\": [0.0, 1.0], \"title\": {\"text\": \"1\"}}},\n",
              "                        {\"responsive\": true}\n",
              "                    ).then(function(){\n",
              "                            \n",
              "var gd = document.getElementById('f7d66dea-8b21-47fa-9d02-b5f8078bc837');\n",
              "var x = new MutationObserver(function (mutations, observer) {{\n",
              "        var display = window.getComputedStyle(gd).display;\n",
              "        if (!display || display === 'none') {{\n",
              "            console.log([gd, 'removed!']);\n",
              "            Plotly.purge(gd);\n",
              "            observer.disconnect();\n",
              "        }}\n",
              "}});\n",
              "\n",
              "// Listen for the removal of the full notebook cells\n",
              "var notebookContainer = gd.closest('#notebook-container');\n",
              "if (notebookContainer) {{\n",
              "    x.observe(notebookContainer, {childList: true});\n",
              "}}\n",
              "\n",
              "// Listen for the clearing of the current output cell\n",
              "var outputEl = gd.closest('.output');\n",
              "if (outputEl) {{\n",
              "    x.observe(outputEl, {childList: true});\n",
              "}}\n",
              "\n",
              "                        })\n",
              "                };\n",
              "                \n",
              "            </script>\n",
              "        </div>\n",
              "</body>\n",
              "</html>"
            ]
          },
          "metadata": {
            "tags": []
          }
        }
      ]
    },
    {
      "cell_type": "markdown",
      "metadata": {
        "id": "Jn2KfRIXm5iC"
      },
      "source": [
        "### Figure above shows no clearly distinguishable clusters. This factoid tells us that the observations in the dataset cannot be grouped"
      ]
    },
    {
      "cell_type": "markdown",
      "metadata": {
        "id": "vf_CcFWqzs6L"
      },
      "source": [
        "### Logistic Regression"
      ]
    },
    {
      "cell_type": "code",
      "metadata": {
        "id": "KBQNiwQ-zr7n"
      },
      "source": [
        "X_train, X_test, y_train, y_test = train_test_split(features,enc_target,test_size=0.2,random_state=42)"
      ],
      "execution_count": 53,
      "outputs": []
    },
    {
      "cell_type": "code",
      "metadata": {
        "colab": {
          "base_uri": "https://localhost:8080/"
        },
        "id": "-CdV36brzsQY",
        "outputId": "971f8164-3a8d-4ef9-9dc4-68e9323dde44"
      },
      "source": [
        "model = LogisticRegression(max_iter=600)\n",
        "model.fit(X_train,y_train.values.ravel())\n",
        "prediction = model.predict(X_test)\n",
        "print(\"Validation accuracy\")\n",
        "print(accuracy_score(y_test, prediction))"
      ],
      "execution_count": 54,
      "outputs": [
        {
          "output_type": "stream",
          "text": [
            "Validation accuracy\n",
            "0.5736040609137056\n"
          ],
          "name": "stdout"
        }
      ]
    },
    {
      "cell_type": "markdown",
      "metadata": {
        "id": "ZNYbNW0bKLJ9"
      },
      "source": [
        "### An accuracy score of 0.6 is fair. Our model can predict fairly the state of patient"
      ]
    },
    {
      "cell_type": "markdown",
      "metadata": {
        "id": "A_BrLUZk4eqr"
      },
      "source": [
        "### Logistic regression after reducing our data (pca)"
      ]
    },
    {
      "cell_type": "code",
      "metadata": {
        "id": "1Vub_wq-4dUo"
      },
      "source": [
        "pca_x_train, pca_x_test,pca_y_train,pca_y_test = train_test_split(data_pca,enc_target,test_size = 0.2)"
      ],
      "execution_count": 55,
      "outputs": []
    },
    {
      "cell_type": "code",
      "metadata": {
        "colab": {
          "base_uri": "https://localhost:8080/"
        },
        "id": "2RyY4yS64z-f",
        "outputId": "dc403f18-8d26-4871-dde1-b4b4715926ec"
      },
      "source": [
        "pca_model = LogisticRegression()\n",
        "pca_model.fit(pca_x_train,pca_y_train.values.ravel())\n",
        "pca_prediction = pca_model.predict(pca_x_test)\n",
        "print(\"Validation accuracy\")\n",
        "print(accuracy_score(pca_y_test,pca_prediction))"
      ],
      "execution_count": 56,
      "outputs": [
        {
          "output_type": "stream",
          "text": [
            "Validation accuracy\n",
            "0.5972927241962775\n"
          ],
          "name": "stdout"
        }
      ]
    },
    {
      "cell_type": "markdown",
      "metadata": {
        "id": "fvTk5FBoKteV"
      },
      "source": [
        "### An accuracy 0.62 was obtained when my data was reduced, this was better compare to the non reduced data."
      ]
    },
    {
      "cell_type": "markdown",
      "metadata": {
        "id": "XOIUG-1y5FPv"
      },
      "source": [
        "#  Clustering (k means) with pca data"
      ]
    },
    {
      "cell_type": "code",
      "metadata": {
        "colab": {
          "base_uri": "https://localhost:8080/",
          "height": 530
        },
        "id": "Q6vTtCro5CTk",
        "outputId": "293e81b3-d199-425a-988d-e6d4403d3bc0"
      },
      "source": [
        "# Use Elbow method for finding the best k\n",
        "Inertia = []\n",
        "for i in range (1,10):\n",
        "  kmeans = KMeans(n_clusters = i, init = 'k-means++', random_state = 42)\n",
        "  kmeans.fit(data_pca)\n",
        "  Inertia.append(kmeans.inertia_)\n",
        "\n",
        "plt.figure(figsize=(10,8))\n",
        "plt.plot(range(1,10), Inertia, marker=\"o\")\n",
        "plt.title('Elbow method for finding the best k')\n",
        "plt.xlabel('Number of Clusters')\n",
        "plt.ylabel('Inertia')"
      ],
      "execution_count": 57,
      "outputs": [
        {
          "output_type": "execute_result",
          "data": {
            "text/plain": [
              "Text(0, 0.5, 'Inertia')"
            ]
          },
          "metadata": {
            "tags": []
          },
          "execution_count": 57
        },
        {
          "output_type": "display_data",
          "data": {
            "image/png": "[encoded data removed]",
            "text/plain": [
              "<Figure size 720x576 with 1 Axes>"
            ]
          },
          "metadata": {
            "tags": [],
            "needs_background": "light"
          }
        }
      ]
    },
    {
      "cell_type": "markdown",
      "metadata": {
        "id": "LfRhamEJLPbP"
      },
      "source": [
        "The best cluster is at 3 as that is where the elbow has no vivid change"
      ]
    },
    {
      "cell_type": "code",
      "metadata": {
        "colab": {
          "base_uri": "https://localhost:8080/"
        },
        "id": "GvMqcp6z65TR",
        "outputId": "271aece7-03d2-41eb-a082-2c69dad8e494"
      },
      "source": [
        "#Initialize the class object\n",
        "kmeans = KMeans(n_clusters=3)\n",
        " \n",
        "#predict the labels of clusters.\n",
        "kmeans.fit_predict(data_pca)\n",
        "#label = kmeans.predict()\n",
        " \n",
        "#print(label)"
      ],
      "execution_count": 58,
      "outputs": [
        {
          "output_type": "execute_result",
          "data": {
            "text/plain": [
              "array([1, 0, 1, ..., 0, 0, 0], dtype=int32)"
            ]
          },
          "metadata": {
            "tags": []
          },
          "execution_count": 58
        }
      ]
    },
    {
      "cell_type": "code",
      "metadata": {
        "id": "zOMQtIjtpPzx"
      },
      "source": [
        "data_pca_seg = pd.concat([patient_new.reset_index(drop=True), pd.DataFrame(data_pca)], axis =1)\n",
        "data_pca_seg.columns.values[-2:] = ['Component 1','Component 2'] \n",
        "data_pca_seg['Segment k-means PCA'] = kmeans.labels_"
      ],
      "execution_count": 59,
      "outputs": []
    },
    {
      "cell_type": "code",
      "metadata": {
        "colab": {
          "base_uri": "https://localhost:8080/",
          "height": 203
        },
        "id": "1v9D8M9Krsfv",
        "outputId": "6c5e973a-2dcc-44e9-aa13-e050fc1f8fa7"
      },
      "source": [
        "data_pca_seg.head()"
      ],
      "execution_count": 60,
      "outputs": [
        {
          "output_type": "execute_result",
          "data": {
            "text/html": [
              "<div>\n",
              "<style scoped>\n",
              "    .dataframe tbody tr th:only-of-type {\n",
              "        vertical-align: middle;\n",
              "    }\n",
              "\n",
              "    .dataframe tbody tr th {\n",
              "        vertical-align: top;\n",
              "    }\n",
              "\n",
              "    .dataframe thead th {\n",
              "        text-align: right;\n",
              "    }\n",
              "</style>\n",
              "<table border=\"1\" class=\"dataframe\">\n",
              "  <thead>\n",
              "    <tr style=\"text-align: right;\">\n",
              "      <th></th>\n",
              "      <th>sex</th>\n",
              "      <th>age</th>\n",
              "      <th>province</th>\n",
              "      <th>infection_case</th>\n",
              "      <th>confirmed_date</th>\n",
              "      <th>state</th>\n",
              "      <th>Component 1</th>\n",
              "      <th>Component 2</th>\n",
              "      <th>Segment k-means PCA</th>\n",
              "    </tr>\n",
              "  </thead>\n",
              "  <tbody>\n",
              "    <tr>\n",
              "      <th>0</th>\n",
              "      <td>1</td>\n",
              "      <td>50</td>\n",
              "      <td>15</td>\n",
              "      <td>32</td>\n",
              "      <td>2020-01-23</td>\n",
              "      <td>released</td>\n",
              "      <td>9.816569</td>\n",
              "      <td>-5.252884</td>\n",
              "      <td>1</td>\n",
              "    </tr>\n",
              "    <tr>\n",
              "      <th>1</th>\n",
              "      <td>1</td>\n",
              "      <td>30</td>\n",
              "      <td>15</td>\n",
              "      <td>32</td>\n",
              "      <td>2020-01-30</td>\n",
              "      <td>released</td>\n",
              "      <td>-10.128880</td>\n",
              "      <td>-3.824743</td>\n",
              "      <td>0</td>\n",
              "    </tr>\n",
              "    <tr>\n",
              "      <th>2</th>\n",
              "      <td>1</td>\n",
              "      <td>50</td>\n",
              "      <td>15</td>\n",
              "      <td>28</td>\n",
              "      <td>2020-01-30</td>\n",
              "      <td>released</td>\n",
              "      <td>10.109452</td>\n",
              "      <td>-1.298709</td>\n",
              "      <td>1</td>\n",
              "    </tr>\n",
              "    <tr>\n",
              "      <th>3</th>\n",
              "      <td>1</td>\n",
              "      <td>20</td>\n",
              "      <td>15</td>\n",
              "      <td>32</td>\n",
              "      <td>2020-01-30</td>\n",
              "      <td>released</td>\n",
              "      <td>-20.101605</td>\n",
              "      <td>-3.110673</td>\n",
              "      <td>0</td>\n",
              "    </tr>\n",
              "    <tr>\n",
              "      <th>4</th>\n",
              "      <td>0</td>\n",
              "      <td>20</td>\n",
              "      <td>15</td>\n",
              "      <td>28</td>\n",
              "      <td>2020-01-31</td>\n",
              "      <td>released</td>\n",
              "      <td>-19.805855</td>\n",
              "      <td>0.845460</td>\n",
              "      <td>0</td>\n",
              "    </tr>\n",
              "  </tbody>\n",
              "</table>\n",
              "</div>"
            ],
            "text/plain": [
              "   sex age  province  infection_case confirmed_date     state  Component 1  \\\n",
              "0    1  50        15              32     2020-01-23  released     9.816569   \n",
              "1    1  30        15              32     2020-01-30  released   -10.128880   \n",
              "2    1  50        15              28     2020-01-30  released    10.109452   \n",
              "3    1  20        15              32     2020-01-30  released   -20.101605   \n",
              "4    0  20        15              28     2020-01-31  released   -19.805855   \n",
              "\n",
              "   Component 2  Segment k-means PCA  \n",
              "0    -5.252884                    1  \n",
              "1    -3.824743                    0  \n",
              "2    -1.298709                    1  \n",
              "3    -3.110673                    0  \n",
              "4     0.845460                    0  "
            ]
          },
          "metadata": {
            "tags": []
          },
          "execution_count": 60
        }
      ]
    },
    {
      "cell_type": "code",
      "metadata": {
        "id": "HfB28K5Mr7th"
      },
      "source": [
        "data_pca_seg['Segment'] = data_pca_seg['Segment k-means PCA'].map({0:'first', 1:'second',2: 'third'})"
      ],
      "execution_count": 61,
      "outputs": []
    },
    {
      "cell_type": "code",
      "metadata": {
        "colab": {
          "base_uri": "https://localhost:8080/",
          "height": 600
        },
        "id": "tk49Bq90tOdW",
        "outputId": "e3af810b-cbea-4c2a-b7ad-cb1c500b1984"
      },
      "source": [
        "x_axis = data_pca_seg['Component 1']\n",
        "y_axis = data_pca_seg['Component 2']\n",
        "plt.figure(figsize = (10, 8))\n",
        "sns.scatterplot(x_axis, y_axis, hue = data_pca_seg['Segment'], palette = ['g','r','c'])\n",
        "plt.title('Clusters by PCA Components')\n",
        "plt.show()"
      ],
      "execution_count": 62,
      "outputs": [
        {
          "output_type": "stream",
          "text": [
            "/usr/local/lib/python3.7/dist-packages/seaborn/_decorators.py:43: FutureWarning:\n",
            "\n",
            "Pass the following variables as keyword args: x, y. From version 0.12, the only valid positional argument will be `data`, and passing other arguments without an explicit keyword will result in an error or misinterpretation.\n",
            "\n"
          ],
          "name": "stderr"
        },
        {
          "output_type": "display_data",
          "data": {
            "image/png": "[encoded data removed]",
            "text/plain": [
              "<Figure size 720x576 with 1 Axes>"
            ]
          },
          "metadata": {
            "tags": [],
            "needs_background": "light"
          }
        }
      ]
    },
    {
      "cell_type": "code",
      "metadata": {
        "colab": {
          "base_uri": "https://localhost:8080/"
        },
        "id": "z_UGBzP-8Jxt",
        "outputId": "c4d58172-9b13-47aa-e000-6172799f1c22"
      },
      "source": [
        "kmeans_silhouette = silhouette_score(data_pca, kmeans.labels_).round(2)\n",
        "kmeans_silhouette"
      ],
      "execution_count": 63,
      "outputs": [
        {
          "output_type": "execute_result",
          "data": {
            "text/plain": [
              "0.51"
            ]
          },
          "metadata": {
            "tags": []
          },
          "execution_count": 63
        }
      ]
    },
    {
      "cell_type": "markdown",
      "metadata": {
        "id": "WMmXp7zKxGT3"
      },
      "source": [
        "# Conclusion"
      ]
    },
    {
      "cell_type": "markdown",
      "metadata": {
        "id": "SCIPysSlxKVO"
      },
      "source": [
        "### There was statistical significant difference in the fatality rate for male and female. Also When the data was reduced by dimensionality reduction, there was no obvious seperability, this means clustering would not do well on the data. The acuracy of the model increased when we did PCA, this could be because the computation was increased."
      ]
    },
    {
      "cell_type": "markdown",
      "metadata": {
        "id": "A6CawkY1AFOX"
      },
      "source": [
        "#### 2016 US presidential elections"
      ]
    },
    {
      "cell_type": "markdown",
      "metadata": {
        "id": "5yNGk_3UAFOY"
      },
      "source": [
        "<div><img width=\"400px\" height=\"auto\" src=\"https://images.unsplash.com/photo-1583340806569-6da3d5ea9911?ixlib=rb-1.2.1&ixid=MXwxMjA3fDB8MHxwaG90by1wYWdlfHx8fGVufDB8fHw%3D&auto=format&fit=crop&w=1315&q=80\" /></div>"
      ]
    },
    {
      "cell_type": "markdown",
      "metadata": {
        "id": "v7Y-8fhmAFOY"
      },
      "source": [
        "In 2016, Donald Trump lost the popular vote, yet he won the electoral vote, securing 4 years in the Oval Office. This has been a shock to democrat supporters all around the world.\n",
        "\n",
        "Imagine you travel back in time to 2016. As soon as you step out of your time-capsule, the Democratic Party hires you. They want you, the best data scientist across the time and space, **to explain what happened and what should have been done differently**. They want you to **prepare them for 2020 presidential elections**.\n",
        "\n",
        "The Party has some tips for you - inspect the voters. What are Trump supporters? What do they feature? What are our supporters? Where should focus next? Any pro-trump states? Cities?\n",
        "\n",
        "The Democrats were kind of enough to share [a Kaggle dataset](https://www.kaggle.com/benhamner/2016-us-election) with you on 2016 U.S. elections. Use the data to help the Democrats."
      ]
    },
    {
      "cell_type": "markdown",
      "metadata": {
        "id": "p-POSJegAFOY"
      },
      "source": [
        "#### Fatal Police Shooting in United States"
      ]
    },
    {
      "cell_type": "markdown",
      "metadata": {
        "id": "X5YvbbJBAFOY"
      },
      "source": [
        "<div><img width=\"400px\" height=\"auto\" src=\"https://images.unsplash.com/photo-1606352466047-7cef02b312bb?ixlib=rb-1.2.1&ixid=MXwxMjA3fDB8MHxwaG90by1wYWdlfHx8fGVufDB8fHw%3D&auto=format&fit=crop&w=1662&q=80\" /></div>"
      ]
    },
    {
      "cell_type": "markdown",
      "metadata": {
        "id": "89x8mBHxAFOY"
      },
      "source": [
        "[Police brutality in the United States](https://en.wikipedia.org/wiki/Police_brutality_in_the_United_States) has been an nationwide issue since the 20th century. Public safety of U.S. citizens is a typical argument to justify the controversially high number of fatal shootings.\n",
        "\n",
        "You are a contractor to the United States Department of Justice. **You have been given a case to investigate fatal police shootings throughout the United States of America, provide a list of issues, and propose a plan on how to tackle these issues**.\n",
        "\n",
        "The department offered some tips - the public opinion indicates that there's something systematically fishy of police actions against civilians, some states differ from other, some cities are different from others, race equality is still an unanswered question, there's some talk about huge spendings on police, rumors about mental issues of those getting shot. Government is all about prioritizing - use the data to list issues with the police activity and propose a plan which issues to tackle first and how.\n",
        "\n",
        "Your are given 1 dataset to start with. Try to search for more datasets to enrich your data analysis."
      ]
    },
    {
      "cell_type": "markdown",
      "metadata": {
        "id": "RUwav143AFOZ"
      },
      "source": [
        "Here's the dataset:\n",
        "\n",
        "* [Fatal Police Shootings in the U.S. '15 - '17](https://www.kaggle.com/washingtonpost/police-shootings)."
      ]
    },
    {
      "cell_type": "markdown",
      "metadata": {
        "id": "VlCHgKJWAFOZ"
      },
      "source": [
        "## Evaluation Criteria"
      ]
    },
    {
      "cell_type": "markdown",
      "metadata": {
        "id": "qINCoTMeAFOa"
      },
      "source": [
        "- Code quality\n",
        "- Fulfillment of the idea\n",
        "- Adherence to the requirements\n",
        "- Delivery of the presentation\n",
        "\n",
        "#### Statistical hypothesis testing\n",
        "- Correct statistical test method is used, based on the situation.\n",
        "- Reasoning on chosen statistical significance level.\n",
        "\n",
        "#### Modeling\n",
        "- Both PCA and T-SNE algorithms are used."
      ]
    }
  ]
}