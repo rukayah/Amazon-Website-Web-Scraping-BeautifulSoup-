{
  "nbformat": 4,
  "nbformat_minor": 0,
  "metadata": {
    "colab": {
      "name": "Copy of 235.ipynb",
      "provenance": [],
      "include_colab_link": true
    },
    "kernelspec": {
      "display_name": "Python 3",
      "language": "python",
      "name": "python3"
    },
    "language_info": {
      "codemirror_mode": {
        "name": "ipython",
        "version": 3
      },
      "file_extension": ".py",
      "mimetype": "text/x-python",
      "name": "python",
      "nbconvert_exporter": "python",
      "pygments_lexer": "ipython3",
      "version": "3.7.6"
    }
  },
  "cells": [
    {
      "cell_type": "markdown",
      "metadata": {
        "id": "view-in-github",
        "colab_type": "text"
      },
      "source": [
        "<a href=\"https://colab.research.google.com/github/rukayah/Amazon_Project/blob/main/Copy_of_235.ipynb\" target=\"_parent\"><img src=\"https://colab.research.google.com/assets/colab-badge.svg\" alt=\"Open In Colab\"/></a>"
      ]
    },
    {
      "cell_type": "markdown",
      "metadata": {
        "id": "1_U-dwduTBYL"
      },
      "source": [
        "# Module 2: Data Engineering\n",
        "## Sprint 3: Deploying Machine Learning Models\n",
        "## Deploying machine learning model"
      ]
    },
    {
      "cell_type": "markdown",
      "metadata": {
        "id": "2L_J55ZNTBYN"
      },
      "source": [
        "## Background\n",
        "\n",
        "This is the last lesson of this sprint. You did a great job learning all about web applications, APIs, and application deployment. Now you should be able to create and deploy Flask based application. You also know how to serve trained models and make inference using REST API. Today you will have to test your learnings by completing the final task of this sprint - deploying a machine learning model and tracking its performance."
      ]
    },
    {
      "cell_type": "markdown",
      "metadata": {
        "id": "kMsO-YN0TBYO"
      },
      "source": [
        "## Predicting the price of house\n",
        "Today you will need to train a simple regression model that can predict house price. You will need to use [this](https://scipy-lectures.org/packages/scikit-learn/auto_examples/plot_boston_prediction.html) provided example and copy-paste the training code. This task is not about training the model but about what comes next in the whole pipeline, so you do not need to worry about this part.\n",
        "\n",
        "## Creating API using Flask\n",
        "This is the step you will need to create an API for the trained model. Create one `POST` type route to access the model. This route should return a JSON response that includes model predictions.\n",
        "\n",
        "## Creating the inference pipeline\n",
        "You will need to make sure that data is passed into the model in the right format. This is why you will need to create a function that transforms JSON type data acquired from request and transform it into the one that the model understands.\n",
        "\n",
        "## Loading model\n",
        "In this step, you will need to load the trained regressor. Use pickle for this task. You should also leave this file in the repository as it will be needed when deploying your application to Heroku.\n",
        "\n",
        "## Deploying the application\n",
        "The is the part where you will need to deploy your application using Heroku. This is the task you had to do in the last lesson. The steps you have to make should not be that different from those that you did when deploying Tesla Factory API. "
      ]
    },
    {
      "cell_type": "markdown",
      "metadata": {
        "id": "orLi-SKPTBYO"
      },
      "source": [
        "## Concepts to explore\n",
        "* Creating an API using Flask\n",
        "* Saving and loading trained models\n",
        "* Creating inference pipeline for the trained model\n",
        "* Deploying Flask application using Heroku"
      ]
    },
    {
      "cell_type": "markdown",
      "metadata": {
        "id": "YpEsvKHf8pKF"
      },
      "source": [
        "### Here is the link to my assessment"
      ]
    },
    {
      "cell_type": "markdown",
      "metadata": {
        "id": "2s-gkYZ48zzU"
      },
      "source": [
        "https://github.com/rukayah/Boston_model_deployment"
      ]
    },
    {
      "cell_type": "code",
      "metadata": {
        "colab": {
          "base_uri": "https://localhost:8080/"
        },
        "id": "oNkFelLbfRSb",
        "outputId": "bb237ca8-94d6-448d-90ec-75fbb9238cb9"
      },
      "source": [
        "import requests\n",
        "import json\n",
        "\n",
        "\n",
        "resp = requests.post(\"https://bosnprice.herokuapp.com/predict\", \n",
        "                     data=json.dumps({\"inputs\": [[6.320e-03, \n",
        "            1.800e+01, \n",
        "            2.310e+00, \n",
        "            0.000e+00, \n",
        "            5.380e-01, \n",
        "            6.575e+00, \n",
        "            6.520e+01, \n",
        "            4.090e+00, \n",
        "            1.000e+00, \n",
        "            2.960e+02,\n",
        "            1530e+01, \n",
        "            3.969e+02, \n",
        "            5.980e+00\n",
        "            ],\n",
        "            [0.02731,\n",
        "             0.00,\n",
        "             7.07,\n",
        "             0.00,\n",
        "             0.469,\n",
        "             6.421,\n",
        "             78.9,\n",
        "             4.9671,\n",
        "             2.00,\n",
        "             242,\n",
        "             17.8,\n",
        "             396.9,\n",
        "             9.14\n",
        "             ]]\n",
        "            }))\n",
        "print(resp.text)"
      ],
      "execution_count": 1,
      "outputs": [
        {
          "output_type": "stream",
          "text": [
            "{\"predicted_price\": [22.773209661537333, 21.271482619210875]}\n"
          ],
          "name": "stdout"
        }
      ]
    },
    {
      "cell_type": "markdown",
      "metadata": {
        "id": "IiChv-1aTBYP"
      },
      "source": [
        "## Requirements\n",
        "* Model should be trained to successfully perform house price prediction\n",
        "* API should be created that by getting data through `POST` requests, returns response (model's predictions)\n",
        "* Created application should be deployed accessible (provide link to it)"
      ]
    },
    {
      "cell_type": "markdown",
      "metadata": {
        "id": "WOgKz6t9TBYP"
      },
      "source": [
        "## Evaluation criteria\n",
        "1. Model is trained and is able to perform price predictions\n",
        "2. API is created using Flask\n",
        "3. Correct preprocessing pipeline is made\n",
        "4. Model is successfully loaded and is reachable through `POST` type route\n",
        "5. Application is deployed and reachable\n",
        "6. Provided source code meets the \"Clean Code\" standards. There are no secrets/passwords left in the code."
      ]
    },
    {
      "cell_type": "markdown",
      "metadata": {
        "id": "HO66SNScTBYQ"
      },
      "source": [
        "\n",
        "## Sample correction questions\n",
        "\n",
        "During a correction, you may get asked questions that test your understanding of covered topics.\n",
        "\n",
        "- What is a REST API? How can you use one to create an interface for your trained models?\n",
        "- How should you choose the right Cloud Services provider? Explain key differences between Heroku and GCP\n",
        "- Why is having an E2E Machine Learning Pipeline important? What are the main parts of it?\n",
        "- How should you ensure the security of the deployed applications?"
      ]
    },
    {
      "cell_type": "code",
      "metadata": {
        "id": "rOG_8sQwTBYQ"
      },
      "source": [
        ""
      ],
      "execution_count": null,
      "outputs": []
    }
  ]
}